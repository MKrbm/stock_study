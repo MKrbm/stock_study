{
 "cells": [
  {
   "cell_type": "markdown",
   "id": "fbf65a58-836c-456f-96ee-a301528eba90",
   "metadata": {},
   "source": [
    "# QuantConnect Boot Camp 101 / US Equities"
   ]
  },
  {
   "cell_type": "markdown",
   "id": "f0a40793-76ca-4c77-a757-8c9e3f312661",
   "metadata": {},
   "source": [
    "You can check the data availability and supported resolution here at https://www.quantconnect.com/data/tree"
   ]
  },
  {
   "cell_type": "markdown",
   "id": "5b9f55d3-e673-460a-8fe8-b5b81117c365",
   "metadata": {},
   "source": [
    "API can be accessed here at https://www.quantconnect.com/docs/algorithm-reference/overview"
   ]
  },
  {
   "cell_type": "markdown",
   "id": "2f63df81-be52-4b21-b914-c81ed949fec2",
   "metadata": {
    "tags": []
   },
   "source": [
    "## Note\n",
    "Market orders are filled immediately when the market is open. If you are using daily data, the order isn't processed until the next morning. Daily bars only arrive at your algorithm after the market has closed."
   ]
  },
  {
   "cell_type": "markdown",
   "id": "719b9f6f-8e67-419e-bc85-67ee91831095",
   "metadata": {},
   "source": [
    "## LEAN"
   ]
  },
  {
   "cell_type": "markdown",
   "id": "f45971ec-9b17-490d-9829-b5de7b6ccba2",
   "metadata": {},
   "source": [
    "https://github.com/QuantConnect/Lean  \n",
    "https://www.lean.io/"
   ]
  },
  {
   "cell_type": "markdown",
   "id": "73df2a5d-37d0-4644-8dce-da2563ba53fd",
   "metadata": {},
   "source": [
    "There are 100 different off-the-shelf indicator calculation functions."
   ]
  },
  {
   "cell_type": "markdown",
   "id": "cc801041",
   "metadata": {},
   "source": [
    "- SetWarmUp()\n",
    "  - \"Ward Up\" the algorithm with a \"fast-forward\"  \n",
    "  - This function must be called in Initialize() method\n",
    "  - Warm-up is best for quickly restoring the state of a fixed set of assets\n",
    "  - To quickly prepare our algorithm for trading we should set a warm-up period equal to our indicator window.\n",
    "- Liquidate()\n",
    "  - Liquidate all IBM in your portfolio\n",
    "  - ```self.Liquidate(\"IBM\")```\n",
    "- SetHoldings()\n",
    "  - Allocate 50% of portfolio value to IBM, but liquidate other holdings before starting\n",
    "  - ```self.SetHoldings(\"IBM\", 0.5, True)```\n",
    "- Time()\n",
    "  - We can use the algorithm self.Time property to track the current simulation time. \n",
    "  - In backtesting this fast-forwards through historical data.\n",
    "  - https://www.quantconnect.com/docs/key-concepts/understanding-time\n",
    "  - To limit trading to happen once per week\n",
    "    ```\n",
    "    if self.Time.weekday() != 1:\n",
    "      return\n",
    "    ```\n",
    "    Here using 1 (i.e., Tuesday) because, on Wednesday, Tuesday data is arriving."
   ]
  },
  {
   "cell_type": "markdown",
   "id": "75deb315",
   "metadata": {},
   "source": [
    "Document - Historical Data \n",
    "- https://www.quantconnect.com/docs/algorithm-reference/historical-data\n",
    "- All python history requests return a Data Frame, which has different columns depending on the type of data requested\n",
    "- Data is returned as TradeBars, QuoteBars, or Slice objects depending on how you request it and the data available for your security."
   ]
  },
  {
   "cell_type": "markdown",
   "id": "a92dc8fb",
   "metadata": {},
   "source": [
    "Universe Selection\n",
    "- Universe selection helps us avoid selection bias by algorithmically choosing our assets for trading. Selection bias is introduced when the asset selection is influenced by personal or non-random decision making, and often results in selecting winning stocks based on future knowledge.\n",
    "- https://www.quantconnect.com/docs/algorithm-reference/universes\n",
    "\n",
    "- The CoarseSelectionFilter function narrows the list of companies according to properties like price and volume. The filter needs to return a list of symbols.\n",
    "- When you return a symbol from the CoarseSelectionFilter, LEAN automatically subscribes to these symbols and adds them to our algorithm.\n",
    "- The universe selection is performed at midnight each day,"
   ]
  },
  {
   "cell_type": "markdown",
   "id": "f9efc888",
   "metadata": {},
   "source": [
    "Fading The Gap\n",
    "  The difference between the close price of the previous day and the opening price of the current day is referred to as a gap. Fading the gap is a strategy that monitors for a large gap down and buys stock assuming it will rebound.\n"
   ]
  },
  {
   "cell_type": "markdown",
   "id": "f2dabd2a",
   "metadata": {},
   "source": [
    "Time Slices\n",
    "  It contains all the data for a given moment in time.\n",
    "  https://www.quantconnect.com/docs/algorithm-reference/handling-data#Handling-Data-Time-Slices"
   ]
  },
  {
   "cell_type": "markdown",
   "id": "26559ee6",
   "metadata": {},
   "source": [
    "Manual Indicators\n",
    "- https://www.quantconnect.com/docs/algorithm-reference/indicators#Indicators-Reference-Table\n",
    "- There are also normal indicators that QC provide to us with easier use."
   ]
  },
  {
   "cell_type": "markdown",
   "id": "58e3084c",
   "metadata": {},
   "source": [
    "QuantConnect Algorithm Framework\n",
    "1. universe selection\n",
    "  - Select Data\n",
    "  - Universe Models programmatically select assets to avoid selection bias.\n",
    "  - https://www.quantconnect.com/docs/algorithm-framework/universe-selection\n",
    "  - Universe Models take in universe data, and return a list of symbol objects. \n",
    "  - QuantConnect provides dozens of premade universes for you to easily use in your algorithm.\n",
    "2. alpha creation\n",
    "  - Generate trade signals\n",
    "  - Alpha Models generate predictions on assets in our universe.\n",
    "  - https://www.quantconnect.com/docs/algorithm-framework/alpha-creation\n",
    "3. portfolio construction\n",
    "  - convert signals into Portfolio Targets \n",
    "  - Portfolio Targets hold a share quantity to hold\n",
    "  - Portfolio Construction Models optimize the allocatation of resources for best return.\n",
    "  - https://www.quantconnect.com/docs/algorithm-framework/portfolio-construction\n",
    "4. risk management\n",
    "  - ensure our targets are within safe risk parameters and adjust the portfolio targets accordingly\n",
    "  - Risk Models monitor real-time risk in the portfolio targets.\n",
    "  - https://www.quantconnect.com/docs/algorithm-framework/risk-management\n",
    "5. execution of trades\n",
    "  - fills the targets efficiently over time\n",
    "  - Execution Models efficiently break up orders and fill trades.\n",
    "  - The model is free to delay or spread out the fulfillment of orders as it sees fit.\n",
    "  - https://www.quantconnect.com/docs/algorithm-framework/execution"
   ]
  },
  {
   "cell_type": "markdown",
   "id": "008a9392",
   "metadata": {},
   "source": []
  }
 ],
 "metadata": {
  "kernelspec": {
   "display_name": "Python 3 (ipykernel)",
   "language": "python",
   "name": "python3"
  },
  "language_info": {
   "codemirror_mode": {
    "name": "ipython",
    "version": 3
   },
   "file_extension": ".py",
   "mimetype": "text/x-python",
   "name": "python",
   "nbconvert_exporter": "python",
   "pygments_lexer": "ipython3",
   "version": "3.8.10"
  }
 },
 "nbformat": 4,
 "nbformat_minor": 5
}
