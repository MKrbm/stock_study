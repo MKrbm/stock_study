{
 "cells": [
  {
   "cell_type": "markdown",
   "id": "fbf65a58-836c-456f-96ee-a301528eba90",
   "metadata": {},
   "source": [
    "# QuantConnect Boot Camp 101 / US Equities"
   ]
  },
  {
   "cell_type": "markdown",
   "id": "f0a40793-76ca-4c77-a757-8c9e3f312661",
   "metadata": {},
   "source": [
    "You can check the data availability and supported resolution here at https://www.quantconnect.com/data/tree"
   ]
  },
  {
   "cell_type": "markdown",
   "id": "5b9f55d3-e673-460a-8fe8-b5b81117c365",
   "metadata": {},
   "source": [
    "API can be accessed here at https://www.quantconnect.com/docs/algorithm-reference/overview"
   ]
  },
  {
   "cell_type": "markdown",
   "id": "2f63df81-be52-4b21-b914-c81ed949fec2",
   "metadata": {
    "tags": []
   },
   "source": [
    "## Note\n",
    "Market orders are filled immediately when the market is open. If you are using daily data, the order isn't processed until the next morning. Daily bars only arrive at your algorithm after the market has closed."
   ]
  },
  {
   "cell_type": "markdown",
   "id": "719b9f6f-8e67-419e-bc85-67ee91831095",
   "metadata": {},
   "source": [
    "## LEAN"
   ]
  },
  {
   "cell_type": "markdown",
   "id": "f45971ec-9b17-490d-9829-b5de7b6ccba2",
   "metadata": {},
   "source": [
    "https://github.com/QuantConnect/Lean  \n",
    "https://www.lean.io/"
   ]
  },
  {
   "cell_type": "code",
   "execution_count": null,
   "id": "73df2a5d-37d0-4644-8dce-da2563ba53fd",
   "metadata": {},
   "outputs": [],
   "source": []
  }
 ],
 "metadata": {
  "kernelspec": {
   "display_name": "Python 3 (ipykernel)",
   "language": "python",
   "name": "python3"
  },
  "language_info": {
   "codemirror_mode": {
    "name": "ipython",
    "version": 3
   },
   "file_extension": ".py",
   "mimetype": "text/x-python",
   "name": "python",
   "nbconvert_exporter": "python",
   "pygments_lexer": "ipython3",
   "version": "3.8.10"
  }
 },
 "nbformat": 4,
 "nbformat_minor": 5
}
