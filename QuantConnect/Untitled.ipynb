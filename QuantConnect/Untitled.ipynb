{
 "cells": [
  {
   "cell_type": "code",
   "execution_count": 1,
   "id": "c9f6b20b",
   "metadata": {},
   "outputs": [],
   "source": [
    "import csv"
   ]
  },
  {
   "cell_type": "code",
   "execution_count": 26,
   "id": "9d70d03d",
   "metadata": {},
   "outputs": [
    {
     "name": "stdout",
     "output_type": "stream",
     "text": [
      "[\"1INCHUSDT\",\"AAVEUSDT\",\"ACAUSDT\",\"ACHUSDT\",\"ACMUSDT\",\"ADAUSDT\",\"ADXUSDT\",\"AGLDUSDT\",\"AIONUSDT\",\"AKROUSDT\",\"ALCXUSDT\",\"ALGOUSDT\",\"ALICEUSDT\",\"ALPACAUSDT\",\"ALPHAUSDT\",\"AMPUSDT\",\"ANCUSDT\",\"ANKRUSDT\",\"ANTUSDT\",\"ANYUSDT\",\"API3USDT\",\"ARDRUSDT\",\"ARPAUSDT\",\"ARUSDT\",\"ASRUSDT\",\"ATAUSDT\",\"ATMUSDT\",\"ATOMUSDT\",\"AUCTIONUSDT\",\"AUDIOUSDT\",\"AUDUSDT\",\"AUTOUSDT\",\"AVAUSDT\",\"AVAXUSDT\",\"AXSUSDT\",\"BADGERUSDT\",\"BAKEUSDT\",\"BALUSDT\",\"BANDUSDT\",\"BARUSDT\",\"BATUSDT\",\"BCCUSDT\",\"BCHABCUSDT\",\"BCHSVUSDT\",\"BCHUSDT\",\"BEAMUSDT\",\"BEARUSDT\",\"BELUSDT\",\"BETAUSDT\",\"BICOUSDT\",\"BKRWUSDT\",\"BLZUSDT\",\"BNBBEARUSDT\",\"BNBBULLUSDT\",\"BNBUSDT\",\"BNTUSDT\",\"BNXUSDT\",\"BONDUSDT\",\"BTCSTUSDT\",\"BTCUSDT\",\"BTGUSDT\",\"BTSUSDT\",\"BTTCUSDT\",\"BTTUSDT\",\"BULLUSDT\",\"BURGERUSDT\",\"BUSDTRY\",\"BUSDUSDT\",\"BZRXUSDT\",\"C98USDT\",\"CAKEUSDT\",\"CELOUSDT\",\"CELRUSDT\",\"CFXUSDT\",\"CHESSUSDT\",\"CHRUSDT\",\"CHZUSDT\",\"CITYUSDT\",\"CKBUSDT\",\"CLVUSDT\",\"COCOSUSDT\",\"COMPUSDT\",\"COSUSDT\",\"COTIUSDT\",\"CRVUSDT\",\"CTKUSDT\",\"CTSIUSDT\",\"CTXCUSDT\",\"CVCUSDT\",\"CVPUSDT\",\"CVXUSDT\",\"DAIUSDT\",\"DARUSDT\",\"DASHUSDT\",\"DATAUSDT\",\"DCRUSDT\",\"DEGOUSDT\",\"DENTUSDT\",\"DEXEUSDT\",\"DFUSDT\",\"DGBUSDT\",\"DIAUSDT\",\"DNTUSDT\",\"DOCKUSDT\",\"DODOUSDT\",\"DOGEUSDT\",\"DOTUSDT\",\"DREPUSDT\",\"DUSKUSDT\",\"DYDXUSDT\",\"EGLDUSDT\",\"ELFUSDT\",\"ENJUSDT\",\"ENSUSDT\",\"EOSBEARUSDT\",\"EOSBULLUSDT\",\"EOSUSDT\",\"EPSUSDT\",\"ERDUSDT\",\"ERNUSDT\",\"ETCUSDT\",\"ETHBEARUSDT\",\"ETHBULLUSDT\",\"ETHUSDT\",\"EURUSDT\",\"FARMUSDT\",\"FETUSDT\",\"FIDAUSDT\",\"FILUSDT\",\"FIOUSDT\",\"FIROUSDT\",\"FISUSDT\",\"FLMUSDT\",\"FLOWUSDT\",\"FLUXUSDT\",\"FORTHUSDT\",\"FORUSDT\",\"FRONTUSDT\",\"FTMUSDT\",\"FTTUSDT\",\"FUNUSDT\",\"FXSUSDT\",\"GALAUSDT\",\"GBPUSDT\",\"GHSTUSDT\",\"GLMRUSDT\",\"GNOUSDT\",\"GRTUSDT\",\"GTCUSDT\",\"GTOUSDT\",\"GXSUSDT\",\"HARDUSDT\",\"HBARUSDT\",\"HCUSDT\",\"HIGHUSDT\",\"HIVEUSDT\",\"HNTUSDT\",\"HOTUSDT\",\"ICPUSDT\",\"ICXUSDT\",\"IDEXUSDT\",\"ILVUSDT\",\"IMXUSDT\",\"INJUSDT\",\"IOSTUSDT\",\"IOTAUSDT\",\"IOTXUSDT\",\"IRISUSDT\",\"JASMYUSDT\",\"JOEUSDT\",\"JSTUSDT\",\"JUVUSDT\",\"KAVAUSDT\",\"KEEPUSDT\",\"KEYUSDT\",\"KLAYUSDT\",\"KMDUSDT\",\"KNCUSDT\",\"KP3RUSDT\",\"KSMUSDT\",\"LAZIOUSDT\",\"LENDUSDT\",\"LINAUSDT\",\"LINKUSDT\",\"LITUSDT\",\"LOKAUSDT\",\"LPTUSDT\",\"LRCUSDT\",\"LSKUSDT\",\"LTCUSDT\",\"LTOUSDT\",\"LUNAUSDT\",\"MANAUSDT\",\"MASKUSDT\",\"MATICUSDT\",\"MBLUSDT\",\"MBOXUSDT\",\"MCOUSDT\",\"MCUSDT\",\"MDTUSDT\",\"MDXUSDT\",\"MFTUSDT\",\"MINAUSDT\",\"MIRUSDT\",\"MITHUSDT\",\"MKRUSDT\",\"MLNUSDT\",\"MOVRUSDT\",\"MTLUSDT\",\"NANOUSDT\",\"NBSUSDT\",\"NEARUSDT\",\"NEOUSDT\",\"NKNUSDT\",\"NMRUSDT\",\"NPXSUSDT\",\"NULSUSDT\",\"NUUSDT\",\"OCEANUSDT\",\"OGNUSDT\",\"OGUSDT\",\"OMGUSDT\",\"OMUSDT\",\"ONEUSDT\",\"ONGUSDT\",\"ONTUSDT\",\"OOKIUSDT\",\"ORNUSDT\",\"OXTUSDT\",\"PAXGUSDT\",\"PAXUSDT\",\"PEOPLEUSDT\",\"PERLUSDT\",\"PERPUSDT\",\"PHAUSDT\",\"PLAUSDT\",\"PNTUSDT\",\"POLSUSDT\",\"POLYUSDT\",\"PONDUSDT\",\"PORTOUSDT\",\"POWRUSDT\",\"PSGUSDT\",\"PUNDIXUSDT\",\"PYRUSDT\",\"QIUSDT\",\"QNTUSDT\",\"QTUMUSDT\",\"QUICKUSDT\",\"RADUSDT\",\"RAMPUSDT\",\"RAREUSDT\",\"RAYUSDT\",\"REEFUSDT\",\"RENUSDT\",\"REPUSDT\",\"REQUSDT\",\"RGTUSDT\",\"RIFUSDT\",\"RLCUSDT\",\"RNDRUSDT\",\"ROSEUSDT\",\"RSRUSDT\",\"RUNEUSDT\",\"RVNUSDT\",\"SANDUSDT\",\"SANTOSUSDT\",\"SCRTUSDT\",\"SCUSDT\",\"SFPUSDT\",\"SHIBUSDT\",\"SKLUSDT\",\"SLPUSDT\",\"SNXUSDT\",\"SOLUSDT\",\"SPELLUSDT\",\"SRMUSDT\",\"STMXUSDT\",\"STORJUSDT\",\"STORMUSDT\",\"STPTUSDT\",\"STRATUSDT\",\"STRAXUSDT\",\"STXUSDT\",\"SUNUSDT\",\"SUPERUSDT\",\"SUSDUSDT\",\"SUSHIUSDT\",\"SXPUSDT\",\"SYSUSDT\",\"TCTUSDT\",\"TFUELUSDT\",\"THETAUSDT\",\"TKOUSDT\",\"TLMUSDT\",\"TOMOUSDT\",\"TORNUSDT\",\"TRBUSDT\",\"TRIBEUSDT\",\"TROYUSDT\",\"TRUUSDT\",\"TRXUSDT\",\"TUSDUSDT\",\"TVKUSDT\",\"TWTUSDT\",\"UMAUSDT\",\"UNFIUSDT\",\"UNIUSDT\",\"USDCUSDT\",\"USDPUSDT\",\"USDSBUSDT\",\"USDSUSDT\",\"USDTBIDR\",\"USDTBKRW\",\"USDTBRL\",\"USDTBVND\",\"USDTDAI\",\"USDTGYEN\",\"USDTIDRT\",\"USDTNGN\",\"USDTRUB\",\"USDTTRY\",\"USDTUAH\",\"USDTZAR\",\"USTUSDT\",\"UTKUSDT\",\"VENUSDT\",\"VETUSDT\",\"VGXUSDT\",\"VIDTUSDT\",\"VITEUSDT\",\"VOXELUSDT\",\"VTHOUSDT\",\"WANUSDT\",\"WAVESUSDT\",\"WAXPUSDT\",\"WINGUSDT\",\"WINUSDT\",\"WNXMUSDT\",\"WOOUSDT\",\"WRXUSDT\",\"WTCUSDT\",\"XECUSDT\",\"XEMUSDT\",\"XLMUSDT\",\"XMRUSDT\",\"XNOUSDT\",\"XRPBEARUSDT\",\"XRPBULLUSDT\",\"XRPUSDT\",\"XTZUSDT\",\"XVGUSDT\",\"XVSUSDT\",\"XZCUSDT\",\"YFIIUSDT\",\"YFIUSDT\",\"YGGUSDT\",\"ZECUSDT\",\"ZENUSDT\",\"ZILUSDT\",\"ZRXUSDT\",]"
     ]
    }
   ],
   "source": [
    "with open('symbol-properties-database.csv') as f:\n",
    "    reader = csv.reader(f, delimiter=',')\n",
    "    print('[', end='')\n",
    "    for row in reader:\n",
    "        if len(row) >= 5:\n",
    "            if row[0] == \"binance\" and \"USDT\" in row[1]:\n",
    "                print('\"'+row[1]+'\"',end=',')\n",
    "    print(']', end='')"
   ]
  },
  {
   "cell_type": "code",
   "execution_count": null,
   "id": "9a3540a8",
   "metadata": {},
   "outputs": [],
   "source": []
  }
 ],
 "metadata": {
  "kernelspec": {
   "display_name": "Python 3 (ipykernel)",
   "language": "python",
   "name": "python3"
  },
  "language_info": {
   "codemirror_mode": {
    "name": "ipython",
    "version": 3
   },
   "file_extension": ".py",
   "mimetype": "text/x-python",
   "name": "python",
   "nbconvert_exporter": "python",
   "pygments_lexer": "ipython3",
   "version": "3.8.12"
  }
 },
 "nbformat": 4,
 "nbformat_minor": 5
}
