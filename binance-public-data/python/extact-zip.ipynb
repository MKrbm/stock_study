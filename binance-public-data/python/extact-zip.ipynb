{
 "cells": [
  {
   "cell_type": "code",
   "execution_count": 8,
   "id": "alert-retreat",
   "metadata": {},
   "outputs": [],
   "source": [
    "from zipfile import ZipFile\n",
    "from pathlib import Path\n",
    "path = Path(filename)\n",
    "filename = '/home/user/stock_study/binance-public-data/data/spot/daily/trades/BTCUSDT/BTCUSDT-trades-2022-02-25.zip'\n",
    "with ZipFile(filename, 'r') as zipObj:\n",
    "    zipObj.extractall(path.parent.absolute())"
   ]
  },
  {
   "cell_type": "code",
   "execution_count": 7,
   "id": "functioning-suite",
   "metadata": {},
   "outputs": [
    {
     "name": "stdout",
     "output_type": "stream",
     "text": [
      "/home/user/stock_study/binance-public-data/data/spot/daily/trades/BTCUSDT\n"
     ]
    }
   ],
   "source": [
    "\n",
    "print(path.parent.absolute())"
   ]
  },
  {
   "cell_type": "code",
   "execution_count": null,
   "id": "monetary-solid",
   "metadata": {},
   "outputs": [],
   "source": []
  }
 ],
 "metadata": {
  "kernelspec": {
   "display_name": "Python 3",
   "language": "python",
   "name": "python3"
  },
  "language_info": {
   "codemirror_mode": {
    "name": "ipython",
    "version": 3
   },
   "file_extension": ".py",
   "mimetype": "text/x-python",
   "name": "python",
   "nbconvert_exporter": "python",
   "pygments_lexer": "ipython3",
   "version": "3.7.9"
  }
 },
 "nbformat": 4,
 "nbformat_minor": 5
}
