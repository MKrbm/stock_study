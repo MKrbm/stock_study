{
 "cells": [
  {
   "cell_type": "code",
   "execution_count": 1,
   "id": "assigned-thompson",
   "metadata": {},
   "outputs": [
    {
     "name": "stdout",
     "output_type": "stream",
     "text": [
      "<Response [200]>\n",
      "515075\n",
      "<Response [200]>\n",
      "{'link': 'Link is preparing; please request later. Notice: when date range is very large (across months), we may need hours to generate.'}\n"
     ]
    }
   ],
   "source": [
    "from Futures_order_book_Level2_data_download import *"
   ]
  },
  {
   "cell_type": "code",
   "execution_count": 39,
   "id": "cognitive-tampa",
   "metadata": {},
   "outputs": [
    {
     "name": "stdout",
     "output_type": "stream",
     "text": [
      "<Response [200]>\n",
      "515079\n",
      "<Response [200]>\n",
      "{'link': 'Link is preparing; please request later. Notice: when date range is very large (across months), we may need hours to generate.'}\n"
     ]
    }
   ],
   "source": [
    "timestamp = str(\n",
    "    int(1000 * time.time())\n",
    ")  # current timestamp which serves as an input for the params variable\n",
    "paramsToObtainDownloadID = {\n",
    "    \"symbol\": symbol,\n",
    "    \"startTime\": startTime,\n",
    "    \"endTime\": endTime + 10000,\n",
    "    \"dataType\": dataType,\n",
    "    \"timestamp\": timestamp,\n",
    "}\n",
    "\n",
    "# Calls the \"post\" function to obtain the download ID for the specified symbol, dataType and time range combination\n",
    "path = \"%s/futuresHistDataId\" % S_URL_V1\n",
    "resultDownloadID = post(path, paramsToObtainDownloadID)\n",
    "print(resultDownloadID)\n",
    "downloadID = resultDownloadID.json()[\"id\"]\n",
    "print(downloadID)  # prints the download ID, example: {'id': 324225}\n",
    "\n",
    "\n",
    "# Calls the \"get\" function to obtain the download link for the specified symbol, dataType and time range combination\n",
    "paramsToObtainDownloadLink = {\"downloadId\": downloadID, \"timestamp\": timestamp}\n",
    "pathToObtainDownloadLink = \"%s/downloadLink\" % S_URL_V1\n",
    "resultToBeDownloaded = get(pathToObtainDownloadLink, paramsToObtainDownloadLink)\n",
    "print(resultToBeDownloaded)\n",
    "print(resultToBeDownloaded.json())"
   ]
  },
  {
   "cell_type": "code",
   "execution_count": 35,
   "id": "starting-fleece",
   "metadata": {},
   "outputs": [
    {
     "data": {
      "text/plain": [
       "1635561504914"
      ]
     },
     "execution_count": 35,
     "metadata": {},
     "output_type": "execute_result"
    }
   ],
   "source": [
    "startTime"
   ]
  },
  {
   "cell_type": "code",
   "execution_count": 31,
   "id": "prerequisite-short",
   "metadata": {},
   "outputs": [
    {
     "data": {
      "text/plain": [
       "'1647741957331'"
      ]
     },
     "execution_count": 31,
     "metadata": {},
     "output_type": "execute_result"
    }
   ],
   "source": [
    "timestamp"
   ]
  },
  {
   "cell_type": "code",
   "execution_count": 23,
   "id": "together-identity",
   "metadata": {},
   "outputs": [
    {
     "data": {
      "text/plain": [
       "1647741877.879789"
      ]
     },
     "execution_count": 23,
     "metadata": {},
     "output_type": "execute_result"
    }
   ],
   "source": [
    "time.time() - 100"
   ]
  },
  {
   "cell_type": "code",
   "execution_count": 38,
   "id": "signal-degree",
   "metadata": {},
   "outputs": [
    {
     "name": "stdout",
     "output_type": "stream",
     "text": [
      "dt_object = 2021-10-30 05:25:04.914000\n",
      "type(dt_object) = <class 'datetime.datetime'>\n"
     ]
    }
   ],
   "source": [
    "from datetime import datetime\n",
    "\n",
    "dt_object = datetime.fromtimestamp(startTime/1000 + 10000)\n",
    "\n",
    "print(\"dt_object =\", dt_object)\n",
    "print(\"type(dt_object) =\", type(dt_object))"
   ]
  },
  {
   "cell_type": "code",
   "execution_count": 10,
   "id": "known-notice",
   "metadata": {},
   "outputs": [
    {
     "data": {
      "text/plain": [
       "'https://api.binance.com/sapi/v1/downloadLink'"
      ]
     },
     "execution_count": 10,
     "metadata": {},
     "output_type": "execute_result"
    }
   ],
   "source": [
    "pathToObtainDownloadLink"
   ]
  },
  {
   "cell_type": "code",
   "execution_count": 13,
   "id": "pediatric-landing",
   "metadata": {},
   "outputs": [
    {
     "data": {
      "text/plain": [
       "'https://api.binance.com/sapi/v1'"
      ]
     },
     "execution_count": 13,
     "metadata": {},
     "output_type": "execute_result"
    }
   ],
   "source": [
    "S_URL_V1"
   ]
  },
  {
   "cell_type": "code",
   "execution_count": 18,
   "id": "constitutional-colors",
   "metadata": {},
   "outputs": [
    {
     "data": {
      "text/plain": [
       "'ADAUSDT'"
      ]
     },
     "execution_count": 18,
     "metadata": {},
     "output_type": "execute_result"
    }
   ],
   "source": [
    "symbol"
   ]
  }
 ],
 "metadata": {
  "kernelspec": {
   "display_name": "Python 3",
   "language": "python",
   "name": "python3"
  },
  "language_info": {
   "codemirror_mode": {
    "name": "ipython",
    "version": 3
   },
   "file_extension": ".py",
   "mimetype": "text/x-python",
   "name": "python",
   "nbconvert_exporter": "python",
   "pygments_lexer": "ipython3",
   "version": "3.7.9"
  }
 },
 "nbformat": 4,
 "nbformat_minor": 5
}
