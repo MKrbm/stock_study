{
 "cells": [
  {
   "cell_type": "code",
   "execution_count": 5,
   "id": "assigned-thompson",
   "metadata": {},
   "outputs": [],
   "source": [
    "from Futures_order_book_Level2_data_download import *"
   ]
  },
  {
   "cell_type": "code",
   "execution_count": 7,
   "id": "cognitive-tampa",
   "metadata": {},
   "outputs": [
    {
     "name": "stdout",
     "output_type": "stream",
     "text": [
      "<Response [200]>\n"
     ]
    },
    {
     "ename": "KeyError",
     "evalue": "'id'",
     "output_type": "error",
     "traceback": [
      "\u001b[0;31m---------------------------------------------------------------------------\u001b[0m",
      "\u001b[0;31mKeyError\u001b[0m                                  Traceback (most recent call last)",
      "\u001b[0;32m<ipython-input-7-4a6839959d06>\u001b[0m in \u001b[0;36m<module>\u001b[0;34m\u001b[0m\n\u001b[1;32m     14\u001b[0m \u001b[0mresultDownloadID\u001b[0m \u001b[0;34m=\u001b[0m \u001b[0mpost\u001b[0m\u001b[0;34m(\u001b[0m\u001b[0mpath\u001b[0m\u001b[0;34m,\u001b[0m \u001b[0mparamsToObtainDownloadID\u001b[0m\u001b[0;34m)\u001b[0m\u001b[0;34m\u001b[0m\u001b[0;34m\u001b[0m\u001b[0m\n\u001b[1;32m     15\u001b[0m \u001b[0mprint\u001b[0m\u001b[0;34m(\u001b[0m\u001b[0mresultDownloadID\u001b[0m\u001b[0;34m)\u001b[0m\u001b[0;34m\u001b[0m\u001b[0;34m\u001b[0m\u001b[0m\n\u001b[0;32m---> 16\u001b[0;31m \u001b[0mdownloadID\u001b[0m \u001b[0;34m=\u001b[0m \u001b[0mresultDownloadID\u001b[0m\u001b[0;34m.\u001b[0m\u001b[0mjson\u001b[0m\u001b[0;34m(\u001b[0m\u001b[0;34m)\u001b[0m\u001b[0;34m[\u001b[0m\u001b[0;34m\"id\"\u001b[0m\u001b[0;34m]\u001b[0m\u001b[0;34m\u001b[0m\u001b[0;34m\u001b[0m\u001b[0m\n\u001b[0m\u001b[1;32m     17\u001b[0m \u001b[0mprint\u001b[0m\u001b[0;34m(\u001b[0m\u001b[0mdownloadID\u001b[0m\u001b[0;34m)\u001b[0m  \u001b[0;31m# prints the download ID, example: {'id': 324225}\u001b[0m\u001b[0;34m\u001b[0m\u001b[0;34m\u001b[0m\u001b[0m\n\u001b[1;32m     18\u001b[0m \u001b[0;34m\u001b[0m\u001b[0m\n",
      "\u001b[0;31mKeyError\u001b[0m: 'id'"
     ]
    }
   ],
   "source": [
    "timestamp = str(\n",
    "    int(1000 * time.time())\n",
    ")  # current timestamp which serves as an input for the params variable\n",
    "paramsToObtainDownloadID = {\n",
    "    \"symbol\": symbol,\n",
    "    \"startTime\": startTime,\n",
    "    \"endTime\": endTime,\n",
    "    \"dataType\": dataType,\n",
    "    \"timestamp\": timestamp,\n",
    "}\n",
    "\n",
    "# Calls the \"post\" function to obtain the download ID for the specified symbol, dataType and time range combination\n",
    "path = \"%s/futuresHistDataId\" % S_URL_V1\n",
    "resultDownloadID = post(path, paramsToObtainDownloadID)\n",
    "print(resultDownloadID)\n",
    "downloadID = resultDownloadID.json()[\"id\"]\n",
    "print(downloadID)  # prints the download ID, example: {'id': 324225}\n",
    "\n",
    "\n",
    "# Calls the \"get\" function to obtain the download link for the specified symbol, dataType and time range combination\n",
    "paramsToObtainDownloadLink = {\"downloadId\": downloadID, \"timestamp\": timestamp}\n",
    "pathToObtainDownloadLink = \"%s/downloadLink\" % S_URL_V1\n",
    "resultToBeDownloaded = get(pathToObtainDownloadLink, paramsToObtainDownloadLink)\n",
    "print(resultToBeDownloaded)\n",
    "print(resultToBeDownloaded.json())"
   ]
  },
  {
   "cell_type": "code",
   "execution_count": 9,
   "id": "known-notice",
   "metadata": {},
   "outputs": [
    {
     "data": {
      "text/plain": [
       "'ADAUSDT'"
      ]
     },
     "execution_count": 9,
     "metadata": {},
     "output_type": "execute_result"
    }
   ],
   "source": [
    "symbol"
   ]
  }
 ],
 "metadata": {
  "kernelspec": {
   "display_name": "Python 3",
   "language": "python",
   "name": "python3"
  },
  "language_info": {
   "codemirror_mode": {
    "name": "ipython",
    "version": 3
   },
   "file_extension": ".py",
   "mimetype": "text/x-python",
   "name": "python",
   "nbconvert_exporter": "python",
   "pygments_lexer": "ipython3",
   "version": "3.7.9"
  }
 },
 "nbformat": 4,
 "nbformat_minor": 5
}
