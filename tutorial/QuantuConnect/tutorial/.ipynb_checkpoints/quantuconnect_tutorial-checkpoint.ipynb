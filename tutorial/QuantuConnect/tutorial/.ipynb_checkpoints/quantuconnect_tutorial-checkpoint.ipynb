{
 "cells": [
  {
   "cell_type": "markdown",
   "id": "convertible-sheriff",
   "metadata": {},
   "source": [
    "## 1"
   ]
  },
  {
   "cell_type": "markdown",
   "id": "criminal-reporter",
   "metadata": {},
   "source": [
    "### Logical operators"
   ]
  },
  {
   "cell_type": "code",
   "execution_count": 1,
   "id": "bacterial-blast",
   "metadata": {},
   "outputs": [
    {
     "name": "stdout",
     "output_type": "stream",
     "text": [
      "False\n",
      "True\n",
      "True\n",
      "True\n",
      "False\n",
      "True\n",
      "False\n",
      "True\n",
      "False\n"
     ]
    }
   ],
   "source": [
    "print(1 == 0)    # 1 equals 0\n",
    "print(1 == 1)    # 1 equals 1\n",
    "print(1 != 0)    # 1 is not equal to 0\n",
    "print(5 >= 5)    # 5 is greater than or equal to 5\n",
    "print(5 >= 6)    # 5 is greater than or equal to 6\n",
    "print(2 > 1 and 3 > 2)\n",
    "print(2 > 1 and 3 < 2)\n",
    "print(2 > 1 or  3 < 2)\n",
    "print(2 < 1 and 3 < 2)"
   ]
  },
  {
   "cell_type": "markdown",
   "id": "steady-sailing",
   "metadata": {},
   "source": [
    "### bitwise operators"
   ]
  },
  {
   "cell_type": "code",
   "execution_count": 2,
   "id": "wooden-technique",
   "metadata": {},
   "outputs": [
    {
     "name": "stdout",
     "output_type": "stream",
     "text": [
      "4\n",
      "16\n",
      "2\n"
     ]
    }
   ],
   "source": [
    "print(1 << 2) # 00001 -> 00100\n",
    "print(1 << 4) # 00001 -> 10000\n",
    "print(4 >> 1) # 00100 -> 00010"
   ]
  },
  {
   "cell_type": "markdown",
   "id": "gentle-repair",
   "metadata": {},
   "source": [
    "### some for loop techniques"
   ]
  },
  {
   "cell_type": "code",
   "execution_count": 3,
   "id": "functioning-sarah",
   "metadata": {},
   "outputs": [
    {
     "name": "stdout",
     "output_type": "stream",
     "text": [
      "['GOOG', 'FB', 'F', 'V', 'G', 'GE']\n"
     ]
    }
   ],
   "source": [
    "stocks = ['AAPL','GOOG','IBM','FB','F','V', 'G', 'GE']\n",
    "selected = ['AAPL','IBM']\n",
    "new_list = []\n",
    "for stock in stocks:\n",
    "    if stock not in selected:\n",
    "        new_list.append(stock)\n",
    "print(new_list) # print new_list"
   ]
  },
  {
   "cell_type": "code",
   "execution_count": 4,
   "id": "cognitive-calvin",
   "metadata": {},
   "outputs": [
    {
     "name": "stdout",
     "output_type": "stream",
     "text": [
      "[1, 4, 9, 16, 25]\n"
     ]
    }
   ],
   "source": [
    "squares = []\n",
    "for i in [1,2,3,4,5]:\n",
    "    squares.append(i**2)\n",
    "print(squares)"
   ]
  },
  {
   "cell_type": "markdown",
   "id": "blond-taste",
   "metadata": {},
   "source": [
    "### list comprehension"
   ]
  },
  {
   "cell_type": "code",
   "execution_count": 5,
   "id": "southern-projector",
   "metadata": {},
   "outputs": [
    {
     "name": "stdout",
     "output_type": "stream",
     "text": [
      "[1, 4, 9, 16, 25]\n"
     ]
    }
   ],
   "source": [
    "foo = [1,2,3,4,5]\n",
    "squares = [x**2 for x in foo] \n",
    "print(squares)"
   ]
  },
  {
   "cell_type": "code",
   "execution_count": 6,
   "id": "dirty-welsh",
   "metadata": {},
   "outputs": [
    {
     "name": "stdout",
     "output_type": "stream",
     "text": [
      "[(1, 3), (1, 4), (2, 3), (2, 1), (2, 4), (3, 1), (3, 4)]\n"
     ]
    }
   ],
   "source": [
    "print([(x, y) for x in [1,2,3] for y in [3,1,4] if x != y])"
   ]
  },
  {
   "cell_type": "markdown",
   "id": "sealed-soccer",
   "metadata": {},
   "source": [
    "# Functions"
   ]
  },
  {
   "cell_type": "code",
   "execution_count": 7,
   "id": "south-election",
   "metadata": {},
   "outputs": [
    {
     "name": "stdout",
     "output_type": "stream",
     "text": [
      "12\n",
      "Welcome to QuantConnect\n"
     ]
    }
   ],
   "source": [
    "def product(x,y):\n",
    "    return x*y\n",
    "\n",
    "def say_hi():\n",
    "    print(\"Welcome to QuantConnect\")\n",
    "print(product(3,4))\n",
    "say_hi()"
   ]
  },
  {
   "cell_type": "markdown",
   "id": "bigger-merit",
   "metadata": {},
   "source": [
    "### Built-in Function"
   ]
  },
  {
   "cell_type": "code",
   "execution_count": 8,
   "id": "durable-registrar",
   "metadata": {},
   "outputs": [
    {
     "name": "stdout",
     "output_type": "stream",
     "text": [
      "[0, 1, 2, 3, 4, 5, 6, 7, 8, 9]\n"
     ]
    }
   ],
   "source": [
    "print(list(range(10)))"
   ]
  },
  {
   "cell_type": "code",
   "execution_count": 9,
   "id": "accessible-terminal",
   "metadata": {},
   "outputs": [
    {
     "name": "stdout",
     "output_type": "stream",
     "text": [
      "The number of tickers is 8\n",
      "1 AAPL\n",
      "2 GOOGL\n",
      "3 IBM\n",
      "4 FB\n",
      "5 F\n",
      "6 V\n",
      "7 G\n",
      "8 GE\n"
     ]
    }
   ],
   "source": [
    "tickers = ['AAPL', 'GOOGL', 'IBM', 'FB', 'F', 'V', 'G', 'GE']\n",
    "print(\"The number of tickers is {}\".format(len(tickers)))\n",
    "for k in range(len(tickers)):\n",
    "    print(k + 1, tickers[k])"
   ]
  },
  {
   "cell_type": "markdown",
   "id": "positive-corps",
   "metadata": {},
   "source": [
    "### lambda"
   ]
  },
  {
   "cell_type": "code",
   "execution_count": 10,
   "id": "excited-richmond",
   "metadata": {},
   "outputs": [
    {
     "name": "stdout",
     "output_type": "stream",
     "text": [
      "9 10\n"
     ]
    }
   ],
   "source": [
    "f = lambda x: x**2\n",
    "g = lambda x,y:x+y\n",
    "print(f(3), g(4,6))"
   ]
  },
  {
   "cell_type": "markdown",
   "id": "realistic-panic",
   "metadata": {},
   "source": [
    "### map"
   ]
  },
  {
   "cell_type": "code",
   "execution_count": 11,
   "id": "sharp-beaver",
   "metadata": {},
   "outputs": [
    {
     "name": "stdout",
     "output_type": "stream",
     "text": [
      "[0, 1, 4, 9, 16, 25, 36, 49, 64, 81]\n",
      "[3, 5, 7, 9, 11, 13, 15, 17, 19, 21]\n"
     ]
    }
   ],
   "source": [
    "print(list(map(f, range(10))))\n",
    "print(list(map(g, range(10), range(3,13))))"
   ]
  },
  {
   "cell_type": "markdown",
   "id": "excess-affair",
   "metadata": {},
   "source": [
    "### sorted"
   ]
  },
  {
   "cell_type": "code",
   "execution_count": 12,
   "id": "mathematical-facility",
   "metadata": {},
   "outputs": [
    {
     "name": "stdout",
     "output_type": "stream",
     "text": [
      "[1, 2, 3, 4, 5]\n"
     ]
    }
   ],
   "source": [
    "print(sorted([5,2,3,4,1]))"
   ]
  },
  {
   "cell_type": "code",
   "execution_count": 13,
   "id": "tight-belgium",
   "metadata": {},
   "outputs": [
    {
     "name": "stdout",
     "output_type": "stream",
     "text": [
      "[('MSFT', 69), ('WMT', 75.32), ('AAPL', 144.09), ('FB', 150), ('GOOGL', 911.71)]\n"
     ]
    }
   ],
   "source": [
    "price_list = [('AAPL', 144.09), ('GOOGL', 911.71), ('MSFT', 69), ('FB', 150), ('WMT', 75.32)]\n",
    "print(sorted(price_list, key = lambda x: x[1]))"
   ]
  },
  {
   "cell_type": "code",
   "execution_count": 14,
   "id": "temporal-least",
   "metadata": {},
   "outputs": [
    {
     "name": "stdout",
     "output_type": "stream",
     "text": [
      "[('MSFT', 69), ('WMT', 75.32), ('AAPL', 144.09), ('FB', 150), ('GOOGL', 911.71)]\n"
     ]
    }
   ],
   "source": [
    "price_list = [('AAPL', 144.09), ('GOOGL', 911.71), ('MSFT', 69), ('FB', 150), ('WMT', 75.32)]\n",
    "price_list.sort(key = lambda x: x[1])\n",
    "print(price_list)"
   ]
  },
  {
   "cell_type": "markdown",
   "id": "hindu-fishing",
   "metadata": {},
   "source": [
    "### Object-Oriented Programming"
   ]
  },
  {
   "cell_type": "code",
   "execution_count": 15,
   "id": "advisory-script",
   "metadata": {},
   "outputs": [],
   "source": [
    "class Stock:\n",
    "    def __init__(self, ticker, open_, close, volume):\n",
    "        self.ticker = ticker\n",
    "        self.open = open_\n",
    "        self.close = close\n",
    "        self.volume = volume\n",
    "        self.rate_return = float(close)/open_ - 1\n",
    "\n",
    "    def update(self, open_, close):\n",
    "        self.open = open_\n",
    "        self.close = close\n",
    "        self.rate_return = float(self.close)/self.open - 1\n",
    "\n",
    "    def print_return(self):\n",
    "        print(self.rate_return)"
   ]
  },
  {
   "cell_type": "code",
   "execution_count": 16,
   "id": "blank-alexander",
   "metadata": {},
   "outputs": [],
   "source": [
    "apple  = Stock('AAPL', 143.69, 144.09, 20109375)\n",
    "google = Stock('GOOGL', 898.7, 911.7, 1561616)"
   ]
  },
  {
   "cell_type": "code",
   "execution_count": 17,
   "id": "environmental-european",
   "metadata": {},
   "outputs": [
    {
     "name": "stdout",
     "output_type": "stream",
     "text": [
      "AAPL\n",
      "GOOGL\n",
      "0.0027837706173012844\n"
     ]
    }
   ],
   "source": [
    "print(apple.ticker)\n",
    "print(google.ticker)\n",
    "apple.print_return()"
   ]
  },
  {
   "cell_type": "markdown",
   "id": "interior-banking",
   "metadata": {},
   "source": [
    "### class inheritance"
   ]
  },
  {
   "cell_type": "code",
   "execution_count": 18,
   "id": "round-wallpaper",
   "metadata": {},
   "outputs": [],
   "source": [
    "class Child(Stock):\n",
    "    def __init__(self, name):\n",
    "        self.name = name"
   ]
  },
  {
   "cell_type": "code",
   "execution_count": 19,
   "id": "seeing-morgan",
   "metadata": {},
   "outputs": [],
   "source": [
    "aa = Child('AA')"
   ]
  },
  {
   "cell_type": "code",
   "execution_count": 20,
   "id": "listed-howard",
   "metadata": {},
   "outputs": [
    {
     "data": {
      "text/plain": [
       "100"
      ]
     },
     "execution_count": 20,
     "metadata": {},
     "output_type": "execute_result"
    }
   ],
   "source": [
    "aa.update(100, 102)\n",
    "aa.open"
   ]
  },
  {
   "cell_type": "markdown",
   "id": "promising-thumb",
   "metadata": {},
   "source": [
    "## numpy"
   ]
  },
  {
   "cell_type": "code",
   "execution_count": 21,
   "id": "delayed-sharing",
   "metadata": {},
   "outputs": [],
   "source": [
    "import numpy as np"
   ]
  },
  {
   "cell_type": "markdown",
   "id": "adolescent-costs",
   "metadata": {},
   "source": [
    "### basic numpy arrays"
   ]
  },
  {
   "cell_type": "code",
   "execution_count": 22,
   "id": "hairy-broadcast",
   "metadata": {},
   "outputs": [
    {
     "name": "stdout",
     "output_type": "stream",
     "text": [
      "[143.73 145.83 143.68 144.02 143.5  142.62] <class 'numpy.ndarray'>\n"
     ]
    }
   ],
   "source": [
    "price_list = [143.73, 145.83, 143.68, 144.02, 143.5, 142.62]\n",
    "price_array = np.array(price_list)\n",
    "print(price_array, type(price_array))"
   ]
  },
  {
   "cell_type": "code",
   "execution_count": 23,
   "id": "smart-romantic",
   "metadata": {},
   "outputs": [
    {
     "name": "stdout",
     "output_type": "stream",
     "text": [
      "[[1 3]\n",
      " [2 4]] <class 'numpy.ndarray'>\n"
     ]
    }
   ],
   "source": [
    "Ar = np.array([[1,3], [2,4]])\n",
    "print(Ar, type(Ar))"
   ]
  },
  {
   "cell_type": "code",
   "execution_count": 24,
   "id": "announced-worst",
   "metadata": {},
   "outputs": [
    {
     "name": "stdout",
     "output_type": "stream",
     "text": [
      "(2, 2)\n"
     ]
    }
   ],
   "source": [
    "print(Ar.shape)"
   ]
  },
  {
   "cell_type": "code",
   "execution_count": 25,
   "id": "single-television",
   "metadata": {},
   "outputs": [
    {
     "name": "stdout",
     "output_type": "stream",
     "text": [
      "First column: [1 2]\n",
      "First row: [1 3]\n"
     ]
    }
   ],
   "source": [
    "print('First column:', Ar[:,0])\n",
    "print('First row:', Ar[0,:])"
   ]
  },
  {
   "cell_type": "markdown",
   "id": "functional-agent",
   "metadata": {},
   "source": [
    "### Functions for array"
   ]
  },
  {
   "cell_type": "code",
   "execution_count": 26,
   "id": "homeless-ontario",
   "metadata": {},
   "outputs": [
    {
     "name": "stdout",
     "output_type": "stream",
     "text": [
      "[4.96793654 4.98244156 4.9675886  4.96995218 4.96633504 4.96018375]\n",
      "[-0.70559472  0.96790038 -0.74012893 -0.47350161 -0.8485623  -0.94845689]\n"
     ]
    }
   ],
   "source": [
    "print(np.log(price_array))\n",
    "print(np.sin(price_array))"
   ]
  },
  {
   "cell_type": "markdown",
   "id": "operational-chemical",
   "metadata": {},
   "source": [
    "### some Statistic"
   ]
  },
  {
   "cell_type": "code",
   "execution_count": 27,
   "id": "regional-engineer",
   "metadata": {},
   "outputs": [
    {
     "name": "stdout",
     "output_type": "stream",
     "text": [
      "143.89666666666668\n",
      "863.38\n",
      "145.83\n"
     ]
    }
   ],
   "source": [
    "print(np.mean(price_array))\n",
    "print(np.sum(price_array))\n",
    "print(np.max(price_array))"
   ]
  },
  {
   "cell_type": "markdown",
   "id": "solid-seeking",
   "metadata": {},
   "source": [
    "## pandas"
   ]
  },
  {
   "cell_type": "code",
   "execution_count": 28,
   "id": "domestic-happiness",
   "metadata": {},
   "outputs": [],
   "source": [
    "import pandas as pd"
   ]
  },
  {
   "cell_type": "markdown",
   "id": "valued-obligation",
   "metadata": {},
   "source": [
    "### pandas.series"
   ]
  },
  {
   "cell_type": "code",
   "execution_count": 29,
   "id": "increased-league",
   "metadata": {},
   "outputs": [
    {
     "name": "stdout",
     "output_type": "stream",
     "text": [
      "0    143.73\n",
      "1    145.83\n",
      "2    143.68\n",
      "3    144.02\n",
      "4    143.50\n",
      "5    142.62\n",
      "dtype: float64\n"
     ]
    }
   ],
   "source": [
    "price = [143.73, 145.83, 143.68, 144.02, 143.5, 142.62]\n",
    "s = pd.Series(price)\n",
    "print(s)"
   ]
  },
  {
   "cell_type": "code",
   "execution_count": 30,
   "id": "representative-cardiff",
   "metadata": {},
   "outputs": [
    {
     "name": "stdout",
     "output_type": "stream",
     "text": [
      "a    143.73\n",
      "b    145.83\n",
      "c    143.68\n",
      "d    144.02\n",
      "e    143.50\n",
      "f    142.62\n",
      "dtype: float64\n"
     ]
    }
   ],
   "source": [
    "s = pd.Series(price, index = ['a', 'b', 'c', 'd', 'e', 'f'])\n",
    "print(s)"
   ]
  },
  {
   "cell_type": "code",
   "execution_count": 31,
   "id": "prerequisite-knowing",
   "metadata": {},
   "outputs": [
    {
     "name": "stdout",
     "output_type": "stream",
     "text": [
      "6    143.73\n",
      "5    145.83\n",
      "4    143.68\n",
      "3    144.02\n",
      "2    143.50\n",
      "1    142.62\n",
      "dtype: float64\n"
     ]
    }
   ],
   "source": [
    "s.index = [6,5,4,3,2,1]\n",
    "print(s)"
   ]
  },
  {
   "cell_type": "code",
   "execution_count": 32,
   "id": "early-token",
   "metadata": {},
   "outputs": [
    {
     "name": "stdout",
     "output_type": "stream",
     "text": [
      "5    145.83\n",
      "4    143.68\n",
      "3    144.02\n",
      "2    143.50\n",
      "1    142.62\n",
      "dtype: float64\n",
      "6    143.73\n",
      "5    145.83\n",
      "4    143.68\n",
      "3    144.02\n",
      "dtype: float64\n"
     ]
    }
   ],
   "source": [
    "print(s[1:])\n",
    "print(s[:-2])"
   ]
  },
  {
   "cell_type": "markdown",
   "id": "august-indiana",
   "metadata": {},
   "source": [
    "### We can get the statistical summaries of a series"
   ]
  },
  {
   "cell_type": "code",
   "execution_count": 33,
   "id": "joint-reservation",
   "metadata": {},
   "outputs": [
    {
     "name": "stdout",
     "output_type": "stream",
     "text": [
      "0    143.73\n",
      "1    145.83\n",
      "2    143.68\n",
      "3    144.02\n",
      "4    143.50\n",
      "5    142.62\n",
      "Name: Apple Prices, dtype: float64\n",
      "count      6.000000\n",
      "mean     143.896667\n",
      "std        1.059711\n",
      "min      142.620000\n",
      "25%      143.545000\n",
      "50%      143.705000\n",
      "75%      143.947500\n",
      "max      145.830000\n",
      "Name: Apple Prices, dtype: float64\n"
     ]
    }
   ],
   "source": [
    "s = pd.Series(price, name = 'Apple Prices')\n",
    "print(s)\n",
    "print(s.describe())"
   ]
  },
  {
   "cell_type": "markdown",
   "id": "synthetic-accessory",
   "metadata": {},
   "source": [
    "### Time index"
   ]
  },
  {
   "cell_type": "code",
   "execution_count": 34,
   "id": "naked-comparative",
   "metadata": {},
   "outputs": [
    {
     "name": "stdout",
     "output_type": "stream",
     "text": [
      "DatetimeIndex(['2017-01-01', '2017-01-02', '2017-01-03', '2017-01-04',\n",
      "               '2017-01-05', '2017-01-06'],\n",
      "              dtype='datetime64[ns]', freq='D')\n"
     ]
    }
   ],
   "source": [
    "time_index = pd.date_range('2017-01-01', periods = len(s), freq = 'D')\n",
    "print(time_index)\n",
    "s.index = time_index"
   ]
  },
  {
   "cell_type": "code",
   "execution_count": 35,
   "id": "bright-seller",
   "metadata": {},
   "outputs": [
    {
     "name": "stdout",
     "output_type": "stream",
     "text": [
      "2017-01-01    143.73\n",
      "2017-01-02    145.83\n",
      "2017-01-03    143.68\n",
      "2017-01-04    144.02\n",
      "2017-01-05    143.50\n",
      "2017-01-06    142.62\n",
      "Freq: D, Name: Apple Prices, dtype: float64\n"
     ]
    }
   ],
   "source": [
    "print(s)"
   ]
  },
  {
   "cell_type": "code",
   "execution_count": 36,
   "id": "median-elimination",
   "metadata": {},
   "outputs": [
    {
     "name": "stdout",
     "output_type": "stream",
     "text": [
      "143.68 143.68\n"
     ]
    }
   ],
   "source": [
    "print(s.iloc[2], s['2017-01-03 '])"
   ]
  },
  {
   "cell_type": "code",
   "execution_count": 37,
   "id": "referenced-progress",
   "metadata": {},
   "outputs": [
    {
     "name": "stdout",
     "output_type": "stream",
     "text": [
      "2017-01-03    143.68\n",
      "2017-01-04    144.02\n",
      "2017-01-05    143.50\n",
      "Freq: D, Name: Apple Prices, dtype: float64\n"
     ]
    }
   ],
   "source": [
    "print(s['2017-01-03' : '2017-01-05'])"
   ]
  },
  {
   "cell_type": "code",
   "execution_count": 38,
   "id": "united-judges",
   "metadata": {},
   "outputs": [
    {
     "data": {
      "text/plain": [
       "2017-01-01     True\n",
       "2017-01-02    False\n",
       "2017-01-03     True\n",
       "2017-01-04    False\n",
       "2017-01-05     True\n",
       "2017-01-06     True\n",
       "Freq: D, Name: Apple Prices, dtype: bool"
      ]
     },
     "execution_count": 38,
     "metadata": {},
     "output_type": "execute_result"
    }
   ],
   "source": [
    "s < np.mean(s)"
   ]
  },
  {
   "cell_type": "markdown",
   "id": "narrative-burden",
   "metadata": {},
   "source": [
    "## Rate of Return\n",
    "\n",
    "$$\n",
    "r = \\frac{p_t}{p_0} - 1 = \\frac{p_t - p_0}{p_0}\n",
    "$$"
   ]
  },
  {
   "cell_type": "code",
   "execution_count": 39,
   "id": "adjusted-forty",
   "metadata": {},
   "outputs": [
    {
     "name": "stdout",
     "output_type": "stream",
     "text": [
      "0.020000000000000018\n"
     ]
    }
   ],
   "source": [
    "import numpy as np\n",
    "rate_return = 102.0/100 - 1\n",
    "print(rate_return)"
   ]
  },
  {
   "cell_type": "markdown",
   "id": "unauthorized-groove",
   "metadata": {},
   "source": [
    "let's say the series of return is :\n",
    "$$\n",
    "\\mathbf{r} = \\{r_1, r_2, r_3, ..\\}\n",
    "$$\n",
    "cumulative return or overall return can be calculated by \n",
    "$$\n",
    "r = \\Pi_i(1+r_i) -1\n",
    "$$"
   ]
  },
  {
   "cell_type": "markdown",
   "id": "practical-patrol",
   "metadata": {},
   "source": [
    "Now consider the following situation: we have two strategies: strategy A and strategy B. \n",
    "\n",
    "We backtested strategy A for 1 years and the cumulative return is 20%, while we backtested strategy B for 3 months(one quarter) and the cumulative return is 6%. \n",
    "\n",
    "Which strategy has a high rate of return?\n",
    "\n",
    "Our commonly used method is to convert all the returns into compounding annual return, regardless of the investing horizon of each strategy.\n",
    "\n",
    "$$\n",
    "(1+0.06)^4 - 1 = r\\\\\n",
    "r = 0.262\n",
    "$$"
   ]
  },
  {
   "cell_type": "markdown",
   "id": "computational-nicholas",
   "metadata": {},
   "source": [
    "## Logarithm Return"
   ]
  },
  {
   "cell_type": "markdown",
   "id": "forbidden-rochester",
   "metadata": {},
   "source": [
    "### Nominal return\n",
    "In the above example, strategy A has $6%$ return over three months. Nominally, the annual return would be $4*6%$ = 24%. This nominal annual interest rate is called the **stated annual interest rate**.\n",
    "\n",
    "It is calculated as the periodic interest rate times (6%) the number of periods per year (4). \n",
    "\n",
    "It works according to the simple interest and does not take into account the compounding periods, while the effective annual interest rate is around **26%** as we calculated above and it does account for **intra-year compounding**.\n",
    "$$\n",
    "r_{\\mathcal{effective}} = (1 + \\frac{r_\\mathcal{nominal}}{n})^n - 1\n",
    "$$\n",
    "\n",
    "Now imagine the price of asset is changing every second or even every millisecond, the period of compounding n approaches infinite. This is called **continuous compounding**. The calculation formula is given below:\n",
    "\n",
    "$$\n",
    "\\lim_{n \\to +\\infty}(1+\\frac{r}{n})^n = e^r\n",
    "$$\n",
    "\n",
    "Therefore, \n",
    "$$\n",
    "e^{r_\\mathcal{nominal}} = 1 + r_{\\mathcal{effective}} = \\frac{p_t}{p_0}\n",
    "$$ \n",
    "then, we take $ln$ on both side of the equation:\n",
    "$$\n",
    "r_\\mathcal{nominal} = lnp_t - lnp_0\n",
    "$$\n",
    "Here we got the **logarithmic return**, or **continuously compounded return**.\n",
    "if $r_\\mathcal{nominal} \\ll 1$, then, $r_\\mathcal{effective} = r_\\mathcal{nominal}$\n"
   ]
  },
  {
   "cell_type": "code",
   "execution_count": 5,
   "id": "earned-printing",
   "metadata": {},
   "outputs": [
    {
     "ename": "ForbiddenError",
     "evalue": "(Status 403) (Quandl Error QEPx04) You must confirm your email address before accessing data. Please check your inbox for a confirmation email from us.",
     "output_type": "error",
     "traceback": [
      "\u001b[0;31m---------------------------------------------------------------------------\u001b[0m",
      "\u001b[0;31mForbiddenError\u001b[0m                            Traceback (most recent call last)",
      "\u001b[0;32m<ipython-input-5-5b027d08e7b0>\u001b[0m in \u001b[0;36m<module>\u001b[0;34m\u001b[0m\n\u001b[1;32m      4\u001b[0m \u001b[0mquandl\u001b[0m\u001b[0;34m.\u001b[0m\u001b[0mApiConfig\u001b[0m\u001b[0;34m.\u001b[0m\u001b[0mapi_key\u001b[0m \u001b[0;34m=\u001b[0m \u001b[0;34m'SAfniVERzMmdSb_d1zw8'\u001b[0m\u001b[0;34m\u001b[0m\u001b[0;34m\u001b[0m\u001b[0m\n\u001b[1;32m      5\u001b[0m \u001b[0;31m#get quandl data\u001b[0m\u001b[0;34m\u001b[0m\u001b[0;34m\u001b[0m\u001b[0;34m\u001b[0m\u001b[0m\n\u001b[0;32m----> 6\u001b[0;31m \u001b[0maapl_table\u001b[0m \u001b[0;34m=\u001b[0m \u001b[0mquandl\u001b[0m\u001b[0;34m.\u001b[0m\u001b[0mget\u001b[0m\u001b[0;34m(\u001b[0m\u001b[0;34m'WIKI/AAPL'\u001b[0m\u001b[0;34m)\u001b[0m\u001b[0;34m\u001b[0m\u001b[0;34m\u001b[0m\u001b[0m\n\u001b[0m\u001b[1;32m      7\u001b[0m \u001b[0maapl\u001b[0m \u001b[0;34m=\u001b[0m \u001b[0maapl_table\u001b[0m\u001b[0;34m.\u001b[0m\u001b[0mloc\u001b[0m\u001b[0;34m[\u001b[0m\u001b[0;34m'2017-3'\u001b[0m\u001b[0;34m,\u001b[0m\u001b[0;34m[\u001b[0m\u001b[0;34m'Open'\u001b[0m\u001b[0;34m,\u001b[0m\u001b[0;34m'Close'\u001b[0m\u001b[0;34m]\u001b[0m\u001b[0;34m]\u001b[0m\u001b[0;34m\u001b[0m\u001b[0;34m\u001b[0m\u001b[0m\n\u001b[1;32m      8\u001b[0m \u001b[0;31m#take log return\u001b[0m\u001b[0;34m\u001b[0m\u001b[0;34m\u001b[0m\u001b[0;34m\u001b[0m\u001b[0m\n",
      "\u001b[0;32m~/miniconda3/envs/stock/lib/python3.7/site-packages/quandl/get.py\u001b[0m in \u001b[0;36mget\u001b[0;34m(dataset, **kwargs)\u001b[0m\n\u001b[1;32m     46\u001b[0m         \u001b[0;32mif\u001b[0m \u001b[0mdataset_args\u001b[0m\u001b[0;34m[\u001b[0m\u001b[0;34m'column_index'\u001b[0m\u001b[0;34m]\u001b[0m \u001b[0;32mis\u001b[0m \u001b[0;32mnot\u001b[0m \u001b[0;32mNone\u001b[0m\u001b[0;34m:\u001b[0m\u001b[0;34m\u001b[0m\u001b[0;34m\u001b[0m\u001b[0m\n\u001b[1;32m     47\u001b[0m             \u001b[0mkwargs\u001b[0m\u001b[0;34m.\u001b[0m\u001b[0mupdate\u001b[0m\u001b[0;34m(\u001b[0m\u001b[0;34m{\u001b[0m\u001b[0;34m'column_index'\u001b[0m\u001b[0;34m:\u001b[0m \u001b[0mdataset_args\u001b[0m\u001b[0;34m[\u001b[0m\u001b[0;34m'column_index'\u001b[0m\u001b[0;34m]\u001b[0m\u001b[0;34m}\u001b[0m\u001b[0;34m)\u001b[0m\u001b[0;34m\u001b[0m\u001b[0;34m\u001b[0m\u001b[0m\n\u001b[0;32m---> 48\u001b[0;31m         \u001b[0mdata\u001b[0m \u001b[0;34m=\u001b[0m \u001b[0mDataset\u001b[0m\u001b[0;34m(\u001b[0m\u001b[0mdataset_args\u001b[0m\u001b[0;34m[\u001b[0m\u001b[0;34m'code'\u001b[0m\u001b[0;34m]\u001b[0m\u001b[0;34m)\u001b[0m\u001b[0;34m.\u001b[0m\u001b[0mdata\u001b[0m\u001b[0;34m(\u001b[0m\u001b[0mparams\u001b[0m\u001b[0;34m=\u001b[0m\u001b[0mkwargs\u001b[0m\u001b[0;34m,\u001b[0m \u001b[0mhandle_column_not_found\u001b[0m\u001b[0;34m=\u001b[0m\u001b[0;32mTrue\u001b[0m\u001b[0;34m)\u001b[0m\u001b[0;34m\u001b[0m\u001b[0;34m\u001b[0m\u001b[0m\n\u001b[0m\u001b[1;32m     49\u001b[0m     \u001b[0;31m# Array\u001b[0m\u001b[0;34m\u001b[0m\u001b[0;34m\u001b[0m\u001b[0;34m\u001b[0m\u001b[0m\n\u001b[1;32m     50\u001b[0m     \u001b[0;32melif\u001b[0m \u001b[0misinstance\u001b[0m\u001b[0;34m(\u001b[0m\u001b[0mdataset\u001b[0m\u001b[0;34m,\u001b[0m \u001b[0mlist\u001b[0m\u001b[0;34m)\u001b[0m\u001b[0;34m:\u001b[0m\u001b[0;34m\u001b[0m\u001b[0;34m\u001b[0m\u001b[0m\n",
      "\u001b[0;32m~/miniconda3/envs/stock/lib/python3.7/site-packages/quandl/model/dataset.py\u001b[0m in \u001b[0;36mdata\u001b[0;34m(self, **options)\u001b[0m\n\u001b[1;32m     45\u001b[0m         \u001b[0mupdated_options\u001b[0m \u001b[0;34m=\u001b[0m \u001b[0mUtil\u001b[0m\u001b[0;34m.\u001b[0m\u001b[0mmerge_options\u001b[0m\u001b[0;34m(\u001b[0m\u001b[0;34m'params'\u001b[0m\u001b[0;34m,\u001b[0m \u001b[0mparams\u001b[0m\u001b[0;34m,\u001b[0m \u001b[0;34m**\u001b[0m\u001b[0moptions\u001b[0m\u001b[0;34m)\u001b[0m\u001b[0;34m\u001b[0m\u001b[0;34m\u001b[0m\u001b[0m\n\u001b[1;32m     46\u001b[0m         \u001b[0;32mtry\u001b[0m\u001b[0;34m:\u001b[0m\u001b[0;34m\u001b[0m\u001b[0;34m\u001b[0m\u001b[0m\n\u001b[0;32m---> 47\u001b[0;31m             \u001b[0;32mreturn\u001b[0m \u001b[0mData\u001b[0m\u001b[0;34m.\u001b[0m\u001b[0mall\u001b[0m\u001b[0;34m(\u001b[0m\u001b[0;34m**\u001b[0m\u001b[0mupdated_options\u001b[0m\u001b[0;34m)\u001b[0m\u001b[0;34m\u001b[0m\u001b[0;34m\u001b[0m\u001b[0m\n\u001b[0m\u001b[1;32m     48\u001b[0m         \u001b[0;32mexcept\u001b[0m \u001b[0mNotFoundError\u001b[0m\u001b[0;34m:\u001b[0m\u001b[0;34m\u001b[0m\u001b[0;34m\u001b[0m\u001b[0m\n\u001b[1;32m     49\u001b[0m             \u001b[0;32mif\u001b[0m \u001b[0mhandle_not_found_error\u001b[0m\u001b[0;34m:\u001b[0m\u001b[0;34m\u001b[0m\u001b[0;34m\u001b[0m\u001b[0m\n",
      "\u001b[0;32m~/miniconda3/envs/stock/lib/python3.7/site-packages/quandl/operations/list.py\u001b[0m in \u001b[0;36mall\u001b[0;34m(cls, **options)\u001b[0m\n\u001b[1;32m     13\u001b[0m             \u001b[0moptions\u001b[0m\u001b[0;34m[\u001b[0m\u001b[0;34m'params'\u001b[0m\u001b[0;34m]\u001b[0m \u001b[0;34m=\u001b[0m \u001b[0;34m{\u001b[0m\u001b[0;34m}\u001b[0m\u001b[0;34m\u001b[0m\u001b[0;34m\u001b[0m\u001b[0m\n\u001b[1;32m     14\u001b[0m         \u001b[0mpath\u001b[0m \u001b[0;34m=\u001b[0m \u001b[0mUtil\u001b[0m\u001b[0;34m.\u001b[0m\u001b[0mconstructed_path\u001b[0m\u001b[0;34m(\u001b[0m\u001b[0mcls\u001b[0m\u001b[0;34m.\u001b[0m\u001b[0mlist_path\u001b[0m\u001b[0;34m(\u001b[0m\u001b[0;34m)\u001b[0m\u001b[0;34m,\u001b[0m \u001b[0moptions\u001b[0m\u001b[0;34m[\u001b[0m\u001b[0;34m'params'\u001b[0m\u001b[0;34m]\u001b[0m\u001b[0;34m)\u001b[0m\u001b[0;34m\u001b[0m\u001b[0;34m\u001b[0m\u001b[0m\n\u001b[0;32m---> 15\u001b[0;31m         \u001b[0mr\u001b[0m \u001b[0;34m=\u001b[0m \u001b[0mConnection\u001b[0m\u001b[0;34m.\u001b[0m\u001b[0mrequest\u001b[0m\u001b[0;34m(\u001b[0m\u001b[0;34m'get'\u001b[0m\u001b[0;34m,\u001b[0m \u001b[0mpath\u001b[0m\u001b[0;34m,\u001b[0m \u001b[0;34m**\u001b[0m\u001b[0moptions\u001b[0m\u001b[0;34m)\u001b[0m\u001b[0;34m\u001b[0m\u001b[0;34m\u001b[0m\u001b[0m\n\u001b[0m\u001b[1;32m     16\u001b[0m         \u001b[0mresponse_data\u001b[0m \u001b[0;34m=\u001b[0m \u001b[0mr\u001b[0m\u001b[0;34m.\u001b[0m\u001b[0mjson\u001b[0m\u001b[0;34m(\u001b[0m\u001b[0;34m)\u001b[0m\u001b[0;34m\u001b[0m\u001b[0;34m\u001b[0m\u001b[0m\n\u001b[1;32m     17\u001b[0m         \u001b[0mUtil\u001b[0m\u001b[0;34m.\u001b[0m\u001b[0mconvert_to_dates\u001b[0m\u001b[0;34m(\u001b[0m\u001b[0mresponse_data\u001b[0m\u001b[0;34m)\u001b[0m\u001b[0;34m\u001b[0m\u001b[0;34m\u001b[0m\u001b[0m\n",
      "\u001b[0;32m~/miniconda3/envs/stock/lib/python3.7/site-packages/quandl/connection.py\u001b[0m in \u001b[0;36mrequest\u001b[0;34m(cls, http_verb, url, **options)\u001b[0m\n\u001b[1;32m     36\u001b[0m         \u001b[0mabs_url\u001b[0m \u001b[0;34m=\u001b[0m \u001b[0;34m'%s/%s'\u001b[0m \u001b[0;34m%\u001b[0m \u001b[0;34m(\u001b[0m\u001b[0mApiConfig\u001b[0m\u001b[0;34m.\u001b[0m\u001b[0mapi_base\u001b[0m\u001b[0;34m,\u001b[0m \u001b[0murl\u001b[0m\u001b[0;34m)\u001b[0m\u001b[0;34m\u001b[0m\u001b[0;34m\u001b[0m\u001b[0m\n\u001b[1;32m     37\u001b[0m \u001b[0;34m\u001b[0m\u001b[0m\n\u001b[0;32m---> 38\u001b[0;31m         \u001b[0;32mreturn\u001b[0m \u001b[0mcls\u001b[0m\u001b[0;34m.\u001b[0m\u001b[0mexecute_request\u001b[0m\u001b[0;34m(\u001b[0m\u001b[0mhttp_verb\u001b[0m\u001b[0;34m,\u001b[0m \u001b[0mabs_url\u001b[0m\u001b[0;34m,\u001b[0m \u001b[0;34m**\u001b[0m\u001b[0moptions\u001b[0m\u001b[0;34m)\u001b[0m\u001b[0;34m\u001b[0m\u001b[0;34m\u001b[0m\u001b[0m\n\u001b[0m\u001b[1;32m     39\u001b[0m \u001b[0;34m\u001b[0m\u001b[0m\n\u001b[1;32m     40\u001b[0m     \u001b[0;34m@\u001b[0m\u001b[0mclassmethod\u001b[0m\u001b[0;34m\u001b[0m\u001b[0;34m\u001b[0m\u001b[0m\n",
      "\u001b[0;32m~/miniconda3/envs/stock/lib/python3.7/site-packages/quandl/connection.py\u001b[0m in \u001b[0;36mexecute_request\u001b[0;34m(cls, http_verb, url, **options)\u001b[0m\n\u001b[1;32m     48\u001b[0m                                        **options)\n\u001b[1;32m     49\u001b[0m             \u001b[0;32mif\u001b[0m \u001b[0mresponse\u001b[0m\u001b[0;34m.\u001b[0m\u001b[0mstatus_code\u001b[0m \u001b[0;34m<\u001b[0m \u001b[0;36m200\u001b[0m \u001b[0;32mor\u001b[0m \u001b[0mresponse\u001b[0m\u001b[0;34m.\u001b[0m\u001b[0mstatus_code\u001b[0m \u001b[0;34m>=\u001b[0m \u001b[0;36m300\u001b[0m\u001b[0;34m:\u001b[0m\u001b[0;34m\u001b[0m\u001b[0;34m\u001b[0m\u001b[0m\n\u001b[0;32m---> 50\u001b[0;31m                 \u001b[0mcls\u001b[0m\u001b[0;34m.\u001b[0m\u001b[0mhandle_api_error\u001b[0m\u001b[0;34m(\u001b[0m\u001b[0mresponse\u001b[0m\u001b[0;34m)\u001b[0m\u001b[0;34m\u001b[0m\u001b[0;34m\u001b[0m\u001b[0m\n\u001b[0m\u001b[1;32m     51\u001b[0m             \u001b[0;32melse\u001b[0m\u001b[0;34m:\u001b[0m\u001b[0;34m\u001b[0m\u001b[0;34m\u001b[0m\u001b[0m\n\u001b[1;32m     52\u001b[0m                 \u001b[0;32mreturn\u001b[0m \u001b[0mresponse\u001b[0m\u001b[0;34m\u001b[0m\u001b[0;34m\u001b[0m\u001b[0m\n",
      "\u001b[0;32m~/miniconda3/envs/stock/lib/python3.7/site-packages/quandl/connection.py\u001b[0m in \u001b[0;36mhandle_api_error\u001b[0;34m(cls, resp)\u001b[0m\n\u001b[1;32m    112\u001b[0m         \u001b[0mklass\u001b[0m \u001b[0;34m=\u001b[0m \u001b[0md_klass\u001b[0m\u001b[0;34m.\u001b[0m\u001b[0mget\u001b[0m\u001b[0;34m(\u001b[0m\u001b[0mcode_letter\u001b[0m\u001b[0;34m,\u001b[0m \u001b[0mQuandlError\u001b[0m\u001b[0;34m)\u001b[0m\u001b[0;34m\u001b[0m\u001b[0;34m\u001b[0m\u001b[0m\n\u001b[1;32m    113\u001b[0m \u001b[0;34m\u001b[0m\u001b[0m\n\u001b[0;32m--> 114\u001b[0;31m         \u001b[0;32mraise\u001b[0m \u001b[0mklass\u001b[0m\u001b[0;34m(\u001b[0m\u001b[0mmessage\u001b[0m\u001b[0;34m,\u001b[0m \u001b[0mresp\u001b[0m\u001b[0;34m.\u001b[0m\u001b[0mstatus_code\u001b[0m\u001b[0;34m,\u001b[0m \u001b[0mresp\u001b[0m\u001b[0;34m.\u001b[0m\u001b[0mtext\u001b[0m\u001b[0;34m,\u001b[0m \u001b[0mresp\u001b[0m\u001b[0;34m.\u001b[0m\u001b[0mheaders\u001b[0m\u001b[0;34m,\u001b[0m \u001b[0mcode\u001b[0m\u001b[0;34m)\u001b[0m\u001b[0;34m\u001b[0m\u001b[0;34m\u001b[0m\u001b[0m\n\u001b[0m",
      "\u001b[0;31mForbiddenError\u001b[0m: (Status 403) (Quandl Error QEPx04) You must confirm your email address before accessing data. Please check your inbox for a confirmation email from us."
     ]
    }
   ],
   "source": [
    "import quandl\n",
    "import numpy as np\n",
    "import quandl\n",
    "quandl.ApiConfig.api_key = 'SAfniVERzMmdSb_d1zw8'\n",
    "#get quandl data\n",
    "aapl_table = quandl.get('WIKI/AAPL')\n",
    "aapl = aapl_table.loc['2017-3',['Open','Close']]\n",
    "#take log return\n",
    "aapl['log_price'] = np.log(aapl.Close)\n",
    "aapl['log_return'] = aapl['log_price'].diff()\n",
    "print(aapl)"
   ]
  },
  {
   "cell_type": "code",
   "execution_count": null,
   "id": "wrong-namibia",
   "metadata": {},
   "outputs": [],
   "source": []
  }
 ],
 "metadata": {
  "kernelspec": {
   "display_name": "Python 3",
   "language": "python",
   "name": "python3"
  },
  "language_info": {
   "codemirror_mode": {
    "name": "ipython",
    "version": 3
   },
   "file_extension": ".py",
   "mimetype": "text/x-python",
   "name": "python",
   "nbconvert_exporter": "python",
   "pygments_lexer": "ipython3",
   "version": "3.7.9"
  }
 },
 "nbformat": 4,
 "nbformat_minor": 5
}
