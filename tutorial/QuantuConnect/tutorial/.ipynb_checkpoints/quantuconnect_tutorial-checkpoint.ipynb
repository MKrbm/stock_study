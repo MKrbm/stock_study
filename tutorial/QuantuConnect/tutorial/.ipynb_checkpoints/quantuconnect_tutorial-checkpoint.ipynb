{
 "cells": [
  {
   "cell_type": "markdown",
   "id": "postal-studio",
   "metadata": {},
   "source": [
    "## 1"
   ]
  },
  {
   "cell_type": "markdown",
   "id": "northern-parcel",
   "metadata": {},
   "source": [
    "### Logical operators"
   ]
  },
  {
   "cell_type": "code",
   "execution_count": 19,
   "id": "smart-character",
   "metadata": {},
   "outputs": [
    {
     "name": "stdout",
     "output_type": "stream",
     "text": [
      "False\n",
      "True\n",
      "True\n",
      "True\n",
      "False\n",
      "True\n",
      "False\n",
      "True\n",
      "False\n"
     ]
    }
   ],
   "source": [
    "print(1 == 0)    # 1 equals 0\n",
    "print(1 == 1)    # 1 equals 1\n",
    "print(1 != 0)    # 1 is not equal to 0\n",
    "print(5 >= 5)    # 5 is greater than or equal to 5\n",
    "print(5 >= 6)    # 5 is greater than or equal to 6\n",
    "print(2 > 1 and 3 > 2)\n",
    "print(2 > 1 and 3 < 2)\n",
    "print(2 > 1 or  3 < 2)\n",
    "print(2 < 1 and 3 < 2)"
   ]
  },
  {
   "cell_type": "markdown",
   "id": "nasty-subsection",
   "metadata": {},
   "source": [
    "### bitwise operators"
   ]
  },
  {
   "cell_type": "code",
   "execution_count": 20,
   "id": "protected-berlin",
   "metadata": {},
   "outputs": [
    {
     "name": "stdout",
     "output_type": "stream",
     "text": [
      "4\n",
      "16\n",
      "2\n"
     ]
    }
   ],
   "source": [
    "print(1 << 2) # 00001 -> 00100\n",
    "print(1 << 4) # 00001 -> 10000\n",
    "print(4 >> 1) # 00100 -> 00010"
   ]
  },
  {
   "cell_type": "markdown",
   "id": "changed-tract",
   "metadata": {},
   "source": [
    "### some for loop techniques"
   ]
  },
  {
   "cell_type": "code",
   "execution_count": 21,
   "id": "above-command",
   "metadata": {},
   "outputs": [
    {
     "name": "stdout",
     "output_type": "stream",
     "text": [
      "['GOOG', 'FB', 'F', 'V', 'G', 'GE']\n"
     ]
    }
   ],
   "source": [
    "stocks = ['AAPL','GOOG','IBM','FB','F','V', 'G', 'GE']\n",
    "selected = ['AAPL','IBM']\n",
    "new_list = []\n",
    "for stock in stocks:\n",
    "    if stock not in selected:\n",
    "        new_list.append(stock)\n",
    "print(new_list) # print new_list"
   ]
  },
  {
   "cell_type": "code",
   "execution_count": 22,
   "id": "looking-completion",
   "metadata": {},
   "outputs": [
    {
     "name": "stdout",
     "output_type": "stream",
     "text": [
      "[1, 4, 9, 16, 25]\n"
     ]
    }
   ],
   "source": [
    "squares = []\n",
    "for i in [1,2,3,4,5]:\n",
    "    squares.append(i**2)\n",
    "print(squares)"
   ]
  },
  {
   "cell_type": "markdown",
   "id": "silver-recall",
   "metadata": {},
   "source": [
    "### list comprehension"
   ]
  },
  {
   "cell_type": "code",
   "execution_count": 23,
   "id": "welsh-luther",
   "metadata": {},
   "outputs": [
    {
     "name": "stdout",
     "output_type": "stream",
     "text": [
      "[1, 4, 9, 16, 25]\n"
     ]
    }
   ],
   "source": [
    "foo = [1,2,3,4,5]\n",
    "squares = [x**2 for x in foo] \n",
    "print(squares)"
   ]
  },
  {
   "cell_type": "code",
   "execution_count": 24,
   "id": "union-glass",
   "metadata": {},
   "outputs": [
    {
     "name": "stdout",
     "output_type": "stream",
     "text": [
      "[(1, 3), (1, 4), (2, 3), (2, 1), (2, 4), (3, 1), (3, 4)]\n"
     ]
    }
   ],
   "source": [
    "print([(x, y) for x in [1,2,3] for y in [3,1,4] if x != y])"
   ]
  },
  {
   "cell_type": "markdown",
   "id": "supreme-portsmouth",
   "metadata": {},
   "source": [
    "# Functions"
   ]
  },
  {
   "cell_type": "code",
   "execution_count": 26,
   "id": "effective-transcription",
   "metadata": {},
   "outputs": [
    {
     "name": "stdout",
     "output_type": "stream",
     "text": [
      "12\n",
      "Welcome to QuantConnect\n"
     ]
    }
   ],
   "source": [
    "def product(x,y):\n",
    "    return x*y\n",
    "\n",
    "def say_hi():\n",
    "    print(\"Welcome to QuantConnect\")\n",
    "print(product(3,4))\n",
    "say_hi()"
   ]
  },
  {
   "cell_type": "markdown",
   "id": "unsigned-trust",
   "metadata": {},
   "source": [
    "### Built-in Function"
   ]
  },
  {
   "cell_type": "code",
   "execution_count": 30,
   "id": "specific-shore",
   "metadata": {},
   "outputs": [
    {
     "name": "stdout",
     "output_type": "stream",
     "text": [
      "[0, 1, 2, 3, 4, 5, 6, 7, 8, 9]\n"
     ]
    }
   ],
   "source": [
    "print(list(range(10)))"
   ]
  },
  {
   "cell_type": "code",
   "execution_count": 31,
   "id": "external-prophet",
   "metadata": {},
   "outputs": [
    {
     "name": "stdout",
     "output_type": "stream",
     "text": [
      "The number of tickers is 8\n",
      "1 AAPL\n",
      "2 GOOGL\n",
      "3 IBM\n",
      "4 FB\n",
      "5 F\n",
      "6 V\n",
      "7 G\n",
      "8 GE\n"
     ]
    }
   ],
   "source": [
    "tickers = ['AAPL', 'GOOGL', 'IBM', 'FB', 'F', 'V', 'G', 'GE']\n",
    "print(\"The number of tickers is {}\".format(len(tickers)))\n",
    "for k in range(len(tickers)):\n",
    "    print(k + 1, tickers[k])"
   ]
  },
  {
   "cell_type": "markdown",
   "id": "innovative-silly",
   "metadata": {},
   "source": [
    "### lambda"
   ]
  },
  {
   "cell_type": "code",
   "execution_count": 39,
   "id": "perceived-april",
   "metadata": {},
   "outputs": [
    {
     "name": "stdout",
     "output_type": "stream",
     "text": [
      "9 10\n"
     ]
    }
   ],
   "source": [
    "f = lambda x: x**2\n",
    "g = lambda x,y:x+y\n",
    "print(f(3), g(4,6))"
   ]
  },
  {
   "cell_type": "markdown",
   "id": "middle-plasma",
   "metadata": {},
   "source": [
    "### map"
   ]
  },
  {
   "cell_type": "code",
   "execution_count": 40,
   "id": "occupied-valuation",
   "metadata": {},
   "outputs": [
    {
     "name": "stdout",
     "output_type": "stream",
     "text": [
      "[0, 1, 4, 9, 16, 25, 36, 49, 64, 81]\n",
      "[3, 5, 7, 9, 11, 13, 15, 17, 19, 21]\n"
     ]
    }
   ],
   "source": [
    "print(list(map(f, range(10))))\n",
    "print(list(map(g, range(10), range(3,13))))"
   ]
  },
  {
   "cell_type": "markdown",
   "id": "entitled-traveler",
   "metadata": {},
   "source": [
    "### sorted"
   ]
  },
  {
   "cell_type": "code",
   "execution_count": 42,
   "id": "impressive-passing",
   "metadata": {},
   "outputs": [
    {
     "name": "stdout",
     "output_type": "stream",
     "text": [
      "[1, 2, 3, 4, 5]\n"
     ]
    }
   ],
   "source": [
    "print(sorted([5,2,3,4,1]))"
   ]
  },
  {
   "cell_type": "code",
   "execution_count": 44,
   "id": "incomplete-proxy",
   "metadata": {},
   "outputs": [
    {
     "name": "stdout",
     "output_type": "stream",
     "text": [
      "[('MSFT', 69), ('WMT', 75.32), ('AAPL', 144.09), ('FB', 150), ('GOOGL', 911.71)]\n"
     ]
    }
   ],
   "source": [
    "price_list = [('AAPL', 144.09), ('GOOGL', 911.71), ('MSFT', 69), ('FB', 150), ('WMT', 75.32)]\n",
    "print(sorted(price_list, key = lambda x: x[1]))"
   ]
  },
  {
   "cell_type": "code",
   "execution_count": 45,
   "id": "caring-hampshire",
   "metadata": {},
   "outputs": [
    {
     "name": "stdout",
     "output_type": "stream",
     "text": [
      "[('MSFT', 69), ('WMT', 75.32), ('AAPL', 144.09), ('FB', 150), ('GOOGL', 911.71)]\n"
     ]
    }
   ],
   "source": [
    "price_list = [('AAPL', 144.09), ('GOOGL', 911.71), ('MSFT', 69), ('FB', 150), ('WMT', 75.32)]\n",
    "price_list.sort(key = lambda x: x[1])\n",
    "print(price_list)"
   ]
  },
  {
   "cell_type": "markdown",
   "id": "double-immune",
   "metadata": {},
   "source": [
    "### Object-Oriented Programming"
   ]
  },
  {
   "cell_type": "code",
   "execution_count": 66,
   "id": "genetic-brunei",
   "metadata": {},
   "outputs": [],
   "source": [
    "class Stock:\n",
    "    def __init__(self, ticker, open_, close, volume):\n",
    "        self.ticker = ticker\n",
    "        self.open = open_\n",
    "        self.close = close\n",
    "        self.volume = volume\n",
    "        self.rate_return = float(close)/open_ - 1\n",
    "\n",
    "    def update(self, open_, close):\n",
    "        self.open = open_\n",
    "        self.close = close\n",
    "        self.rate_return = float(self.close)/self.open - 1\n",
    "\n",
    "    def print_return(self):\n",
    "        print(self.rate_return)"
   ]
  },
  {
   "cell_type": "code",
   "execution_count": 67,
   "id": "fresh-river",
   "metadata": {},
   "outputs": [],
   "source": [
    "apple  = Stock('AAPL', 143.69, 144.09, 20109375)\n",
    "google = Stock('GOOGL', 898.7, 911.7, 1561616)"
   ]
  },
  {
   "cell_type": "code",
   "execution_count": 68,
   "id": "reported-thomson",
   "metadata": {},
   "outputs": [
    {
     "name": "stdout",
     "output_type": "stream",
     "text": [
      "AAPL\n",
      "GOOGL\n",
      "0.0027837706173012844\n"
     ]
    }
   ],
   "source": [
    "print(apple.ticker)\n",
    "print(google.ticker)\n",
    "apple.print_return()"
   ]
  },
  {
   "cell_type": "markdown",
   "id": "shaped-timer",
   "metadata": {},
   "source": [
    "### class inheritance"
   ]
  },
  {
   "cell_type": "code",
   "execution_count": 69,
   "id": "motivated-advocacy",
   "metadata": {},
   "outputs": [],
   "source": [
    "class Child(Stock):\n",
    "    def __init__(self, name):\n",
    "        self.name = name"
   ]
  },
  {
   "cell_type": "code",
   "execution_count": 74,
   "id": "chinese-brazilian",
   "metadata": {},
   "outputs": [],
   "source": [
    "aa = Child('AA')"
   ]
  },
  {
   "cell_type": "code",
   "execution_count": 75,
   "id": "missing-gathering",
   "metadata": {},
   "outputs": [
    {
     "data": {
      "text/plain": [
       "100"
      ]
     },
     "execution_count": 75,
     "metadata": {},
     "output_type": "execute_result"
    }
   ],
   "source": [
    "aa.update(100, 102)\n",
    "aa.open"
   ]
  },
  {
   "cell_type": "markdown",
   "id": "mineral-remains",
   "metadata": {},
   "source": [
    "## numpy"
   ]
  },
  {
   "cell_type": "code",
   "execution_count": 78,
   "id": "round-kuwait",
   "metadata": {},
   "outputs": [],
   "source": [
    "import numpy as np"
   ]
  },
  {
   "cell_type": "markdown",
   "id": "casual-payday",
   "metadata": {},
   "source": [
    "### basic numpy arrays"
   ]
  },
  {
   "cell_type": "code",
   "execution_count": 79,
   "id": "handmade-benchmark",
   "metadata": {},
   "outputs": [
    {
     "name": "stdout",
     "output_type": "stream",
     "text": [
      "[143.73 145.83 143.68 144.02 143.5  142.62] <class 'numpy.ndarray'>\n"
     ]
    }
   ],
   "source": [
    "price_list = [143.73, 145.83, 143.68, 144.02, 143.5, 142.62]\n",
    "price_array = np.array(price_list)\n",
    "print(price_array, type(price_array))"
   ]
  },
  {
   "cell_type": "code",
   "execution_count": 80,
   "id": "naked-disclosure",
   "metadata": {},
   "outputs": [
    {
     "name": "stdout",
     "output_type": "stream",
     "text": [
      "[[1 3]\n",
      " [2 4]] <class 'numpy.ndarray'>\n"
     ]
    }
   ],
   "source": [
    "Ar = np.array([[1,3], [2,4]])\n",
    "print(Ar, type(Ar))"
   ]
  },
  {
   "cell_type": "code",
   "execution_count": 81,
   "id": "consecutive-dancing",
   "metadata": {},
   "outputs": [
    {
     "name": "stdout",
     "output_type": "stream",
     "text": [
      "(2, 2)\n"
     ]
    }
   ],
   "source": [
    "print(Ar.shape)"
   ]
  },
  {
   "cell_type": "code",
   "execution_count": 84,
   "id": "macro-wrong",
   "metadata": {},
   "outputs": [
    {
     "name": "stdout",
     "output_type": "stream",
     "text": [
      "First column: [1 2]\n",
      "First row: [1 3]\n"
     ]
    }
   ],
   "source": [
    "print('First column:', Ar[:,0])\n",
    "print('First row:', Ar[0,:])"
   ]
  },
  {
   "cell_type": "markdown",
   "id": "powered-spare",
   "metadata": {},
   "source": [
    "### Functions for array"
   ]
  },
  {
   "cell_type": "code",
   "execution_count": 85,
   "id": "comparable-assistant",
   "metadata": {},
   "outputs": [
    {
     "name": "stdout",
     "output_type": "stream",
     "text": [
      "[4.96793654 4.98244156 4.9675886  4.96995218 4.96633504 4.96018375]\n",
      "[-0.70559472  0.96790038 -0.74012893 -0.47350161 -0.8485623  -0.94845689]\n"
     ]
    }
   ],
   "source": [
    "print(np.log(price_array))\n",
    "print(np.sin(price_array))"
   ]
  },
  {
   "cell_type": "markdown",
   "id": "alike-graham",
   "metadata": {},
   "source": [
    "### some Statistic"
   ]
  },
  {
   "cell_type": "code",
   "execution_count": 87,
   "id": "first-automation",
   "metadata": {},
   "outputs": [
    {
     "name": "stdout",
     "output_type": "stream",
     "text": [
      "143.89666666666668\n",
      "863.38\n",
      "145.83\n"
     ]
    }
   ],
   "source": [
    "print(np.mean(price_array))\n",
    "print(np.sum(price_array))\n",
    "print(np.max(price_array))"
   ]
  },
  {
   "cell_type": "markdown",
   "id": "neutral-eclipse",
   "metadata": {},
   "source": [
    "## pandas"
   ]
  },
  {
   "cell_type": "code",
   "execution_count": 88,
   "id": "boring-government",
   "metadata": {},
   "outputs": [
    {
     "ename": "ModuleNotFoundError",
     "evalue": "No module named 'pandas'",
     "output_type": "error",
     "traceback": [
      "\u001b[0;31m---------------------------------------------------------------------------\u001b[0m",
      "\u001b[0;31mModuleNotFoundError\u001b[0m                       Traceback (most recent call last)",
      "\u001b[0;32m<ipython-input-88-7dd3504c366f>\u001b[0m in \u001b[0;36m<module>\u001b[0;34m\u001b[0m\n\u001b[0;32m----> 1\u001b[0;31m \u001b[0;32mimport\u001b[0m \u001b[0mpandas\u001b[0m \u001b[0;32mas\u001b[0m \u001b[0mpd\u001b[0m\u001b[0;34m\u001b[0m\u001b[0;34m\u001b[0m\u001b[0m\n\u001b[0m",
      "\u001b[0;31mModuleNotFoundError\u001b[0m: No module named 'pandas'"
     ]
    }
   ],
   "source": [
    "import pandas as pd"
   ]
  },
  {
   "cell_type": "code",
   "execution_count": null,
   "id": "cardiac-finder",
   "metadata": {},
   "outputs": [],
   "source": []
  }
 ],
 "metadata": {
  "kernelspec": {
   "display_name": "Python 3",
   "language": "python",
   "name": "python3"
  },
  "language_info": {
   "codemirror_mode": {
    "name": "ipython",
    "version": 3
   },
   "file_extension": ".py",
   "mimetype": "text/x-python",
   "name": "python",
   "nbconvert_exporter": "python",
   "pygments_lexer": "ipython3",
   "version": "3.7.9"
  }
 },
 "nbformat": 4,
 "nbformat_minor": 5
}
