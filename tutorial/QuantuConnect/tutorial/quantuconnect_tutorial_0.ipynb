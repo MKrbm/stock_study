{
 "cells": [
  {
   "cell_type": "markdown",
   "id": "convertible-sheriff",
   "metadata": {},
   "source": [
    "## 1"
   ]
  },
  {
   "cell_type": "markdown",
   "id": "criminal-reporter",
   "metadata": {},
   "source": [
    "### Logical operators"
   ]
  },
  {
   "cell_type": "code",
   "execution_count": 1,
   "id": "bacterial-blast",
   "metadata": {},
   "outputs": [
    {
     "name": "stdout",
     "output_type": "stream",
     "text": [
      "False\n",
      "True\n",
      "True\n",
      "True\n",
      "False\n",
      "True\n",
      "False\n",
      "True\n",
      "False\n"
     ]
    }
   ],
   "source": [
    "print(1 == 0)    # 1 equals 0\n",
    "print(1 == 1)    # 1 equals 1\n",
    "print(1 != 0)    # 1 is not equal to 0\n",
    "print(5 >= 5)    # 5 is greater than or equal to 5\n",
    "print(5 >= 6)    # 5 is greater than or equal to 6\n",
    "print(2 > 1 and 3 > 2)\n",
    "print(2 > 1 and 3 < 2)\n",
    "print(2 > 1 or  3 < 2)\n",
    "print(2 < 1 and 3 < 2)"
   ]
  },
  {
   "cell_type": "markdown",
   "id": "steady-sailing",
   "metadata": {},
   "source": [
    "### bitwise operators"
   ]
  },
  {
   "cell_type": "code",
   "execution_count": 2,
   "id": "wooden-technique",
   "metadata": {},
   "outputs": [
    {
     "name": "stdout",
     "output_type": "stream",
     "text": [
      "4\n",
      "16\n",
      "2\n"
     ]
    }
   ],
   "source": [
    "print(1 << 2) # 00001 -> 00100\n",
    "print(1 << 4) # 00001 -> 10000\n",
    "print(4 >> 1) # 00100 -> 00010"
   ]
  },
  {
   "cell_type": "markdown",
   "id": "gentle-repair",
   "metadata": {},
   "source": [
    "### some for loop techniques"
   ]
  },
  {
   "cell_type": "code",
   "execution_count": 3,
   "id": "functioning-sarah",
   "metadata": {},
   "outputs": [
    {
     "name": "stdout",
     "output_type": "stream",
     "text": [
      "['GOOG', 'FB', 'F', 'V', 'G', 'GE']\n"
     ]
    }
   ],
   "source": [
    "stocks = ['AAPL','GOOG','IBM','FB','F','V', 'G', 'GE']\n",
    "selected = ['AAPL','IBM']\n",
    "new_list = []\n",
    "for stock in stocks:\n",
    "    if stock not in selected:\n",
    "        new_list.append(stock)\n",
    "print(new_list) # print new_list"
   ]
  },
  {
   "cell_type": "code",
   "execution_count": 4,
   "id": "cognitive-calvin",
   "metadata": {},
   "outputs": [
    {
     "name": "stdout",
     "output_type": "stream",
     "text": [
      "[1, 4, 9, 16, 25]\n"
     ]
    }
   ],
   "source": [
    "squares = []\n",
    "for i in [1,2,3,4,5]:\n",
    "    squares.append(i**2)\n",
    "print(squares)"
   ]
  },
  {
   "cell_type": "markdown",
   "id": "blond-taste",
   "metadata": {},
   "source": [
    "### list comprehension"
   ]
  },
  {
   "cell_type": "code",
   "execution_count": 5,
   "id": "southern-projector",
   "metadata": {},
   "outputs": [
    {
     "name": "stdout",
     "output_type": "stream",
     "text": [
      "[1, 4, 9, 16, 25]\n"
     ]
    }
   ],
   "source": [
    "foo = [1,2,3,4,5]\n",
    "squares = [x**2 for x in foo] \n",
    "print(squares)"
   ]
  },
  {
   "cell_type": "code",
   "execution_count": 6,
   "id": "dirty-welsh",
   "metadata": {},
   "outputs": [
    {
     "name": "stdout",
     "output_type": "stream",
     "text": [
      "[(1, 3), (1, 4), (2, 3), (2, 1), (2, 4), (3, 1), (3, 4)]\n"
     ]
    }
   ],
   "source": [
    "print([(x, y) for x in [1,2,3] for y in [3,1,4] if x != y])"
   ]
  },
  {
   "cell_type": "markdown",
   "id": "sealed-soccer",
   "metadata": {},
   "source": [
    "# Functions"
   ]
  },
  {
   "cell_type": "code",
   "execution_count": 7,
   "id": "south-election",
   "metadata": {},
   "outputs": [
    {
     "name": "stdout",
     "output_type": "stream",
     "text": [
      "12\n",
      "Welcome to QuantConnect\n"
     ]
    }
   ],
   "source": [
    "def product(x,y):\n",
    "    return x*y\n",
    "\n",
    "def say_hi():\n",
    "    print(\"Welcome to QuantConnect\")\n",
    "print(product(3,4))\n",
    "say_hi()"
   ]
  },
  {
   "cell_type": "markdown",
   "id": "bigger-merit",
   "metadata": {},
   "source": [
    "### Built-in Function"
   ]
  },
  {
   "cell_type": "code",
   "execution_count": 8,
   "id": "durable-registrar",
   "metadata": {},
   "outputs": [
    {
     "name": "stdout",
     "output_type": "stream",
     "text": [
      "[0, 1, 2, 3, 4, 5, 6, 7, 8, 9]\n"
     ]
    }
   ],
   "source": [
    "print(list(range(10)))"
   ]
  },
  {
   "cell_type": "code",
   "execution_count": 9,
   "id": "accessible-terminal",
   "metadata": {},
   "outputs": [
    {
     "name": "stdout",
     "output_type": "stream",
     "text": [
      "The number of tickers is 8\n",
      "1 AAPL\n",
      "2 GOOGL\n",
      "3 IBM\n",
      "4 FB\n",
      "5 F\n",
      "6 V\n",
      "7 G\n",
      "8 GE\n"
     ]
    }
   ],
   "source": [
    "tickers = ['AAPL', 'GOOGL', 'IBM', 'FB', 'F', 'V', 'G', 'GE']\n",
    "print(\"The number of tickers is {}\".format(len(tickers)))\n",
    "for k in range(len(tickers)):\n",
    "    print(k + 1, tickers[k])"
   ]
  },
  {
   "cell_type": "markdown",
   "id": "positive-corps",
   "metadata": {},
   "source": [
    "### lambda"
   ]
  },
  {
   "cell_type": "code",
   "execution_count": 10,
   "id": "excited-richmond",
   "metadata": {},
   "outputs": [
    {
     "name": "stdout",
     "output_type": "stream",
     "text": [
      "9 10\n"
     ]
    }
   ],
   "source": [
    "f = lambda x: x**2\n",
    "g = lambda x,y:x+y\n",
    "print(f(3), g(4,6))"
   ]
  },
  {
   "cell_type": "markdown",
   "id": "realistic-panic",
   "metadata": {},
   "source": [
    "### map"
   ]
  },
  {
   "cell_type": "code",
   "execution_count": 11,
   "id": "sharp-beaver",
   "metadata": {},
   "outputs": [
    {
     "name": "stdout",
     "output_type": "stream",
     "text": [
      "[0, 1, 4, 9, 16, 25, 36, 49, 64, 81]\n",
      "[3, 5, 7, 9, 11, 13, 15, 17, 19, 21]\n"
     ]
    }
   ],
   "source": [
    "print(list(map(f, range(10))))\n",
    "print(list(map(g, range(10), range(3,13))))"
   ]
  },
  {
   "cell_type": "markdown",
   "id": "excess-affair",
   "metadata": {},
   "source": [
    "### sorted"
   ]
  },
  {
   "cell_type": "code",
   "execution_count": 12,
   "id": "mathematical-facility",
   "metadata": {},
   "outputs": [
    {
     "name": "stdout",
     "output_type": "stream",
     "text": [
      "[1, 2, 3, 4, 5]\n"
     ]
    }
   ],
   "source": [
    "print(sorted([5,2,3,4,1]))"
   ]
  },
  {
   "cell_type": "code",
   "execution_count": 13,
   "id": "tight-belgium",
   "metadata": {},
   "outputs": [
    {
     "name": "stdout",
     "output_type": "stream",
     "text": [
      "[('MSFT', 69), ('WMT', 75.32), ('AAPL', 144.09), ('FB', 150), ('GOOGL', 911.71)]\n"
     ]
    }
   ],
   "source": [
    "price_list = [('AAPL', 144.09), ('GOOGL', 911.71), ('MSFT', 69), ('FB', 150), ('WMT', 75.32)]\n",
    "print(sorted(price_list, key = lambda x: x[1]))"
   ]
  },
  {
   "cell_type": "code",
   "execution_count": 14,
   "id": "temporal-least",
   "metadata": {},
   "outputs": [
    {
     "name": "stdout",
     "output_type": "stream",
     "text": [
      "[('MSFT', 69), ('WMT', 75.32), ('AAPL', 144.09), ('FB', 150), ('GOOGL', 911.71)]\n"
     ]
    }
   ],
   "source": [
    "price_list = [('AAPL', 144.09), ('GOOGL', 911.71), ('MSFT', 69), ('FB', 150), ('WMT', 75.32)]\n",
    "price_list.sort(key = lambda x: x[1])\n",
    "print(price_list)"
   ]
  },
  {
   "cell_type": "markdown",
   "id": "hindu-fishing",
   "metadata": {},
   "source": [
    "### Object-Oriented Programming"
   ]
  },
  {
   "cell_type": "code",
   "execution_count": 15,
   "id": "advisory-script",
   "metadata": {},
   "outputs": [],
   "source": [
    "class Stock:\n",
    "    def __init__(self, ticker, open_, close, volume):\n",
    "        self.ticker = ticker\n",
    "        self.open = open_\n",
    "        self.close = close\n",
    "        self.volume = volume\n",
    "        self.rate_return = float(close)/open_ - 1\n",
    "\n",
    "    def update(self, open_, close):\n",
    "        self.open = open_\n",
    "        self.close = close\n",
    "        self.rate_return = float(self.close)/self.open - 1\n",
    "\n",
    "    def print_return(self):\n",
    "        print(self.rate_return)"
   ]
  },
  {
   "cell_type": "code",
   "execution_count": 16,
   "id": "blank-alexander",
   "metadata": {},
   "outputs": [],
   "source": [
    "apple  = Stock('AAPL', 143.69, 144.09, 20109375)\n",
    "google = Stock('GOOGL', 898.7, 911.7, 1561616)"
   ]
  },
  {
   "cell_type": "code",
   "execution_count": 17,
   "id": "environmental-european",
   "metadata": {},
   "outputs": [
    {
     "name": "stdout",
     "output_type": "stream",
     "text": [
      "AAPL\n",
      "GOOGL\n",
      "0.0027837706173012844\n"
     ]
    }
   ],
   "source": [
    "print(apple.ticker)\n",
    "print(google.ticker)\n",
    "apple.print_return()"
   ]
  },
  {
   "cell_type": "markdown",
   "id": "interior-banking",
   "metadata": {},
   "source": [
    "### class inheritance"
   ]
  },
  {
   "cell_type": "code",
   "execution_count": 18,
   "id": "round-wallpaper",
   "metadata": {},
   "outputs": [],
   "source": [
    "class Child(Stock):\n",
    "    def __init__(self, name):\n",
    "        self.name = name"
   ]
  },
  {
   "cell_type": "code",
   "execution_count": 19,
   "id": "seeing-morgan",
   "metadata": {},
   "outputs": [],
   "source": [
    "aa = Child('AA')"
   ]
  },
  {
   "cell_type": "code",
   "execution_count": 20,
   "id": "listed-howard",
   "metadata": {},
   "outputs": [
    {
     "data": {
      "text/plain": [
       "100"
      ]
     },
     "execution_count": 20,
     "metadata": {},
     "output_type": "execute_result"
    }
   ],
   "source": [
    "aa.update(100, 102)\n",
    "aa.open"
   ]
  },
  {
   "cell_type": "markdown",
   "id": "promising-thumb",
   "metadata": {},
   "source": [
    "## numpy"
   ]
  },
  {
   "cell_type": "code",
   "execution_count": 21,
   "id": "delayed-sharing",
   "metadata": {},
   "outputs": [],
   "source": [
    "import numpy as np"
   ]
  },
  {
   "cell_type": "markdown",
   "id": "adolescent-costs",
   "metadata": {},
   "source": [
    "### basic numpy arrays"
   ]
  },
  {
   "cell_type": "code",
   "execution_count": 22,
   "id": "hairy-broadcast",
   "metadata": {},
   "outputs": [
    {
     "name": "stdout",
     "output_type": "stream",
     "text": [
      "[143.73 145.83 143.68 144.02 143.5  142.62] <class 'numpy.ndarray'>\n"
     ]
    }
   ],
   "source": [
    "price_list = [143.73, 145.83, 143.68, 144.02, 143.5, 142.62]\n",
    "price_array = np.array(price_list)\n",
    "print(price_array, type(price_array))"
   ]
  },
  {
   "cell_type": "code",
   "execution_count": 23,
   "id": "smart-romantic",
   "metadata": {},
   "outputs": [
    {
     "name": "stdout",
     "output_type": "stream",
     "text": [
      "[[1 3]\n",
      " [2 4]] <class 'numpy.ndarray'>\n"
     ]
    }
   ],
   "source": [
    "Ar = np.array([[1,3], [2,4]])\n",
    "print(Ar, type(Ar))"
   ]
  },
  {
   "cell_type": "code",
   "execution_count": 24,
   "id": "announced-worst",
   "metadata": {},
   "outputs": [
    {
     "name": "stdout",
     "output_type": "stream",
     "text": [
      "(2, 2)\n"
     ]
    }
   ],
   "source": [
    "print(Ar.shape)"
   ]
  },
  {
   "cell_type": "code",
   "execution_count": 25,
   "id": "single-television",
   "metadata": {},
   "outputs": [
    {
     "name": "stdout",
     "output_type": "stream",
     "text": [
      "First column: [1 2]\n",
      "First row: [1 3]\n"
     ]
    }
   ],
   "source": [
    "print('First column:', Ar[:,0])\n",
    "print('First row:', Ar[0,:])"
   ]
  },
  {
   "cell_type": "markdown",
   "id": "functional-agent",
   "metadata": {},
   "source": [
    "### Functions for array"
   ]
  },
  {
   "cell_type": "code",
   "execution_count": 26,
   "id": "homeless-ontario",
   "metadata": {},
   "outputs": [
    {
     "name": "stdout",
     "output_type": "stream",
     "text": [
      "[4.96793654 4.98244156 4.9675886  4.96995218 4.96633504 4.96018375]\n",
      "[-0.70559472  0.96790038 -0.74012893 -0.47350161 -0.8485623  -0.94845689]\n"
     ]
    }
   ],
   "source": [
    "print(np.log(price_array))\n",
    "print(np.sin(price_array))"
   ]
  },
  {
   "cell_type": "markdown",
   "id": "operational-chemical",
   "metadata": {},
   "source": [
    "### some Statistic"
   ]
  },
  {
   "cell_type": "code",
   "execution_count": 27,
   "id": "regional-engineer",
   "metadata": {},
   "outputs": [
    {
     "name": "stdout",
     "output_type": "stream",
     "text": [
      "143.89666666666668\n",
      "863.38\n",
      "145.83\n"
     ]
    }
   ],
   "source": [
    "print(np.mean(price_array))\n",
    "print(np.sum(price_array))\n",
    "print(np.max(price_array))"
   ]
  },
  {
   "cell_type": "markdown",
   "id": "solid-seeking",
   "metadata": {},
   "source": [
    "## pandas"
   ]
  },
  {
   "cell_type": "code",
   "execution_count": 28,
   "id": "domestic-happiness",
   "metadata": {},
   "outputs": [],
   "source": [
    "import pandas as pd"
   ]
  },
  {
   "cell_type": "markdown",
   "id": "valued-obligation",
   "metadata": {},
   "source": [
    "### pandas.series"
   ]
  },
  {
   "cell_type": "code",
   "execution_count": 29,
   "id": "increased-league",
   "metadata": {},
   "outputs": [
    {
     "name": "stdout",
     "output_type": "stream",
     "text": [
      "0    143.73\n",
      "1    145.83\n",
      "2    143.68\n",
      "3    144.02\n",
      "4    143.50\n",
      "5    142.62\n",
      "dtype: float64\n"
     ]
    }
   ],
   "source": [
    "price = [143.73, 145.83, 143.68, 144.02, 143.5, 142.62]\n",
    "s = pd.Series(price)\n",
    "print(s)"
   ]
  },
  {
   "cell_type": "code",
   "execution_count": 30,
   "id": "representative-cardiff",
   "metadata": {},
   "outputs": [
    {
     "name": "stdout",
     "output_type": "stream",
     "text": [
      "a    143.73\n",
      "b    145.83\n",
      "c    143.68\n",
      "d    144.02\n",
      "e    143.50\n",
      "f    142.62\n",
      "dtype: float64\n"
     ]
    }
   ],
   "source": [
    "s = pd.Series(price, index = ['a', 'b', 'c', 'd', 'e', 'f'])\n",
    "print(s)"
   ]
  },
  {
   "cell_type": "code",
   "execution_count": 31,
   "id": "prerequisite-knowing",
   "metadata": {},
   "outputs": [
    {
     "name": "stdout",
     "output_type": "stream",
     "text": [
      "6    143.73\n",
      "5    145.83\n",
      "4    143.68\n",
      "3    144.02\n",
      "2    143.50\n",
      "1    142.62\n",
      "dtype: float64\n"
     ]
    }
   ],
   "source": [
    "s.index = [6,5,4,3,2,1]\n",
    "print(s)"
   ]
  },
  {
   "cell_type": "code",
   "execution_count": 32,
   "id": "early-token",
   "metadata": {},
   "outputs": [
    {
     "name": "stdout",
     "output_type": "stream",
     "text": [
      "5    145.83\n",
      "4    143.68\n",
      "3    144.02\n",
      "2    143.50\n",
      "1    142.62\n",
      "dtype: float64\n",
      "6    143.73\n",
      "5    145.83\n",
      "4    143.68\n",
      "3    144.02\n",
      "dtype: float64\n"
     ]
    }
   ],
   "source": [
    "print(s[1:])\n",
    "print(s[:-2])"
   ]
  },
  {
   "cell_type": "markdown",
   "id": "august-indiana",
   "metadata": {},
   "source": [
    "### We can get the statistical summaries of a series"
   ]
  },
  {
   "cell_type": "code",
   "execution_count": 33,
   "id": "joint-reservation",
   "metadata": {},
   "outputs": [
    {
     "name": "stdout",
     "output_type": "stream",
     "text": [
      "0    143.73\n",
      "1    145.83\n",
      "2    143.68\n",
      "3    144.02\n",
      "4    143.50\n",
      "5    142.62\n",
      "Name: Apple Prices, dtype: float64\n",
      "count      6.000000\n",
      "mean     143.896667\n",
      "std        1.059711\n",
      "min      142.620000\n",
      "25%      143.545000\n",
      "50%      143.705000\n",
      "75%      143.947500\n",
      "max      145.830000\n",
      "Name: Apple Prices, dtype: float64\n"
     ]
    }
   ],
   "source": [
    "s = pd.Series(price, name = 'Apple Prices')\n",
    "print(s)\n",
    "print(s.describe())"
   ]
  },
  {
   "cell_type": "markdown",
   "id": "synthetic-accessory",
   "metadata": {},
   "source": [
    "### Time index"
   ]
  },
  {
   "cell_type": "code",
   "execution_count": 34,
   "id": "naked-comparative",
   "metadata": {},
   "outputs": [
    {
     "name": "stdout",
     "output_type": "stream",
     "text": [
      "DatetimeIndex(['2017-01-01', '2017-01-02', '2017-01-03', '2017-01-04',\n",
      "               '2017-01-05', '2017-01-06'],\n",
      "              dtype='datetime64[ns]', freq='D')\n"
     ]
    }
   ],
   "source": [
    "time_index = pd.date_range('2017-01-01', periods = len(s), freq = 'D')\n",
    "print(time_index)\n",
    "s.index = time_index"
   ]
  },
  {
   "cell_type": "code",
   "execution_count": 35,
   "id": "bright-seller",
   "metadata": {},
   "outputs": [
    {
     "name": "stdout",
     "output_type": "stream",
     "text": [
      "2017-01-01    143.73\n",
      "2017-01-02    145.83\n",
      "2017-01-03    143.68\n",
      "2017-01-04    144.02\n",
      "2017-01-05    143.50\n",
      "2017-01-06    142.62\n",
      "Freq: D, Name: Apple Prices, dtype: float64\n"
     ]
    }
   ],
   "source": [
    "print(s)"
   ]
  },
  {
   "cell_type": "code",
   "execution_count": 36,
   "id": "median-elimination",
   "metadata": {},
   "outputs": [
    {
     "name": "stdout",
     "output_type": "stream",
     "text": [
      "143.68 143.68\n"
     ]
    }
   ],
   "source": [
    "print(s.iloc[2], s['2017-01-03 '])"
   ]
  },
  {
   "cell_type": "code",
   "execution_count": 37,
   "id": "referenced-progress",
   "metadata": {},
   "outputs": [
    {
     "name": "stdout",
     "output_type": "stream",
     "text": [
      "2017-01-03    143.68\n",
      "2017-01-04    144.02\n",
      "2017-01-05    143.50\n",
      "Freq: D, Name: Apple Prices, dtype: float64\n"
     ]
    }
   ],
   "source": [
    "print(s['2017-01-03' : '2017-01-05'])"
   ]
  },
  {
   "cell_type": "code",
   "execution_count": 38,
   "id": "united-judges",
   "metadata": {},
   "outputs": [
    {
     "data": {
      "text/plain": [
       "2017-01-01     True\n",
       "2017-01-02    False\n",
       "2017-01-03     True\n",
       "2017-01-04    False\n",
       "2017-01-05     True\n",
       "2017-01-06     True\n",
       "Freq: D, Name: Apple Prices, dtype: bool"
      ]
     },
     "execution_count": 38,
     "metadata": {},
     "output_type": "execute_result"
    }
   ],
   "source": [
    "s < np.mean(s)"
   ]
  },
  {
   "cell_type": "markdown",
   "id": "narrative-burden",
   "metadata": {},
   "source": [
    "## Rate of Return\n",
    "\n",
    "$$\n",
    "r = \\frac{p_t}{p_0} - 1 = \\frac{p_t - p_0}{p_0}\n",
    "$$"
   ]
  },
  {
   "cell_type": "code",
   "execution_count": 39,
   "id": "adjusted-forty",
   "metadata": {},
   "outputs": [
    {
     "name": "stdout",
     "output_type": "stream",
     "text": [
      "0.020000000000000018\n"
     ]
    }
   ],
   "source": [
    "import numpy as np\n",
    "rate_return = 102.0/100 - 1\n",
    "print(rate_return)"
   ]
  },
  {
   "cell_type": "markdown",
   "id": "unauthorized-groove",
   "metadata": {},
   "source": [
    "let's say the series of rate of return is :\n",
    "$$\n",
    "\\mathbf{r} = \\{r_1, r_2, r_3, ..\\}\n",
    "$$\n",
    "cumulative return or overall return can be calculated by \n",
    "$$\n",
    "r = \\Pi_i(1+r_i) -1\n",
    "$$"
   ]
  },
  {
   "cell_type": "markdown",
   "id": "practical-patrol",
   "metadata": {},
   "source": [
    "Now consider the following situation: we have two strategies: strategy A and strategy B. \n",
    "\n",
    "We backtested strategy A for 1 years and the cumulative return is 20%, while we backtested strategy B for 3 months(one quarter) and the cumulative return is 6%. \n",
    "\n",
    "Which strategy has a high rate of return?\n",
    "\n",
    "Our commonly used method is to convert all the returns into compounding annual return, regardless of the investing horizon of each strategy.\n",
    "\n",
    "$$\n",
    "(1+0.06)^4 - 1 = r\\\\\n",
    "r = 0.262\n",
    "$$"
   ]
  },
  {
   "cell_type": "markdown",
   "id": "computational-nicholas",
   "metadata": {},
   "source": [
    "## Logarithm Return"
   ]
  },
  {
   "cell_type": "markdown",
   "id": "forbidden-rochester",
   "metadata": {},
   "source": [
    "### Nominal return\n",
    "In the above example, strategy A has $6%$ return over three months. Nominally, the annual return would be $4*6%$ = 24%. This nominal annual interest rate is called the **stated annual interest rate**.\n",
    "\n",
    "It is calculated as the periodic interest rate times (6%) the number of periods per year (4). \n",
    "\n",
    "It works according to the simple interest and does not take into account the compounding periods, while the effective annual interest rate is around **26%** as we calculated above and it does account for **intra-year compounding**.\n",
    "$$\n",
    "r_{\\mathcal{effective}} = (1 + \\frac{r_\\mathcal{nominal}}{n})^n - 1\n",
    "$$\n",
    "\n",
    "Now imagine the price of asset is changing every second or even every millisecond, the period of compounding n approaches infinite. This is called **continuous compounding**. The calculation formula is given below:\n",
    "\n",
    "$$\n",
    "\\lim_{n \\to +\\infty}(1+\\frac{r}{n})^n = e^r\n",
    "$$\n",
    "\n",
    "Therefore, \n",
    "$$\n",
    "e^{r_\\mathcal{nominal}} = 1 + r_{\\mathcal{effective}} = \\frac{p_t}{p_0}\n",
    "$$ \n",
    "then, we take $ln$ on both side of the equation:\n",
    "$$\n",
    "r_\\mathcal{nominal} = lnp_t - lnp_0\n",
    "$$\n",
    "Here we got the **logarithmic return**, or **continuously compounded return**.\n",
    "if $r_\\mathcal{nominal} \\ll 1$, then, $r_\\mathcal{effective} = r_\\mathcal{nominal}$\n"
   ]
  },
  {
   "cell_type": "code",
   "execution_count": 43,
   "id": "earned-printing",
   "metadata": {
    "scrolled": true
   },
   "outputs": [
    {
     "name": "stdout",
     "output_type": "stream",
     "text": [
      "SAfniVERzMmdSb_d1zw8\n",
      "               Open   Close  log_price  log_return\n",
      "Date                                              \n",
      "2017-03-01  137.890  139.79   4.940141         NaN\n",
      "2017-03-02  140.000  138.96   4.934186   -0.005955\n",
      "2017-03-03  138.780  139.78   4.940070    0.005884\n",
      "2017-03-06  139.365  139.34   4.936917   -0.003153\n",
      "2017-03-07  139.060  139.52   4.938208    0.001291\n",
      "2017-03-08  138.950  139.00   4.934474   -0.003734\n",
      "2017-03-09  138.740  138.68   4.932169   -0.002305\n",
      "2017-03-10  139.250  139.14   4.935481    0.003311\n",
      "2017-03-13  138.850  139.20   4.935912    0.000431\n",
      "2017-03-14  139.300  138.99   4.934402   -0.001510\n",
      "2017-03-15  139.410  140.46   4.944923    0.010521\n",
      "2017-03-16  140.720  140.69   4.946559    0.001636\n",
      "2017-03-17  141.000  139.99   4.941571   -0.004988\n",
      "2017-03-20  140.400  141.46   4.952017    0.010446\n",
      "2017-03-21  142.110  139.84   4.940499   -0.011518\n",
      "2017-03-22  139.845  141.42   4.951734    0.011235\n",
      "2017-03-23  141.260  140.92   4.948192   -0.003542\n",
      "2017-03-24  141.500  140.64   4.946203   -0.001989\n",
      "2017-03-27  139.390  140.88   4.947908    0.001705\n",
      "2017-03-28  140.910  143.80   4.968423    0.020515\n",
      "2017-03-29  143.680  144.12   4.970646    0.002223\n",
      "2017-03-30  144.190  143.93   4.969327   -0.001319\n",
      "2017-03-31  143.720  143.66   4.967449   -0.001878\n"
     ]
    }
   ],
   "source": [
    "import numpy as np\n",
    "import nasdaqdatalink\n",
    "nasdaqdatalink.read_key(filename=\".corporatenasdaqdatalinkapikey\")\n",
    "# print(nasdaqdatalink.ApiConfig.api_key)\n",
    "#get quandl data\n",
    "aapl_table = nasdaqdatalink.get('WIKI/AAPL')\n",
    "aapl = aapl_table.loc['2017-3',['Open','Close']]\n",
    "#take log return\n",
    "aapl['log_price'] = np.log(aapl.Close)\n",
    "aapl['log_return'] = aapl['log_price'].diff()\n",
    "print(aapl)"
   ]
  },
  {
   "cell_type": "code",
   "execution_count": 7,
   "id": "confident-given",
   "metadata": {
    "scrolled": true
   },
   "outputs": [
    {
     "name": "stdout",
     "output_type": "stream",
     "text": [
      "0.0273081001636184\n"
     ]
    }
   ],
   "source": [
    "month_return = aapl.log_return.sum()\n",
    "print(month_return)"
   ]
  },
  {
   "cell_type": "markdown",
   "id": "terminal-david",
   "metadata": {},
   "source": [
    "Let's assume the stock prices in a period of time are represented by $[p_0,p_1,p_2,.....,p_n]$\n",
    "\n",
    "$$\n",
    "r_\\mathcal{effective} \\approx ln\\frac{p_t}{p_0} = \\sum ln\\frac{p_t{^\\prime}}{p_{t^\\prime-1}}\n",
    "$$"
   ]
  },
  {
   "cell_type": "markdown",
   "id": "light-pipeline",
   "metadata": {},
   "source": [
    "## Mean"
   ]
  },
  {
   "cell_type": "markdown",
   "id": "adjacent-drawing",
   "metadata": {},
   "source": [
    "### Arithmetic Mean\n",
    "typical definition of mean"
   ]
  },
  {
   "cell_type": "markdown",
   "id": "failing-qatar",
   "metadata": {},
   "source": [
    "### Geometric Mean\n",
    "Definded by\n",
    "$$\n",
    "\\bar{x} = \\sqrt[t]{x_1x_2...x_n}\n",
    "$$\n",
    "This mean is an average that is useful for data series of positive numbers that are better interpreted according to their product, such as growth rate. \n",
    "$$\n",
    "1 + \\bar{r} = \\sqrt[t]{\\frac{p_t}{p_{t-1}}*\\frac{p_{t-1}}{p_{t-2}}*..*\\frac{p_{2}}{p_{1}}*\\frac{p_{1}}{p_{0}}}\n",
    "1 + \\bar{r} = \\sqrt[t]{\\frac{p_t}{p_0}}\n",
    "$$\n"
   ]
  },
  {
   "cell_type": "markdown",
   "id": "wrong-snowboard",
   "metadata": {},
   "source": [
    "## Variance and Standard Deviation"
   ]
  },
  {
   "cell_type": "markdown",
   "id": "recorded-photograph",
   "metadata": {},
   "source": [
    "abbreviate this section"
   ]
  },
  {
   "cell_type": "markdown",
   "id": "assured-promise",
   "metadata": {},
   "source": [
    "# Introduction to Financial Python"
   ]
  },
  {
   "cell_type": "markdown",
   "id": "scientific-trail",
   "metadata": {},
   "source": [
    "In the last chapter we learned the definition of mean and variance, which are kind of **point estimation**. (we can interpret mean and variance as the parameter of normal distribution). Point estimation means using sample data to calculate a single value which is to serve as a 'best estimation' of an unknown population.　However, this it not enough because point estimations can be **deceiving** (?). We need to use more rigorous methods to test our ideas. That's why we consider **distribution** and **hypothesis testing**. \n",
    "\n",
    "Random variable distribution is the basis for almost all quantitative finance topics: linear regression, CAPM (Capital asset pricing model), Black-Scholes, binomial tree pricing, etc."
   ]
  },
  {
   "cell_type": "markdown",
   "id": "egyptian-rescue",
   "metadata": {},
   "source": [
    "### Distributions\n",
    "\n",
    "- probability distribution : $P(X)$\n",
    "- probability density function(PDF) : probability distribution over continuous space.\n",
    "- cumulative  distribution function(CDF) : $P(X\\leq x)$"
   ]
  },
  {
   "cell_type": "markdown",
   "id": "becoming-mistake",
   "metadata": {},
   "source": [
    "### numpy.random"
   ]
  },
  {
   "cell_type": "code",
   "execution_count": 1,
   "id": "liked-bookmark",
   "metadata": {},
   "outputs": [
    {
     "name": "stdout",
     "output_type": "stream",
     "text": [
      "estimated mean =  3.5002\n",
      "estimated variance =  1.7256303080324014\n"
     ]
    }
   ],
   "source": [
    "import numpy as np\n",
    "dice = [1,2,3,4,5,6]\n",
    "series = np.random.choice(dice, size = 10**4)\n",
    "print(\"estimated mean = \",np.mean(series))\n",
    "print(\"estimated variance = \", np.std(series))"
   ]
  },
  {
   "cell_type": "markdown",
   "id": "fixed-wagon",
   "metadata": {},
   "source": [
    "Usually we use $\\bar{u}$ to represents the **population mean**, or the 'real mean'. whereas the above is called **sample mean**.\n",
    "\n",
    "If we a assume the minimum value in a uniform distribution is $a$ and the maximum value is $b$. Then, mean and variance are given by\n",
    "\n",
    "<br>\n",
    "\n",
    "$$\n",
    "\\bar{u} = \\frac{a+b}{2}\n",
    "\\\\\n",
    "\\sigma^2 = \\frac{(b-a)^2}{12}\n",
    "$$"
   ]
  },
  {
   "cell_type": "code",
   "execution_count": 12,
   "id": "short-plasma",
   "metadata": {},
   "outputs": [
    {
     "data": {
      "image/png": "[encoded data removed]",
      "text/plain": [
       "<Figure size 1440x720 with 1 Axes>"
      ]
     },
     "metadata": {
      "needs_background": "light"
     },
     "output_type": "display_data"
    }
   ],
   "source": [
    "import matplotlib.pyplot as plt\n",
    "plt.figure(figsize = (20,10))\n",
    "plt.hist(series,bins = 11,align = 'mid')\n",
    "plt.xlabel('Dice Number')\n",
    "plt.ylabel('Occurences')\n",
    "plt.grid()\n",
    "plt.show()"
   ]
  },
  {
   "cell_type": "code",
   "execution_count": 18,
   "id": "alternate-theorem",
   "metadata": {},
   "outputs": [
    {
     "name": "stdout",
     "output_type": "stream",
     "text": [
      "P(x <= 3) =  0.500407\n"
     ]
    }
   ],
   "source": [
    "print(\"P(x <= 3) = \",np.sum(series<=3) / series.size)"
   ]
  },
  {
   "cell_type": "markdown",
   "id": "genetic-screening",
   "metadata": {},
   "source": [
    "### Binomial Distribution"
   ]
  },
  {
   "cell_type": "markdown",
   "id": "hawaiian-course",
   "metadata": {},
   "source": [
    "A binomial distribution is a discrete probability distribution of the number of successes in a sequence of $n$ independent experiments. let's X is the random variable represents how many succeed and p is the probability. \n",
    "\n",
    "$$\n",
    "P(X = k) = C^k_np^k(1-p)^{n-k}\n",
    "$$\n",
    "\n",
    "Under such circumstance we say $X$ follows the binomial distribution $X\\sim B(n,p)$. Let's simulate a binomial experiment with success rate p = 0.7 and experiment times n = 100.\n",
    "\n",
    "mean and variance is given by\n",
    "\n",
    "$$\n",
    "\\bar{u} = np \\\\\n",
    "\\sigma^2  = np(1-p)\n",
    "$$"
   ]
  },
  {
   "cell_type": "code",
   "execution_count": 19,
   "id": "shared-taxation",
   "metadata": {},
   "outputs": [],
   "source": [
    "p = 0.7\n",
    "n = 10\n",
    "M = 100000\n",
    "test = []\n",
    "for _ in range(M):\n",
    "    test.append((np.random.rand(n) < p).sum())"
   ]
  },
  {
   "cell_type": "code",
   "execution_count": 20,
   "id": "unavailable-deployment",
   "metadata": {},
   "outputs": [
    {
     "data": {
      "text/plain": [
       "1     0.00013\n",
       "2     0.00111\n",
       "3     0.00893\n",
       "4     0.03600\n",
       "5     0.10113\n",
       "6     0.20234\n",
       "7     0.26735\n",
       "8     0.23449\n",
       "9     0.12052\n",
       "10    0.02800\n",
       "dtype: float64"
      ]
     },
     "execution_count": 20,
     "metadata": {},
     "output_type": "execute_result"
    }
   ],
   "source": [
    "import pandas as pd\n",
    "X, counts = np.unique(test, return_counts=True)\n",
    "pd.Series(counts/M, index = X)"
   ]
  },
  {
   "cell_type": "code",
   "execution_count": 35,
   "id": "downtown-desktop",
   "metadata": {},
   "outputs": [
    {
     "name": "stdout",
     "output_type": "stream",
     "text": [
      "exact distribution = \n",
      "[5.90490000e-06 1.37781000e-04 1.44670050e-03 9.00169200e-03\n",
      " 3.67569090e-02 1.02919345e-01 2.00120949e-01 2.66827932e-01\n",
      " 2.33474440e-01 1.21060821e-01]\n"
     ]
    }
   ],
   "source": [
    "from scipy import special\n",
    "X = np.arange(10)\n",
    "p = scipy.special.factorial(n) / (scipy.special.factorial(n - X) * scipy.special.factorial(X)) *(p**X)*((1-p)**(n-X))\n",
    "print(\"exact distribution = \")\n",
    "print(p)"
   ]
  },
  {
   "cell_type": "code",
   "execution_count": 37,
   "id": "prepared-assembly",
   "metadata": {},
   "outputs": [
    {
     "data": {
      "image/png": "[encoded data removed]",
      "text/plain": [
       "<Figure size 1440x720 with 1 Axes>"
      ]
     },
     "metadata": {
      "needs_background": "light"
     },
     "output_type": "display_data"
    }
   ],
   "source": [
    "import matplotlib.pyplot as plt\n",
    "\n",
    "plt.figure(figsize = (20,10))\n",
    "plt.bar(X,counts/M)\n",
    "plt.grid()\n",
    "plt.show()"
   ]
  },
  {
   "cell_type": "markdown",
   "id": "pleasant-apache",
   "metadata": {},
   "source": [
    "Normal Distribution\n",
    "\n",
    "- use *PDF* to model the probability."
   ]
  },
  {
   "cell_type": "markdown",
   "id": "upset-basis",
   "metadata": {},
   "source": [
    "Let's first have a look at the what the time-series return data looks like:"
   ]
  },
  {
   "cell_type": "code",
   "execution_count": 26,
   "id": "clear-tucson",
   "metadata": {},
   "outputs": [],
   "source": [
    "import numpy as np\n",
    "import nasdaqdatalink\n",
    "nasdaqdatalink.read_key(filename=\".corporatenasdaqdatalinkapikey\")\n",
    "#get quandl data\n",
    "apl_table = nasdaqdatalink.get('WIKI/AAPL')\n",
    "apl = apl_table.loc['2015':'2019',['Open','Close']]\n",
    "apl['log_return'] = np.log(apl.Close).diff()\n",
    "apl = spy.dropna()"
   ]
  },
  {
   "cell_type": "code",
   "execution_count": 14,
   "id": "elect-float",
   "metadata": {},
   "outputs": [
    {
     "data": {
      "image/png": "[encoded data removed]",
      "text/plain": [
       "<Figure size 1440x720 with 1 Axes>"
      ]
     },
     "metadata": {
      "needs_background": "light"
     },
     "output_type": "display_data"
    }
   ],
   "source": [
    "plt.figure(figsize = (20,10))\n",
    "spy.log_return.plot()\n",
    "plt.show()"
   ]
  },
  {
   "cell_type": "code",
   "execution_count": 15,
   "id": "recognized-selection",
   "metadata": {},
   "outputs": [
    {
     "data": {
      "image/png": "[encoded data removed]",
      "text/plain": [
       "<Figure size 1440x720 with 1 Axes>"
      ]
     },
     "metadata": {
      "needs_background": "light"
     },
     "output_type": "display_data"
    }
   ],
   "source": [
    "plt.figure(figsize = (20,10))\n",
    "spy.log_return.plot.density()\n",
    "plt.show()"
   ]
  },
  {
   "cell_type": "markdown",
   "id": "informational-dispute",
   "metadata": {},
   "source": [
    "## Confidence Interval and Hypothesis Testing"
   ]
  },
  {
   "cell_type": "markdown",
   "id": "maritime-infrastructure",
   "metadata": {},
   "source": [
    "Confidence Interval\n",
    "In order to estimate the range of population mean, we define standard error of the mean as follows:\n",
    "\n",
    "$$\n",
    "SE = \\frac{\\sigma}{\\sqrt{n}}\n",
    "$$\n",
    "\n",
    "\n",
    "Where $\\sigma$ is the sample standard deviation and $n$ is the sample size.\n",
    "\n",
    "$$\n",
    "\\left(\\mu - 1.96\\cdot  SE, \\ \\mu + 1.96\\cdot SE \\right)\n",
    "$$\n",
    "\n",
    "Where $μ$ is the sample mean and $SE$ is the standard error.\n",
    "\n",
    "This interval is called confidence interval. We usually use $1.96$ to calculate a 95% confidence interval because we assume that the sample mean follows normal distribution. \n",
    "\n",
    "We will cover this in detail later. Let's try to calculate the confidence interval using the samples above:"
   ]
  },
  {
   "cell_type": "code",
   "execution_count": 32,
   "id": "thermal-anxiety",
   "metadata": {},
   "outputs": [
    {
     "name": "stdout",
     "output_type": "stream",
     "text": [
      "10 days 95% confidence inverval: (-0.04577951812235362, 0.03241863281241737)\n",
      "1000 days 95% confidence inverval: (-0.028132163905882832, 0.02919656566257096)\n"
     ]
    }
   ],
   "source": [
    "m10 = np.mean(apl.log_return.tail(10))\n",
    "std10 = np.std(apl.log_return.tail(10))\n",
    "\n",
    "m1000 = np.mean(apl.log_return.tail(1000))\n",
    "std1000 = np.std(apl.log_return.tail(1000))\n",
    "\n",
    "print('10 days 95% confidence inverval:', (m10 -1.96*std10,m10 + 1.96*std10))\n",
    "print('1000 days 95% confidence inverval:', (m1000 -1.96*std1000,m1000 + 1.96*std1000))"
   ]
  },
  {
   "cell_type": "markdown",
   "id": "manual-story",
   "metadata": {},
   "source": [
    "Normal Distribution is so commonly used that we should be able to remember some critical values of it. \n",
    "\n",
    "Specifically, we usually use 90%, 95% and 99% as the confidence level of a confidence interval. \n",
    "\n",
    "The critical values for these three confidence levels are 1.64, 1.96, and 2.32 respectively.\n",
    "\n",
    "\n",
    "\n",
    "\n",
    "![](image0.png)"
   ]
  },
  {
   "cell_type": "markdown",
   "id": "civil-sunglasses",
   "metadata": {},
   "source": [
    "### Central Limit Theory\n",
    "\n",
    "This assumption is supported by central limit theorem. This theorem tells us that given a sufficiently large sample size from a population with a finite level of variance, the mean of all samples from the same population will be approximately equal to the mean of the population, and the means of the samples will be approximately normal distributed.\n",
    "\n",
    "**This is the foundation of population mean confidence interval estimation.**\n",
    "\n"
   ]
  },
  {
   "cell_type": "markdown",
   "id": "lesbian-associate",
   "metadata": {},
   "source": [
    "### Hypothesis testing"
   ]
  },
  {
   "cell_type": "code",
   "execution_count": null,
   "id": "pleased-representation",
   "metadata": {},
   "outputs": [],
   "source": []
  }
 ],
 "metadata": {
  "kernelspec": {
   "display_name": "Python 3",
   "language": "python",
   "name": "python3"
  },
  "language_info": {
   "codemirror_mode": {
    "name": "ipython",
    "version": 3
   },
   "file_extension": ".py",
   "mimetype": "text/x-python",
   "name": "python",
   "nbconvert_exporter": "python",
   "pygments_lexer": "ipython3",
   "version": "3.7.9"
  }
 },
 "nbformat": 4,
 "nbformat_minor": 5
}
