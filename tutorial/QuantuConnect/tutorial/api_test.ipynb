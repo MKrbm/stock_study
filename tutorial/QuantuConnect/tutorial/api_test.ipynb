{
 "cells": [
  {
   "cell_type": "code",
   "execution_count": 1,
   "id": "traditional-analysis",
   "metadata": {},
   "outputs": [],
   "source": []
  },
  {
   "cell_type": "code",
   "execution_count": 17,
   "id": "understood-secret",
   "metadata": {},
   "outputs": [],
   "source": [
    "import nasdaqdatalink\n",
    "nasdaqdatalink.read_key(filename=\".corporatenasdaqdatalinkapikey\")\n",
    "# data = nasdaqdatalink.get(\"WIKI/AAPL\")\n",
    "# data = nasdaqdatalink.get_table('ZACKS/FC', ticker='AAPL')"
   ]
  },
  {
   "cell_type": "code",
   "execution_count": 18,
   "id": "molecular-combining",
   "metadata": {},
   "outputs": [
    {
     "data": {
      "text/plain": [
       "'SAfniVERzMmdSb_d1zw8'"
      ]
     },
     "execution_count": 18,
     "metadata": {},
     "output_type": "execute_result"
    }
   ],
   "source": [
    "nasdaqdatalink.ApiConfig.api_key"
   ]
  },
  {
   "cell_type": "code",
   "execution_count": null,
   "id": "different-pharmaceutical",
   "metadata": {},
   "outputs": [],
   "source": []
  }
 ],
 "metadata": {
  "kernelspec": {
   "display_name": "Python 3",
   "language": "python",
   "name": "python3"
  },
  "language_info": {
   "codemirror_mode": {
    "name": "ipython",
    "version": 3
   },
   "file_extension": ".py",
   "mimetype": "text/x-python",
   "name": "python",
   "nbconvert_exporter": "python",
   "pygments_lexer": "ipython3",
   "version": "3.7.9"
  }
 },
 "nbformat": 4,
 "nbformat_minor": 5
}
