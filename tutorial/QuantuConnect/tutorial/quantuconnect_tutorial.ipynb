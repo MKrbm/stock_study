{
 "cells": [
  {
   "cell_type": "markdown",
   "id": "convertible-sheriff",
   "metadata": {},
   "source": [
    "## 1"
   ]
  },
  {
   "cell_type": "markdown",
   "id": "criminal-reporter",
   "metadata": {},
   "source": [
    "### Logical operators"
   ]
  },
  {
   "cell_type": "code",
   "execution_count": 1,
   "id": "bacterial-blast",
   "metadata": {},
   "outputs": [
    {
     "name": "stdout",
     "output_type": "stream",
     "text": [
      "False\n",
      "True\n",
      "True\n",
      "True\n",
      "False\n",
      "True\n",
      "False\n",
      "True\n",
      "False\n"
     ]
    }
   ],
   "source": [
    "print(1 == 0)    # 1 equals 0\n",
    "print(1 == 1)    # 1 equals 1\n",
    "print(1 != 0)    # 1 is not equal to 0\n",
    "print(5 >= 5)    # 5 is greater than or equal to 5\n",
    "print(5 >= 6)    # 5 is greater than or equal to 6\n",
    "print(2 > 1 and 3 > 2)\n",
    "print(2 > 1 and 3 < 2)\n",
    "print(2 > 1 or  3 < 2)\n",
    "print(2 < 1 and 3 < 2)"
   ]
  },
  {
   "cell_type": "markdown",
   "id": "steady-sailing",
   "metadata": {},
   "source": [
    "### bitwise operators"
   ]
  },
  {
   "cell_type": "code",
   "execution_count": 2,
   "id": "wooden-technique",
   "metadata": {},
   "outputs": [
    {
     "name": "stdout",
     "output_type": "stream",
     "text": [
      "4\n",
      "16\n",
      "2\n"
     ]
    }
   ],
   "source": [
    "print(1 << 2) # 00001 -> 00100\n",
    "print(1 << 4) # 00001 -> 10000\n",
    "print(4 >> 1) # 00100 -> 00010"
   ]
  },
  {
   "cell_type": "markdown",
   "id": "gentle-repair",
   "metadata": {},
   "source": [
    "### some for loop techniques"
   ]
  },
  {
   "cell_type": "code",
   "execution_count": 3,
   "id": "functioning-sarah",
   "metadata": {},
   "outputs": [
    {
     "name": "stdout",
     "output_type": "stream",
     "text": [
      "['GOOG', 'FB', 'F', 'V', 'G', 'GE']\n"
     ]
    }
   ],
   "source": [
    "stocks = ['AAPL','GOOG','IBM','FB','F','V', 'G', 'GE']\n",
    "selected = ['AAPL','IBM']\n",
    "new_list = []\n",
    "for stock in stocks:\n",
    "    if stock not in selected:\n",
    "        new_list.append(stock)\n",
    "print(new_list) # print new_list"
   ]
  },
  {
   "cell_type": "code",
   "execution_count": 4,
   "id": "cognitive-calvin",
   "metadata": {},
   "outputs": [
    {
     "name": "stdout",
     "output_type": "stream",
     "text": [
      "[1, 4, 9, 16, 25]\n"
     ]
    }
   ],
   "source": [
    "squares = []\n",
    "for i in [1,2,3,4,5]:\n",
    "    squares.append(i**2)\n",
    "print(squares)"
   ]
  },
  {
   "cell_type": "markdown",
   "id": "blond-taste",
   "metadata": {},
   "source": [
    "### list comprehension"
   ]
  },
  {
   "cell_type": "code",
   "execution_count": 5,
   "id": "southern-projector",
   "metadata": {},
   "outputs": [
    {
     "name": "stdout",
     "output_type": "stream",
     "text": [
      "[1, 4, 9, 16, 25]\n"
     ]
    }
   ],
   "source": [
    "foo = [1,2,3,4,5]\n",
    "squares = [x**2 for x in foo] \n",
    "print(squares)"
   ]
  },
  {
   "cell_type": "code",
   "execution_count": 6,
   "id": "dirty-welsh",
   "metadata": {},
   "outputs": [
    {
     "name": "stdout",
     "output_type": "stream",
     "text": [
      "[(1, 3), (1, 4), (2, 3), (2, 1), (2, 4), (3, 1), (3, 4)]\n"
     ]
    }
   ],
   "source": [
    "print([(x, y) for x in [1,2,3] for y in [3,1,4] if x != y])"
   ]
  },
  {
   "cell_type": "markdown",
   "id": "sealed-soccer",
   "metadata": {},
   "source": [
    "# Functions"
   ]
  },
  {
   "cell_type": "code",
   "execution_count": 7,
   "id": "south-election",
   "metadata": {},
   "outputs": [
    {
     "name": "stdout",
     "output_type": "stream",
     "text": [
      "12\n",
      "Welcome to QuantConnect\n"
     ]
    }
   ],
   "source": [
    "def product(x,y):\n",
    "    return x*y\n",
    "\n",
    "def say_hi():\n",
    "    print(\"Welcome to QuantConnect\")\n",
    "print(product(3,4))\n",
    "say_hi()"
   ]
  },
  {
   "cell_type": "markdown",
   "id": "bigger-merit",
   "metadata": {},
   "source": [
    "### Built-in Function"
   ]
  },
  {
   "cell_type": "code",
   "execution_count": 8,
   "id": "durable-registrar",
   "metadata": {},
   "outputs": [
    {
     "name": "stdout",
     "output_type": "stream",
     "text": [
      "[0, 1, 2, 3, 4, 5, 6, 7, 8, 9]\n"
     ]
    }
   ],
   "source": [
    "print(list(range(10)))"
   ]
  },
  {
   "cell_type": "code",
   "execution_count": 9,
   "id": "accessible-terminal",
   "metadata": {},
   "outputs": [
    {
     "name": "stdout",
     "output_type": "stream",
     "text": [
      "The number of tickers is 8\n",
      "1 AAPL\n",
      "2 GOOGL\n",
      "3 IBM\n",
      "4 FB\n",
      "5 F\n",
      "6 V\n",
      "7 G\n",
      "8 GE\n"
     ]
    }
   ],
   "source": [
    "tickers = ['AAPL', 'GOOGL', 'IBM', 'FB', 'F', 'V', 'G', 'GE']\n",
    "print(\"The number of tickers is {}\".format(len(tickers)))\n",
    "for k in range(len(tickers)):\n",
    "    print(k + 1, tickers[k])"
   ]
  },
  {
   "cell_type": "markdown",
   "id": "positive-corps",
   "metadata": {},
   "source": [
    "### lambda"
   ]
  },
  {
   "cell_type": "code",
   "execution_count": 10,
   "id": "excited-richmond",
   "metadata": {},
   "outputs": [
    {
     "name": "stdout",
     "output_type": "stream",
     "text": [
      "9 10\n"
     ]
    }
   ],
   "source": [
    "f = lambda x: x**2\n",
    "g = lambda x,y:x+y\n",
    "print(f(3), g(4,6))"
   ]
  },
  {
   "cell_type": "markdown",
   "id": "realistic-panic",
   "metadata": {},
   "source": [
    "### map"
   ]
  },
  {
   "cell_type": "code",
   "execution_count": 11,
   "id": "sharp-beaver",
   "metadata": {},
   "outputs": [
    {
     "name": "stdout",
     "output_type": "stream",
     "text": [
      "[0, 1, 4, 9, 16, 25, 36, 49, 64, 81]\n",
      "[3, 5, 7, 9, 11, 13, 15, 17, 19, 21]\n"
     ]
    }
   ],
   "source": [
    "print(list(map(f, range(10))))\n",
    "print(list(map(g, range(10), range(3,13))))"
   ]
  },
  {
   "cell_type": "markdown",
   "id": "excess-affair",
   "metadata": {},
   "source": [
    "### sorted"
   ]
  },
  {
   "cell_type": "code",
   "execution_count": 12,
   "id": "mathematical-facility",
   "metadata": {},
   "outputs": [
    {
     "name": "stdout",
     "output_type": "stream",
     "text": [
      "[1, 2, 3, 4, 5]\n"
     ]
    }
   ],
   "source": [
    "print(sorted([5,2,3,4,1]))"
   ]
  },
  {
   "cell_type": "code",
   "execution_count": 13,
   "id": "tight-belgium",
   "metadata": {},
   "outputs": [
    {
     "name": "stdout",
     "output_type": "stream",
     "text": [
      "[('MSFT', 69), ('WMT', 75.32), ('AAPL', 144.09), ('FB', 150), ('GOOGL', 911.71)]\n"
     ]
    }
   ],
   "source": [
    "price_list = [('AAPL', 144.09), ('GOOGL', 911.71), ('MSFT', 69), ('FB', 150), ('WMT', 75.32)]\n",
    "print(sorted(price_list, key = lambda x: x[1]))"
   ]
  },
  {
   "cell_type": "code",
   "execution_count": 14,
   "id": "temporal-least",
   "metadata": {},
   "outputs": [
    {
     "name": "stdout",
     "output_type": "stream",
     "text": [
      "[('MSFT', 69), ('WMT', 75.32), ('AAPL', 144.09), ('FB', 150), ('GOOGL', 911.71)]\n"
     ]
    }
   ],
   "source": [
    "price_list = [('AAPL', 144.09), ('GOOGL', 911.71), ('MSFT', 69), ('FB', 150), ('WMT', 75.32)]\n",
    "price_list.sort(key = lambda x: x[1])\n",
    "print(price_list)"
   ]
  },
  {
   "cell_type": "markdown",
   "id": "hindu-fishing",
   "metadata": {},
   "source": [
    "### Object-Oriented Programming"
   ]
  },
  {
   "cell_type": "code",
   "execution_count": 15,
   "id": "advisory-script",
   "metadata": {},
   "outputs": [],
   "source": [
    "class Stock:\n",
    "    def __init__(self, ticker, open_, close, volume):\n",
    "        self.ticker = ticker\n",
    "        self.open = open_\n",
    "        self.close = close\n",
    "        self.volume = volume\n",
    "        self.rate_return = float(close)/open_ - 1\n",
    "\n",
    "    def update(self, open_, close):\n",
    "        self.open = open_\n",
    "        self.close = close\n",
    "        self.rate_return = float(self.close)/self.open - 1\n",
    "\n",
    "    def print_return(self):\n",
    "        print(self.rate_return)"
   ]
  },
  {
   "cell_type": "code",
   "execution_count": 16,
   "id": "blank-alexander",
   "metadata": {},
   "outputs": [],
   "source": [
    "apple  = Stock('AAPL', 143.69, 144.09, 20109375)\n",
    "google = Stock('GOOGL', 898.7, 911.7, 1561616)"
   ]
  },
  {
   "cell_type": "code",
   "execution_count": 17,
   "id": "environmental-european",
   "metadata": {},
   "outputs": [
    {
     "name": "stdout",
     "output_type": "stream",
     "text": [
      "AAPL\n",
      "GOOGL\n",
      "0.0027837706173012844\n"
     ]
    }
   ],
   "source": [
    "print(apple.ticker)\n",
    "print(google.ticker)\n",
    "apple.print_return()"
   ]
  },
  {
   "cell_type": "markdown",
   "id": "interior-banking",
   "metadata": {},
   "source": [
    "### class inheritance"
   ]
  },
  {
   "cell_type": "code",
   "execution_count": 18,
   "id": "round-wallpaper",
   "metadata": {},
   "outputs": [],
   "source": [
    "class Child(Stock):\n",
    "    def __init__(self, name):\n",
    "        self.name = name"
   ]
  },
  {
   "cell_type": "code",
   "execution_count": 19,
   "id": "seeing-morgan",
   "metadata": {},
   "outputs": [],
   "source": [
    "aa = Child('AA')"
   ]
  },
  {
   "cell_type": "code",
   "execution_count": 20,
   "id": "listed-howard",
   "metadata": {},
   "outputs": [
    {
     "data": {
      "text/plain": [
       "100"
      ]
     },
     "execution_count": 20,
     "metadata": {},
     "output_type": "execute_result"
    }
   ],
   "source": [
    "aa.update(100, 102)\n",
    "aa.open"
   ]
  },
  {
   "cell_type": "markdown",
   "id": "promising-thumb",
   "metadata": {},
   "source": [
    "## numpy"
   ]
  },
  {
   "cell_type": "code",
   "execution_count": 21,
   "id": "delayed-sharing",
   "metadata": {},
   "outputs": [],
   "source": [
    "import numpy as np"
   ]
  },
  {
   "cell_type": "markdown",
   "id": "adolescent-costs",
   "metadata": {},
   "source": [
    "### basic numpy arrays"
   ]
  },
  {
   "cell_type": "code",
   "execution_count": 22,
   "id": "hairy-broadcast",
   "metadata": {},
   "outputs": [
    {
     "name": "stdout",
     "output_type": "stream",
     "text": [
      "[143.73 145.83 143.68 144.02 143.5  142.62] <class 'numpy.ndarray'>\n"
     ]
    }
   ],
   "source": [
    "price_list = [143.73, 145.83, 143.68, 144.02, 143.5, 142.62]\n",
    "price_array = np.array(price_list)\n",
    "print(price_array, type(price_array))"
   ]
  },
  {
   "cell_type": "code",
   "execution_count": 23,
   "id": "smart-romantic",
   "metadata": {},
   "outputs": [
    {
     "name": "stdout",
     "output_type": "stream",
     "text": [
      "[[1 3]\n",
      " [2 4]] <class 'numpy.ndarray'>\n"
     ]
    }
   ],
   "source": [
    "Ar = np.array([[1,3], [2,4]])\n",
    "print(Ar, type(Ar))"
   ]
  },
  {
   "cell_type": "code",
   "execution_count": 24,
   "id": "announced-worst",
   "metadata": {},
   "outputs": [
    {
     "name": "stdout",
     "output_type": "stream",
     "text": [
      "(2, 2)\n"
     ]
    }
   ],
   "source": [
    "print(Ar.shape)"
   ]
  },
  {
   "cell_type": "code",
   "execution_count": 25,
   "id": "single-television",
   "metadata": {},
   "outputs": [
    {
     "name": "stdout",
     "output_type": "stream",
     "text": [
      "First column: [1 2]\n",
      "First row: [1 3]\n"
     ]
    }
   ],
   "source": [
    "print('First column:', Ar[:,0])\n",
    "print('First row:', Ar[0,:])"
   ]
  },
  {
   "cell_type": "markdown",
   "id": "functional-agent",
   "metadata": {},
   "source": [
    "### Functions for array"
   ]
  },
  {
   "cell_type": "code",
   "execution_count": 26,
   "id": "homeless-ontario",
   "metadata": {},
   "outputs": [
    {
     "name": "stdout",
     "output_type": "stream",
     "text": [
      "[4.96793654 4.98244156 4.9675886  4.96995218 4.96633504 4.96018375]\n",
      "[-0.70559472  0.96790038 -0.74012893 -0.47350161 -0.8485623  -0.94845689]\n"
     ]
    }
   ],
   "source": [
    "print(np.log(price_array))\n",
    "print(np.sin(price_array))"
   ]
  },
  {
   "cell_type": "markdown",
   "id": "operational-chemical",
   "metadata": {},
   "source": [
    "### some Statistic"
   ]
  },
  {
   "cell_type": "code",
   "execution_count": 27,
   "id": "regional-engineer",
   "metadata": {},
   "outputs": [
    {
     "name": "stdout",
     "output_type": "stream",
     "text": [
      "143.89666666666668\n",
      "863.38\n",
      "145.83\n"
     ]
    }
   ],
   "source": [
    "print(np.mean(price_array))\n",
    "print(np.sum(price_array))\n",
    "print(np.max(price_array))"
   ]
  },
  {
   "cell_type": "markdown",
   "id": "solid-seeking",
   "metadata": {},
   "source": [
    "## pandas"
   ]
  },
  {
   "cell_type": "code",
   "execution_count": 28,
   "id": "domestic-happiness",
   "metadata": {},
   "outputs": [],
   "source": [
    "import pandas as pd"
   ]
  },
  {
   "cell_type": "markdown",
   "id": "valued-obligation",
   "metadata": {},
   "source": [
    "### pandas.series"
   ]
  },
  {
   "cell_type": "code",
   "execution_count": 29,
   "id": "increased-league",
   "metadata": {},
   "outputs": [
    {
     "name": "stdout",
     "output_type": "stream",
     "text": [
      "0    143.73\n",
      "1    145.83\n",
      "2    143.68\n",
      "3    144.02\n",
      "4    143.50\n",
      "5    142.62\n",
      "dtype: float64\n"
     ]
    }
   ],
   "source": [
    "price = [143.73, 145.83, 143.68, 144.02, 143.5, 142.62]\n",
    "s = pd.Series(price)\n",
    "print(s)"
   ]
  },
  {
   "cell_type": "code",
   "execution_count": 30,
   "id": "representative-cardiff",
   "metadata": {},
   "outputs": [
    {
     "name": "stdout",
     "output_type": "stream",
     "text": [
      "a    143.73\n",
      "b    145.83\n",
      "c    143.68\n",
      "d    144.02\n",
      "e    143.50\n",
      "f    142.62\n",
      "dtype: float64\n"
     ]
    }
   ],
   "source": [
    "s = pd.Series(price, index = ['a', 'b', 'c', 'd', 'e', 'f'])\n",
    "print(s)"
   ]
  },
  {
   "cell_type": "code",
   "execution_count": 31,
   "id": "prerequisite-knowing",
   "metadata": {},
   "outputs": [
    {
     "name": "stdout",
     "output_type": "stream",
     "text": [
      "6    143.73\n",
      "5    145.83\n",
      "4    143.68\n",
      "3    144.02\n",
      "2    143.50\n",
      "1    142.62\n",
      "dtype: float64\n"
     ]
    }
   ],
   "source": [
    "s.index = [6,5,4,3,2,1]\n",
    "print(s)"
   ]
  },
  {
   "cell_type": "code",
   "execution_count": 32,
   "id": "early-token",
   "metadata": {},
   "outputs": [
    {
     "name": "stdout",
     "output_type": "stream",
     "text": [
      "5    145.83\n",
      "4    143.68\n",
      "3    144.02\n",
      "2    143.50\n",
      "1    142.62\n",
      "dtype: float64\n",
      "6    143.73\n",
      "5    145.83\n",
      "4    143.68\n",
      "3    144.02\n",
      "dtype: float64\n"
     ]
    }
   ],
   "source": [
    "print(s[1:])\n",
    "print(s[:-2])"
   ]
  },
  {
   "cell_type": "markdown",
   "id": "august-indiana",
   "metadata": {},
   "source": [
    "### We can get the statistical summaries of a series"
   ]
  },
  {
   "cell_type": "code",
   "execution_count": 33,
   "id": "joint-reservation",
   "metadata": {},
   "outputs": [
    {
     "name": "stdout",
     "output_type": "stream",
     "text": [
      "0    143.73\n",
      "1    145.83\n",
      "2    143.68\n",
      "3    144.02\n",
      "4    143.50\n",
      "5    142.62\n",
      "Name: Apple Prices, dtype: float64\n",
      "count      6.000000\n",
      "mean     143.896667\n",
      "std        1.059711\n",
      "min      142.620000\n",
      "25%      143.545000\n",
      "50%      143.705000\n",
      "75%      143.947500\n",
      "max      145.830000\n",
      "Name: Apple Prices, dtype: float64\n"
     ]
    }
   ],
   "source": [
    "s = pd.Series(price, name = 'Apple Prices')\n",
    "print(s)\n",
    "print(s.describe())"
   ]
  },
  {
   "cell_type": "markdown",
   "id": "synthetic-accessory",
   "metadata": {},
   "source": [
    "### Time index"
   ]
  },
  {
   "cell_type": "code",
   "execution_count": 34,
   "id": "naked-comparative",
   "metadata": {},
   "outputs": [
    {
     "name": "stdout",
     "output_type": "stream",
     "text": [
      "DatetimeIndex(['2017-01-01', '2017-01-02', '2017-01-03', '2017-01-04',\n",
      "               '2017-01-05', '2017-01-06'],\n",
      "              dtype='datetime64[ns]', freq='D')\n"
     ]
    }
   ],
   "source": [
    "time_index = pd.date_range('2017-01-01', periods = len(s), freq = 'D')\n",
    "print(time_index)\n",
    "s.index = time_index"
   ]
  },
  {
   "cell_type": "code",
   "execution_count": 35,
   "id": "bright-seller",
   "metadata": {},
   "outputs": [
    {
     "name": "stdout",
     "output_type": "stream",
     "text": [
      "2017-01-01    143.73\n",
      "2017-01-02    145.83\n",
      "2017-01-03    143.68\n",
      "2017-01-04    144.02\n",
      "2017-01-05    143.50\n",
      "2017-01-06    142.62\n",
      "Freq: D, Name: Apple Prices, dtype: float64\n"
     ]
    }
   ],
   "source": [
    "print(s)"
   ]
  },
  {
   "cell_type": "code",
   "execution_count": 36,
   "id": "median-elimination",
   "metadata": {},
   "outputs": [
    {
     "name": "stdout",
     "output_type": "stream",
     "text": [
      "143.68 143.68\n"
     ]
    }
   ],
   "source": [
    "print(s.iloc[2], s['2017-01-03 '])"
   ]
  },
  {
   "cell_type": "code",
   "execution_count": 37,
   "id": "referenced-progress",
   "metadata": {},
   "outputs": [
    {
     "name": "stdout",
     "output_type": "stream",
     "text": [
      "2017-01-03    143.68\n",
      "2017-01-04    144.02\n",
      "2017-01-05    143.50\n",
      "Freq: D, Name: Apple Prices, dtype: float64\n"
     ]
    }
   ],
   "source": [
    "print(s['2017-01-03' : '2017-01-05'])"
   ]
  },
  {
   "cell_type": "code",
   "execution_count": 38,
   "id": "united-judges",
   "metadata": {},
   "outputs": [
    {
     "data": {
      "text/plain": [
       "2017-01-01     True\n",
       "2017-01-02    False\n",
       "2017-01-03     True\n",
       "2017-01-04    False\n",
       "2017-01-05     True\n",
       "2017-01-06     True\n",
       "Freq: D, Name: Apple Prices, dtype: bool"
      ]
     },
     "execution_count": 38,
     "metadata": {},
     "output_type": "execute_result"
    }
   ],
   "source": [
    "s < np.mean(s)"
   ]
  },
  {
   "cell_type": "markdown",
   "id": "narrative-burden",
   "metadata": {},
   "source": [
    "## Rate of Return\n",
    "\n",
    "$$\n",
    "r = \\frac{p_t}{p_0} - 1 = \\frac{p_t - p_0}{p_0}\n",
    "$$"
   ]
  },
  {
   "cell_type": "code",
   "execution_count": 39,
   "id": "adjusted-forty",
   "metadata": {},
   "outputs": [
    {
     "name": "stdout",
     "output_type": "stream",
     "text": [
      "0.020000000000000018\n"
     ]
    }
   ],
   "source": [
    "import numpy as np\n",
    "rate_return = 102.0/100 - 1\n",
    "print(rate_return)"
   ]
  },
  {
   "cell_type": "markdown",
   "id": "unauthorized-groove",
   "metadata": {},
   "source": [
    "let's say the series of return is :\n",
    "$$\n",
    "\\mathbf{r} = \\{r_1, r_2, r_3, ..\\}\n",
    "$$\n",
    "cumulative return or overall return can be calculated by \n",
    "$$\n",
    "r = \\Pi_i(1+r_i) -1\n",
    "$$"
   ]
  },
  {
   "cell_type": "markdown",
   "id": "practical-patrol",
   "metadata": {},
   "source": [
    "Now consider the following situation: we have two strategies: strategy A and strategy B. \n",
    "\n",
    "We backtested strategy A for 1 years and the cumulative return is 20%, while we backtested strategy B for 3 months(one quarter) and the cumulative return is 6%. \n",
    "\n",
    "Which strategy has a high rate of return?\n",
    "\n",
    "Our commonly used method is to convert all the returns into compounding annual return, regardless of the investing horizon of each strategy.\n",
    "\n",
    "$$\n",
    "(1+0.06)^4 - 1 = r\\\\\n",
    "r = 0.262\n",
    "$$"
   ]
  },
  {
   "cell_type": "markdown",
   "id": "computational-nicholas",
   "metadata": {},
   "source": [
    "## Logarithm Return"
   ]
  },
  {
   "cell_type": "markdown",
   "id": "forbidden-rochester",
   "metadata": {},
   "source": [
    "### Nominal return\n",
    "In the above example, strategy A has $6%$ return over three months. Nominally, the annual return would be $4*6%$ = 24%. This nominal annual interest rate is called the **stated annual interest rate**.\n",
    "\n",
    "It is calculated as the periodic interest rate times (6%) the number of periods per year (4). \n",
    "\n",
    "It works according to the simple interest and does not take into account the compounding periods, while the effective annual interest rate is around **26%** as we calculated above and it does account for **intra-year compounding**.\n",
    "$$\n",
    "r_{\\mathcal{effective}} = (1 + \\frac{r_\\mathcal{nominal}}{n})^n - 1\n",
    "$$\n",
    "\n",
    "Now imagine the price of asset is changing every second or even every millisecond, the period of compounding n approaches infinite. This is called **continuous compounding**. The calculation formula is given below:\n",
    "\n",
    "$$\n",
    "\\lim_{n \\to +\\infty}(1+\\frac{r}{n})^n = e^r\n",
    "$$\n",
    "\n",
    "Therefore, \n",
    "$$\n",
    "e^{r_\\mathcal{nominal}} = 1 + r_{\\mathcal{effective}} = \\frac{p_t}{p_0}\n",
    "$$ \n",
    "then, we take $ln$ on both side of the equation:\n",
    "$$\n",
    "r_\\mathcal{nominal} = lnp_t - lnp_0\n",
    "$$\n",
    "Here we got the **logarithmic return**, or **continuously compounded return**.\n",
    "if $r_\\mathcal{nominal} \\ll 1$, then, $r_\\mathcal{effective} = r_\\mathcal{nominal}$\n"
   ]
  },
  {
   "cell_type": "code",
   "execution_count": 44,
   "id": "earned-printing",
   "metadata": {},
   "outputs": [
    {
     "name": "stdout",
     "output_type": "stream",
     "text": [
      "               Open   Close  log_price  log_return\n",
      "Date                                              \n",
      "2017-03-01  137.890  139.79   4.940141         NaN\n",
      "2017-03-02  140.000  138.96   4.934186   -0.005955\n",
      "2017-03-03  138.780  139.78   4.940070    0.005884\n",
      "2017-03-06  139.365  139.34   4.936917   -0.003153\n",
      "2017-03-07  139.060  139.52   4.938208    0.001291\n",
      "2017-03-08  138.950  139.00   4.934474   -0.003734\n",
      "2017-03-09  138.740  138.68   4.932169   -0.002305\n",
      "2017-03-10  139.250  139.14   4.935481    0.003311\n",
      "2017-03-13  138.850  139.20   4.935912    0.000431\n",
      "2017-03-14  139.300  138.99   4.934402   -0.001510\n",
      "2017-03-15  139.410  140.46   4.944923    0.010521\n",
      "2017-03-16  140.720  140.69   4.946559    0.001636\n",
      "2017-03-17  141.000  139.99   4.941571   -0.004988\n",
      "2017-03-20  140.400  141.46   4.952017    0.010446\n",
      "2017-03-21  142.110  139.84   4.940499   -0.011518\n",
      "2017-03-22  139.845  141.42   4.951734    0.011235\n",
      "2017-03-23  141.260  140.92   4.948192   -0.003542\n",
      "2017-03-24  141.500  140.64   4.946203   -0.001989\n",
      "2017-03-27  139.390  140.88   4.947908    0.001705\n",
      "2017-03-28  140.910  143.80   4.968423    0.020515\n",
      "2017-03-29  143.680  144.12   4.970646    0.002223\n",
      "2017-03-30  144.190  143.93   4.969327   -0.001319\n",
      "2017-03-31  143.720  143.66   4.967449   -0.001878\n"
     ]
    }
   ],
   "source": [
    "import quandl\n",
    "import numpy as np\n",
    "import quandl\n",
    "quandl.ApiConfig.api_key = 'SAfniVERzMmdSb_d1zw8'\n",
    "#get quandl data\n",
    "aapl_table = quandl.get('WIKI/AAPL')\n",
    "aapl = aapl_table.loc['2017-3',['Open','Close']]\n",
    "#take log return\n",
    "aapl['log_price'] = np.log(aapl.Close)\n",
    "aapl['log_return'] = aapl['log_price'].diff()\n",
    "print(aapl)"
   ]
  },
  {
   "cell_type": "code",
   "execution_count": 42,
   "id": "protective-recovery",
   "metadata": {},
   "outputs": [
    {
     "name": "stdout",
     "output_type": "stream",
     "text": [
      "Help on function get in module quandl.get:\n",
      "\n",
      "get(dataset, **kwargs)\n",
      "    Return dataframe of requested dataset from Quandl.\n",
      "    :param dataset: str or list, depending on single dataset usage or multiset usage\n",
      "            Dataset codes are available on the Quandl website\n",
      "    :param str api_key: Downloads are limited to 50 unless api_key is specified\n",
      "    :param str start_date, end_date: Optional datefilers, otherwise entire\n",
      "           dataset is returned\n",
      "    :param str collapse: Options are daily, weekly, monthly, quarterly, annual\n",
      "    :param str transform: options are diff, rdiff, cumul, and normalize\n",
      "    :param int rows: Number of rows which will be returned\n",
      "    :param str order: options are asc, desc. Default: `asc`\n",
      "    :param str returns: specify what format you wish your dataset returned as,\n",
      "        either `numpy` for a numpy ndarray or `pandas`. Default: `pandas`\n",
      "    :returns: :class:`pandas.DataFrame` or :class:`numpy.ndarray`\n",
      "    Note that Pandas expects timeseries data to be sorted ascending for most\n",
      "    timeseries functionality to work.\n",
      "    Any other `kwargs` passed to `get` are sent as field/value params to Quandl\n",
      "    with no interference.\n",
      "\n"
     ]
    }
   ],
   "source": [
    "help(quandl.get)"
   ]
  },
  {
   "cell_type": "code",
   "execution_count": 41,
   "id": "fifty-knife",
   "metadata": {},
   "outputs": [
    {
     "data": {
      "text/html": [
       "<div>\n",
       "<style scoped>\n",
       "    .dataframe tbody tr th:only-of-type {\n",
       "        vertical-align: middle;\n",
       "    }\n",
       "\n",
       "    .dataframe tbody tr th {\n",
       "        vertical-align: top;\n",
       "    }\n",
       "\n",
       "    .dataframe thead th {\n",
       "        text-align: right;\n",
       "    }\n",
       "</style>\n",
       "<table border=\"1\" class=\"dataframe\">\n",
       "  <thead>\n",
       "    <tr style=\"text-align: right;\">\n",
       "      <th></th>\n",
       "      <th>Open</th>\n",
       "      <th>High</th>\n",
       "      <th>Low</th>\n",
       "      <th>Close</th>\n",
       "      <th>Volume</th>\n",
       "      <th>Ex-Dividend</th>\n",
       "      <th>Split Ratio</th>\n",
       "      <th>Adj. Open</th>\n",
       "      <th>Adj. High</th>\n",
       "      <th>Adj. Low</th>\n",
       "      <th>Adj. Close</th>\n",
       "      <th>Adj. Volume</th>\n",
       "    </tr>\n",
       "    <tr>\n",
       "      <th>Date</th>\n",
       "      <th></th>\n",
       "      <th></th>\n",
       "      <th></th>\n",
       "      <th></th>\n",
       "      <th></th>\n",
       "      <th></th>\n",
       "      <th></th>\n",
       "      <th></th>\n",
       "      <th></th>\n",
       "      <th></th>\n",
       "      <th></th>\n",
       "      <th></th>\n",
       "    </tr>\n",
       "  </thead>\n",
       "  <tbody>\n",
       "    <tr>\n",
       "      <th>1980-12-12</th>\n",
       "      <td>28.75</td>\n",
       "      <td>28.87</td>\n",
       "      <td>28.75</td>\n",
       "      <td>28.750</td>\n",
       "      <td>2093900.0</td>\n",
       "      <td>0.0</td>\n",
       "      <td>1.0</td>\n",
       "      <td>0.422706</td>\n",
       "      <td>0.424470</td>\n",
       "      <td>0.422706</td>\n",
       "      <td>0.422706</td>\n",
       "      <td>117258400.0</td>\n",
       "    </tr>\n",
       "    <tr>\n",
       "      <th>1980-12-15</th>\n",
       "      <td>27.38</td>\n",
       "      <td>27.38</td>\n",
       "      <td>27.25</td>\n",
       "      <td>27.250</td>\n",
       "      <td>785200.0</td>\n",
       "      <td>0.0</td>\n",
       "      <td>1.0</td>\n",
       "      <td>0.402563</td>\n",
       "      <td>0.402563</td>\n",
       "      <td>0.400652</td>\n",
       "      <td>0.400652</td>\n",
       "      <td>43971200.0</td>\n",
       "    </tr>\n",
       "    <tr>\n",
       "      <th>1980-12-16</th>\n",
       "      <td>25.37</td>\n",
       "      <td>25.37</td>\n",
       "      <td>25.25</td>\n",
       "      <td>25.250</td>\n",
       "      <td>472000.0</td>\n",
       "      <td>0.0</td>\n",
       "      <td>1.0</td>\n",
       "      <td>0.373010</td>\n",
       "      <td>0.373010</td>\n",
       "      <td>0.371246</td>\n",
       "      <td>0.371246</td>\n",
       "      <td>26432000.0</td>\n",
       "    </tr>\n",
       "    <tr>\n",
       "      <th>1980-12-17</th>\n",
       "      <td>25.87</td>\n",
       "      <td>26.00</td>\n",
       "      <td>25.87</td>\n",
       "      <td>25.870</td>\n",
       "      <td>385900.0</td>\n",
       "      <td>0.0</td>\n",
       "      <td>1.0</td>\n",
       "      <td>0.380362</td>\n",
       "      <td>0.382273</td>\n",
       "      <td>0.380362</td>\n",
       "      <td>0.380362</td>\n",
       "      <td>21610400.0</td>\n",
       "    </tr>\n",
       "    <tr>\n",
       "      <th>1980-12-18</th>\n",
       "      <td>26.63</td>\n",
       "      <td>26.75</td>\n",
       "      <td>26.63</td>\n",
       "      <td>26.630</td>\n",
       "      <td>327900.0</td>\n",
       "      <td>0.0</td>\n",
       "      <td>1.0</td>\n",
       "      <td>0.391536</td>\n",
       "      <td>0.393300</td>\n",
       "      <td>0.391536</td>\n",
       "      <td>0.391536</td>\n",
       "      <td>18362400.0</td>\n",
       "    </tr>\n",
       "    <tr>\n",
       "      <th>...</th>\n",
       "      <td>...</td>\n",
       "      <td>...</td>\n",
       "      <td>...</td>\n",
       "      <td>...</td>\n",
       "      <td>...</td>\n",
       "      <td>...</td>\n",
       "      <td>...</td>\n",
       "      <td>...</td>\n",
       "      <td>...</td>\n",
       "      <td>...</td>\n",
       "      <td>...</td>\n",
       "      <td>...</td>\n",
       "    </tr>\n",
       "    <tr>\n",
       "      <th>2018-03-21</th>\n",
       "      <td>175.04</td>\n",
       "      <td>175.09</td>\n",
       "      <td>171.26</td>\n",
       "      <td>171.270</td>\n",
       "      <td>35247358.0</td>\n",
       "      <td>0.0</td>\n",
       "      <td>1.0</td>\n",
       "      <td>175.040000</td>\n",
       "      <td>175.090000</td>\n",
       "      <td>171.260000</td>\n",
       "      <td>171.270000</td>\n",
       "      <td>35247358.0</td>\n",
       "    </tr>\n",
       "    <tr>\n",
       "      <th>2018-03-22</th>\n",
       "      <td>170.00</td>\n",
       "      <td>172.68</td>\n",
       "      <td>168.60</td>\n",
       "      <td>168.845</td>\n",
       "      <td>41051076.0</td>\n",
       "      <td>0.0</td>\n",
       "      <td>1.0</td>\n",
       "      <td>170.000000</td>\n",
       "      <td>172.680000</td>\n",
       "      <td>168.600000</td>\n",
       "      <td>168.845000</td>\n",
       "      <td>41051076.0</td>\n",
       "    </tr>\n",
       "    <tr>\n",
       "      <th>2018-03-23</th>\n",
       "      <td>168.39</td>\n",
       "      <td>169.92</td>\n",
       "      <td>164.94</td>\n",
       "      <td>164.940</td>\n",
       "      <td>40248954.0</td>\n",
       "      <td>0.0</td>\n",
       "      <td>1.0</td>\n",
       "      <td>168.390000</td>\n",
       "      <td>169.920000</td>\n",
       "      <td>164.940000</td>\n",
       "      <td>164.940000</td>\n",
       "      <td>40248954.0</td>\n",
       "    </tr>\n",
       "    <tr>\n",
       "      <th>2018-03-26</th>\n",
       "      <td>168.07</td>\n",
       "      <td>173.10</td>\n",
       "      <td>166.44</td>\n",
       "      <td>172.770</td>\n",
       "      <td>36272617.0</td>\n",
       "      <td>0.0</td>\n",
       "      <td>1.0</td>\n",
       "      <td>168.070000</td>\n",
       "      <td>173.100000</td>\n",
       "      <td>166.440000</td>\n",
       "      <td>172.770000</td>\n",
       "      <td>36272617.0</td>\n",
       "    </tr>\n",
       "    <tr>\n",
       "      <th>2018-03-27</th>\n",
       "      <td>173.68</td>\n",
       "      <td>175.15</td>\n",
       "      <td>166.92</td>\n",
       "      <td>168.340</td>\n",
       "      <td>38962839.0</td>\n",
       "      <td>0.0</td>\n",
       "      <td>1.0</td>\n",
       "      <td>173.680000</td>\n",
       "      <td>175.150000</td>\n",
       "      <td>166.920000</td>\n",
       "      <td>168.340000</td>\n",
       "      <td>38962839.0</td>\n",
       "    </tr>\n",
       "  </tbody>\n",
       "</table>\n",
       "<p>9400 rows × 12 columns</p>\n",
       "</div>"
      ],
      "text/plain": [
       "              Open    High     Low    Close      Volume  Ex-Dividend  \\\n",
       "Date                                                                   \n",
       "1980-12-12   28.75   28.87   28.75   28.750   2093900.0          0.0   \n",
       "1980-12-15   27.38   27.38   27.25   27.250    785200.0          0.0   \n",
       "1980-12-16   25.37   25.37   25.25   25.250    472000.0          0.0   \n",
       "1980-12-17   25.87   26.00   25.87   25.870    385900.0          0.0   \n",
       "1980-12-18   26.63   26.75   26.63   26.630    327900.0          0.0   \n",
       "...            ...     ...     ...      ...         ...          ...   \n",
       "2018-03-21  175.04  175.09  171.26  171.270  35247358.0          0.0   \n",
       "2018-03-22  170.00  172.68  168.60  168.845  41051076.0          0.0   \n",
       "2018-03-23  168.39  169.92  164.94  164.940  40248954.0          0.0   \n",
       "2018-03-26  168.07  173.10  166.44  172.770  36272617.0          0.0   \n",
       "2018-03-27  173.68  175.15  166.92  168.340  38962839.0          0.0   \n",
       "\n",
       "            Split Ratio   Adj. Open   Adj. High    Adj. Low  Adj. Close  \\\n",
       "Date                                                                      \n",
       "1980-12-12          1.0    0.422706    0.424470    0.422706    0.422706   \n",
       "1980-12-15          1.0    0.402563    0.402563    0.400652    0.400652   \n",
       "1980-12-16          1.0    0.373010    0.373010    0.371246    0.371246   \n",
       "1980-12-17          1.0    0.380362    0.382273    0.380362    0.380362   \n",
       "1980-12-18          1.0    0.391536    0.393300    0.391536    0.391536   \n",
       "...                 ...         ...         ...         ...         ...   \n",
       "2018-03-21          1.0  175.040000  175.090000  171.260000  171.270000   \n",
       "2018-03-22          1.0  170.000000  172.680000  168.600000  168.845000   \n",
       "2018-03-23          1.0  168.390000  169.920000  164.940000  164.940000   \n",
       "2018-03-26          1.0  168.070000  173.100000  166.440000  172.770000   \n",
       "2018-03-27          1.0  173.680000  175.150000  166.920000  168.340000   \n",
       "\n",
       "            Adj. Volume  \n",
       "Date                     \n",
       "1980-12-12  117258400.0  \n",
       "1980-12-15   43971200.0  \n",
       "1980-12-16   26432000.0  \n",
       "1980-12-17   21610400.0  \n",
       "1980-12-18   18362400.0  \n",
       "...                 ...  \n",
       "2018-03-21   35247358.0  \n",
       "2018-03-22   41051076.0  \n",
       "2018-03-23   40248954.0  \n",
       "2018-03-26   36272617.0  \n",
       "2018-03-27   38962839.0  \n",
       "\n",
       "[9400 rows x 12 columns]"
      ]
     },
     "execution_count": 41,
     "metadata": {},
     "output_type": "execute_result"
    }
   ],
   "source": [
    "aapl_table"
   ]
  }
 ],
 "metadata": {
  "kernelspec": {
   "display_name": "Python 3",
   "language": "python",
   "name": "python3"
  },
  "language_info": {
   "codemirror_mode": {
    "name": "ipython",
    "version": 3
   },
   "file_extension": ".py",
   "mimetype": "text/x-python",
   "name": "python",
   "nbconvert_exporter": "python",
   "pygments_lexer": "ipython3",
   "version": "3.7.9"
  }
 },
 "nbformat": 4,
 "nbformat_minor": 5
}
