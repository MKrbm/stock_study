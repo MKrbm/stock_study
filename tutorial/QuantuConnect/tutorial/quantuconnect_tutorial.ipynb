{
 "cells": [
  {
   "cell_type": "markdown",
   "id": "convertible-sheriff",
   "metadata": {},
   "source": [
    "## 1"
   ]
  },
  {
   "cell_type": "markdown",
   "id": "criminal-reporter",
   "metadata": {},
   "source": [
    "### Logical operators"
   ]
  },
  {
   "cell_type": "code",
   "execution_count": 1,
   "id": "bacterial-blast",
   "metadata": {},
   "outputs": [
    {
     "name": "stdout",
     "output_type": "stream",
     "text": [
      "False\n",
      "True\n",
      "True\n",
      "True\n",
      "False\n",
      "True\n",
      "False\n",
      "True\n",
      "False\n"
     ]
    }
   ],
   "source": [
    "print(1 == 0)    # 1 equals 0\n",
    "print(1 == 1)    # 1 equals 1\n",
    "print(1 != 0)    # 1 is not equal to 0\n",
    "print(5 >= 5)    # 5 is greater than or equal to 5\n",
    "print(5 >= 6)    # 5 is greater than or equal to 6\n",
    "print(2 > 1 and 3 > 2)\n",
    "print(2 > 1 and 3 < 2)\n",
    "print(2 > 1 or  3 < 2)\n",
    "print(2 < 1 and 3 < 2)"
   ]
  },
  {
   "cell_type": "markdown",
   "id": "steady-sailing",
   "metadata": {},
   "source": [
    "### bitwise operators"
   ]
  },
  {
   "cell_type": "code",
   "execution_count": 2,
   "id": "wooden-technique",
   "metadata": {},
   "outputs": [
    {
     "name": "stdout",
     "output_type": "stream",
     "text": [
      "4\n",
      "16\n",
      "2\n"
     ]
    }
   ],
   "source": [
    "print(1 << 2) # 00001 -> 00100\n",
    "print(1 << 4) # 00001 -> 10000\n",
    "print(4 >> 1) # 00100 -> 00010"
   ]
  },
  {
   "cell_type": "markdown",
   "id": "gentle-repair",
   "metadata": {},
   "source": [
    "### some for loop techniques"
   ]
  },
  {
   "cell_type": "code",
   "execution_count": 3,
   "id": "functioning-sarah",
   "metadata": {},
   "outputs": [
    {
     "name": "stdout",
     "output_type": "stream",
     "text": [
      "['GOOG', 'FB', 'F', 'V', 'G', 'GE']\n"
     ]
    }
   ],
   "source": [
    "stocks = ['AAPL','GOOG','IBM','FB','F','V', 'G', 'GE']\n",
    "selected = ['AAPL','IBM']\n",
    "new_list = []\n",
    "for stock in stocks:\n",
    "    if stock not in selected:\n",
    "        new_list.append(stock)\n",
    "print(new_list) # print new_list"
   ]
  },
  {
   "cell_type": "code",
   "execution_count": 4,
   "id": "cognitive-calvin",
   "metadata": {},
   "outputs": [
    {
     "name": "stdout",
     "output_type": "stream",
     "text": [
      "[1, 4, 9, 16, 25]\n"
     ]
    }
   ],
   "source": [
    "squares = []\n",
    "for i in [1,2,3,4,5]:\n",
    "    squares.append(i**2)\n",
    "print(squares)"
   ]
  },
  {
   "cell_type": "markdown",
   "id": "blond-taste",
   "metadata": {},
   "source": [
    "### list comprehension"
   ]
  },
  {
   "cell_type": "code",
   "execution_count": 5,
   "id": "southern-projector",
   "metadata": {},
   "outputs": [
    {
     "name": "stdout",
     "output_type": "stream",
     "text": [
      "[1, 4, 9, 16, 25]\n"
     ]
    }
   ],
   "source": [
    "foo = [1,2,3,4,5]\n",
    "squares = [x**2 for x in foo] \n",
    "print(squares)"
   ]
  },
  {
   "cell_type": "code",
   "execution_count": 6,
   "id": "dirty-welsh",
   "metadata": {},
   "outputs": [
    {
     "name": "stdout",
     "output_type": "stream",
     "text": [
      "[(1, 3), (1, 4), (2, 3), (2, 1), (2, 4), (3, 1), (3, 4)]\n"
     ]
    }
   ],
   "source": [
    "print([(x, y) for x in [1,2,3] for y in [3,1,4] if x != y])"
   ]
  },
  {
   "cell_type": "markdown",
   "id": "sealed-soccer",
   "metadata": {},
   "source": [
    "# Functions"
   ]
  },
  {
   "cell_type": "code",
   "execution_count": 7,
   "id": "south-election",
   "metadata": {},
   "outputs": [
    {
     "name": "stdout",
     "output_type": "stream",
     "text": [
      "12\n",
      "Welcome to QuantConnect\n"
     ]
    }
   ],
   "source": [
    "def product(x,y):\n",
    "    return x*y\n",
    "\n",
    "def say_hi():\n",
    "    print(\"Welcome to QuantConnect\")\n",
    "print(product(3,4))\n",
    "say_hi()"
   ]
  },
  {
   "cell_type": "markdown",
   "id": "bigger-merit",
   "metadata": {},
   "source": [
    "### Built-in Function"
   ]
  },
  {
   "cell_type": "code",
   "execution_count": 8,
   "id": "durable-registrar",
   "metadata": {},
   "outputs": [
    {
     "name": "stdout",
     "output_type": "stream",
     "text": [
      "[0, 1, 2, 3, 4, 5, 6, 7, 8, 9]\n"
     ]
    }
   ],
   "source": [
    "print(list(range(10)))"
   ]
  },
  {
   "cell_type": "code",
   "execution_count": 9,
   "id": "accessible-terminal",
   "metadata": {},
   "outputs": [
    {
     "name": "stdout",
     "output_type": "stream",
     "text": [
      "The number of tickers is 8\n",
      "1 AAPL\n",
      "2 GOOGL\n",
      "3 IBM\n",
      "4 FB\n",
      "5 F\n",
      "6 V\n",
      "7 G\n",
      "8 GE\n"
     ]
    }
   ],
   "source": [
    "tickers = ['AAPL', 'GOOGL', 'IBM', 'FB', 'F', 'V', 'G', 'GE']\n",
    "print(\"The number of tickers is {}\".format(len(tickers)))\n",
    "for k in range(len(tickers)):\n",
    "    print(k + 1, tickers[k])"
   ]
  },
  {
   "cell_type": "markdown",
   "id": "positive-corps",
   "metadata": {},
   "source": [
    "### lambda"
   ]
  },
  {
   "cell_type": "code",
   "execution_count": 10,
   "id": "excited-richmond",
   "metadata": {},
   "outputs": [
    {
     "name": "stdout",
     "output_type": "stream",
     "text": [
      "9 10\n"
     ]
    }
   ],
   "source": [
    "f = lambda x: x**2\n",
    "g = lambda x,y:x+y\n",
    "print(f(3), g(4,6))"
   ]
  },
  {
   "cell_type": "markdown",
   "id": "realistic-panic",
   "metadata": {},
   "source": [
    "### map"
   ]
  },
  {
   "cell_type": "code",
   "execution_count": 11,
   "id": "sharp-beaver",
   "metadata": {},
   "outputs": [
    {
     "name": "stdout",
     "output_type": "stream",
     "text": [
      "[0, 1, 4, 9, 16, 25, 36, 49, 64, 81]\n",
      "[3, 5, 7, 9, 11, 13, 15, 17, 19, 21]\n"
     ]
    }
   ],
   "source": [
    "print(list(map(f, range(10))))\n",
    "print(list(map(g, range(10), range(3,13))))"
   ]
  },
  {
   "cell_type": "markdown",
   "id": "excess-affair",
   "metadata": {},
   "source": [
    "### sorted"
   ]
  },
  {
   "cell_type": "code",
   "execution_count": 12,
   "id": "mathematical-facility",
   "metadata": {},
   "outputs": [
    {
     "name": "stdout",
     "output_type": "stream",
     "text": [
      "[1, 2, 3, 4, 5]\n"
     ]
    }
   ],
   "source": [
    "print(sorted([5,2,3,4,1]))"
   ]
  },
  {
   "cell_type": "code",
   "execution_count": 13,
   "id": "tight-belgium",
   "metadata": {},
   "outputs": [
    {
     "name": "stdout",
     "output_type": "stream",
     "text": [
      "[('MSFT', 69), ('WMT', 75.32), ('AAPL', 144.09), ('FB', 150), ('GOOGL', 911.71)]\n"
     ]
    }
   ],
   "source": [
    "price_list = [('AAPL', 144.09), ('GOOGL', 911.71), ('MSFT', 69), ('FB', 150), ('WMT', 75.32)]\n",
    "print(sorted(price_list, key = lambda x: x[1]))"
   ]
  },
  {
   "cell_type": "code",
   "execution_count": 14,
   "id": "temporal-least",
   "metadata": {},
   "outputs": [
    {
     "name": "stdout",
     "output_type": "stream",
     "text": [
      "[('MSFT', 69), ('WMT', 75.32), ('AAPL', 144.09), ('FB', 150), ('GOOGL', 911.71)]\n"
     ]
    }
   ],
   "source": [
    "price_list = [('AAPL', 144.09), ('GOOGL', 911.71), ('MSFT', 69), ('FB', 150), ('WMT', 75.32)]\n",
    "price_list.sort(key = lambda x: x[1])\n",
    "print(price_list)"
   ]
  },
  {
   "cell_type": "markdown",
   "id": "hindu-fishing",
   "metadata": {},
   "source": [
    "### Object-Oriented Programming"
   ]
  },
  {
   "cell_type": "code",
   "execution_count": 15,
   "id": "advisory-script",
   "metadata": {},
   "outputs": [],
   "source": [
    "class Stock:\n",
    "    def __init__(self, ticker, open_, close, volume):\n",
    "        self.ticker = ticker\n",
    "        self.open = open_\n",
    "        self.close = close\n",
    "        self.volume = volume\n",
    "        self.rate_return = float(close)/open_ - 1\n",
    "\n",
    "    def update(self, open_, close):\n",
    "        self.open = open_\n",
    "        self.close = close\n",
    "        self.rate_return = float(self.close)/self.open - 1\n",
    "\n",
    "    def print_return(self):\n",
    "        print(self.rate_return)"
   ]
  },
  {
   "cell_type": "code",
   "execution_count": 16,
   "id": "blank-alexander",
   "metadata": {},
   "outputs": [],
   "source": [
    "apple  = Stock('AAPL', 143.69, 144.09, 20109375)\n",
    "google = Stock('GOOGL', 898.7, 911.7, 1561616)"
   ]
  },
  {
   "cell_type": "code",
   "execution_count": 17,
   "id": "environmental-european",
   "metadata": {},
   "outputs": [
    {
     "name": "stdout",
     "output_type": "stream",
     "text": [
      "AAPL\n",
      "GOOGL\n",
      "0.0027837706173012844\n"
     ]
    }
   ],
   "source": [
    "print(apple.ticker)\n",
    "print(google.ticker)\n",
    "apple.print_return()"
   ]
  },
  {
   "cell_type": "markdown",
   "id": "interior-banking",
   "metadata": {},
   "source": [
    "### class inheritance"
   ]
  },
  {
   "cell_type": "code",
   "execution_count": 18,
   "id": "round-wallpaper",
   "metadata": {},
   "outputs": [],
   "source": [
    "class Child(Stock):\n",
    "    def __init__(self, name):\n",
    "        self.name = name"
   ]
  },
  {
   "cell_type": "code",
   "execution_count": 19,
   "id": "seeing-morgan",
   "metadata": {},
   "outputs": [],
   "source": [
    "aa = Child('AA')"
   ]
  },
  {
   "cell_type": "code",
   "execution_count": 20,
   "id": "listed-howard",
   "metadata": {},
   "outputs": [
    {
     "data": {
      "text/plain": [
       "100"
      ]
     },
     "execution_count": 20,
     "metadata": {},
     "output_type": "execute_result"
    }
   ],
   "source": [
    "aa.update(100, 102)\n",
    "aa.open"
   ]
  },
  {
   "cell_type": "markdown",
   "id": "promising-thumb",
   "metadata": {},
   "source": [
    "## numpy"
   ]
  },
  {
   "cell_type": "code",
   "execution_count": 21,
   "id": "delayed-sharing",
   "metadata": {},
   "outputs": [],
   "source": [
    "import numpy as np"
   ]
  },
  {
   "cell_type": "markdown",
   "id": "adolescent-costs",
   "metadata": {},
   "source": [
    "### basic numpy arrays"
   ]
  },
  {
   "cell_type": "code",
   "execution_count": 22,
   "id": "hairy-broadcast",
   "metadata": {},
   "outputs": [
    {
     "name": "stdout",
     "output_type": "stream",
     "text": [
      "[143.73 145.83 143.68 144.02 143.5  142.62] <class 'numpy.ndarray'>\n"
     ]
    }
   ],
   "source": [
    "price_list = [143.73, 145.83, 143.68, 144.02, 143.5, 142.62]\n",
    "price_array = np.array(price_list)\n",
    "print(price_array, type(price_array))"
   ]
  },
  {
   "cell_type": "code",
   "execution_count": 23,
   "id": "smart-romantic",
   "metadata": {},
   "outputs": [
    {
     "name": "stdout",
     "output_type": "stream",
     "text": [
      "[[1 3]\n",
      " [2 4]] <class 'numpy.ndarray'>\n"
     ]
    }
   ],
   "source": [
    "Ar = np.array([[1,3], [2,4]])\n",
    "print(Ar, type(Ar))"
   ]
  },
  {
   "cell_type": "code",
   "execution_count": 24,
   "id": "announced-worst",
   "metadata": {},
   "outputs": [
    {
     "name": "stdout",
     "output_type": "stream",
     "text": [
      "(2, 2)\n"
     ]
    }
   ],
   "source": [
    "print(Ar.shape)"
   ]
  },
  {
   "cell_type": "code",
   "execution_count": 25,
   "id": "single-television",
   "metadata": {},
   "outputs": [
    {
     "name": "stdout",
     "output_type": "stream",
     "text": [
      "First column: [1 2]\n",
      "First row: [1 3]\n"
     ]
    }
   ],
   "source": [
    "print('First column:', Ar[:,0])\n",
    "print('First row:', Ar[0,:])"
   ]
  },
  {
   "cell_type": "markdown",
   "id": "functional-agent",
   "metadata": {},
   "source": [
    "### Functions for array"
   ]
  },
  {
   "cell_type": "code",
   "execution_count": 26,
   "id": "homeless-ontario",
   "metadata": {},
   "outputs": [
    {
     "name": "stdout",
     "output_type": "stream",
     "text": [
      "[4.96793654 4.98244156 4.9675886  4.96995218 4.96633504 4.96018375]\n",
      "[-0.70559472  0.96790038 -0.74012893 -0.47350161 -0.8485623  -0.94845689]\n"
     ]
    }
   ],
   "source": [
    "print(np.log(price_array))\n",
    "print(np.sin(price_array))"
   ]
  },
  {
   "cell_type": "markdown",
   "id": "operational-chemical",
   "metadata": {},
   "source": [
    "### some Statistic"
   ]
  },
  {
   "cell_type": "code",
   "execution_count": 27,
   "id": "regional-engineer",
   "metadata": {},
   "outputs": [
    {
     "name": "stdout",
     "output_type": "stream",
     "text": [
      "143.89666666666668\n",
      "863.38\n",
      "145.83\n"
     ]
    }
   ],
   "source": [
    "print(np.mean(price_array))\n",
    "print(np.sum(price_array))\n",
    "print(np.max(price_array))"
   ]
  },
  {
   "cell_type": "markdown",
   "id": "solid-seeking",
   "metadata": {},
   "source": [
    "## pandas"
   ]
  },
  {
   "cell_type": "code",
   "execution_count": 28,
   "id": "domestic-happiness",
   "metadata": {},
   "outputs": [],
   "source": [
    "import pandas as pd"
   ]
  },
  {
   "cell_type": "markdown",
   "id": "valued-obligation",
   "metadata": {},
   "source": [
    "### pandas.series"
   ]
  },
  {
   "cell_type": "code",
   "execution_count": 29,
   "id": "increased-league",
   "metadata": {},
   "outputs": [
    {
     "name": "stdout",
     "output_type": "stream",
     "text": [
      "0    143.73\n",
      "1    145.83\n",
      "2    143.68\n",
      "3    144.02\n",
      "4    143.50\n",
      "5    142.62\n",
      "dtype: float64\n"
     ]
    }
   ],
   "source": [
    "price = [143.73, 145.83, 143.68, 144.02, 143.5, 142.62]\n",
    "s = pd.Series(price)\n",
    "print(s)"
   ]
  },
  {
   "cell_type": "code",
   "execution_count": 30,
   "id": "representative-cardiff",
   "metadata": {},
   "outputs": [
    {
     "name": "stdout",
     "output_type": "stream",
     "text": [
      "a    143.73\n",
      "b    145.83\n",
      "c    143.68\n",
      "d    144.02\n",
      "e    143.50\n",
      "f    142.62\n",
      "dtype: float64\n"
     ]
    }
   ],
   "source": [
    "s = pd.Series(price, index = ['a', 'b', 'c', 'd', 'e', 'f'])\n",
    "print(s)"
   ]
  },
  {
   "cell_type": "code",
   "execution_count": 31,
   "id": "prerequisite-knowing",
   "metadata": {},
   "outputs": [
    {
     "name": "stdout",
     "output_type": "stream",
     "text": [
      "6    143.73\n",
      "5    145.83\n",
      "4    143.68\n",
      "3    144.02\n",
      "2    143.50\n",
      "1    142.62\n",
      "dtype: float64\n"
     ]
    }
   ],
   "source": [
    "s.index = [6,5,4,3,2,1]\n",
    "print(s)"
   ]
  },
  {
   "cell_type": "code",
   "execution_count": 32,
   "id": "early-token",
   "metadata": {},
   "outputs": [
    {
     "name": "stdout",
     "output_type": "stream",
     "text": [
      "5    145.83\n",
      "4    143.68\n",
      "3    144.02\n",
      "2    143.50\n",
      "1    142.62\n",
      "dtype: float64\n",
      "6    143.73\n",
      "5    145.83\n",
      "4    143.68\n",
      "3    144.02\n",
      "dtype: float64\n"
     ]
    }
   ],
   "source": [
    "print(s[1:])\n",
    "print(s[:-2])"
   ]
  },
  {
   "cell_type": "markdown",
   "id": "august-indiana",
   "metadata": {},
   "source": [
    "### We can get the statistical summaries of a series"
   ]
  },
  {
   "cell_type": "code",
   "execution_count": 33,
   "id": "joint-reservation",
   "metadata": {},
   "outputs": [
    {
     "name": "stdout",
     "output_type": "stream",
     "text": [
      "0    143.73\n",
      "1    145.83\n",
      "2    143.68\n",
      "3    144.02\n",
      "4    143.50\n",
      "5    142.62\n",
      "Name: Apple Prices, dtype: float64\n",
      "count      6.000000\n",
      "mean     143.896667\n",
      "std        1.059711\n",
      "min      142.620000\n",
      "25%      143.545000\n",
      "50%      143.705000\n",
      "75%      143.947500\n",
      "max      145.830000\n",
      "Name: Apple Prices, dtype: float64\n"
     ]
    }
   ],
   "source": [
    "s = pd.Series(price, name = 'Apple Prices')\n",
    "print(s)\n",
    "print(s.describe())"
   ]
  },
  {
   "cell_type": "markdown",
   "id": "synthetic-accessory",
   "metadata": {},
   "source": [
    "### Time index"
   ]
  },
  {
   "cell_type": "code",
   "execution_count": 34,
   "id": "naked-comparative",
   "metadata": {},
   "outputs": [
    {
     "name": "stdout",
     "output_type": "stream",
     "text": [
      "DatetimeIndex(['2017-01-01', '2017-01-02', '2017-01-03', '2017-01-04',\n",
      "               '2017-01-05', '2017-01-06'],\n",
      "              dtype='datetime64[ns]', freq='D')\n"
     ]
    }
   ],
   "source": [
    "time_index = pd.date_range('2017-01-01', periods = len(s), freq = 'D')\n",
    "print(time_index)\n",
    "s.index = time_index"
   ]
  },
  {
   "cell_type": "code",
   "execution_count": 35,
   "id": "bright-seller",
   "metadata": {},
   "outputs": [
    {
     "name": "stdout",
     "output_type": "stream",
     "text": [
      "2017-01-01    143.73\n",
      "2017-01-02    145.83\n",
      "2017-01-03    143.68\n",
      "2017-01-04    144.02\n",
      "2017-01-05    143.50\n",
      "2017-01-06    142.62\n",
      "Freq: D, Name: Apple Prices, dtype: float64\n"
     ]
    }
   ],
   "source": [
    "print(s)"
   ]
  },
  {
   "cell_type": "code",
   "execution_count": 36,
   "id": "median-elimination",
   "metadata": {},
   "outputs": [
    {
     "name": "stdout",
     "output_type": "stream",
     "text": [
      "143.68 143.68\n"
     ]
    }
   ],
   "source": [
    "print(s.iloc[2], s['2017-01-03 '])"
   ]
  },
  {
   "cell_type": "code",
   "execution_count": 37,
   "id": "referenced-progress",
   "metadata": {},
   "outputs": [
    {
     "name": "stdout",
     "output_type": "stream",
     "text": [
      "2017-01-03    143.68\n",
      "2017-01-04    144.02\n",
      "2017-01-05    143.50\n",
      "Freq: D, Name: Apple Prices, dtype: float64\n"
     ]
    }
   ],
   "source": [
    "print(s['2017-01-03' : '2017-01-05'])"
   ]
  },
  {
   "cell_type": "code",
   "execution_count": 38,
   "id": "united-judges",
   "metadata": {},
   "outputs": [
    {
     "data": {
      "text/plain": [
       "2017-01-01     True\n",
       "2017-01-02    False\n",
       "2017-01-03     True\n",
       "2017-01-04    False\n",
       "2017-01-05     True\n",
       "2017-01-06     True\n",
       "Freq: D, Name: Apple Prices, dtype: bool"
      ]
     },
     "execution_count": 38,
     "metadata": {},
     "output_type": "execute_result"
    }
   ],
   "source": [
    "s < np.mean(s)"
   ]
  },
  {
   "cell_type": "markdown",
   "id": "narrative-burden",
   "metadata": {},
   "source": [
    "## Rate of Return\n",
    "\n",
    "$$\n",
    "r = \\frac{p_t}{p_0} - 1 = \\frac{p_t - p_0}{p_0}\n",
    "$$"
   ]
  },
  {
   "cell_type": "code",
   "execution_count": 39,
   "id": "adjusted-forty",
   "metadata": {},
   "outputs": [
    {
     "name": "stdout",
     "output_type": "stream",
     "text": [
      "0.020000000000000018\n"
     ]
    }
   ],
   "source": [
    "import numpy as np\n",
    "rate_return = 102.0/100 - 1\n",
    "print(rate_return)"
   ]
  },
  {
   "cell_type": "markdown",
   "id": "unauthorized-groove",
   "metadata": {},
   "source": [
    "let's say the series of rate of return is :\n",
    "$$\n",
    "\\mathbf{r} = \\{r_1, r_2, r_3, ..\\}\n",
    "$$\n",
    "cumulative return or overall return can be calculated by \n",
    "$$\n",
    "r = \\Pi_i(1+r_i) -1\n",
    "$$"
   ]
  },
  {
   "cell_type": "markdown",
   "id": "practical-patrol",
   "metadata": {},
   "source": [
    "Now consider the following situation: we have two strategies: strategy A and strategy B. \n",
    "\n",
    "We backtested strategy A for 1 years and the cumulative return is 20%, while we backtested strategy B for 3 months(one quarter) and the cumulative return is 6%. \n",
    "\n",
    "Which strategy has a high rate of return?\n",
    "\n",
    "Our commonly used method is to convert all the returns into compounding annual return, regardless of the investing horizon of each strategy.\n",
    "\n",
    "$$\n",
    "(1+0.06)^4 - 1 = r\\\\\n",
    "r = 0.262\n",
    "$$"
   ]
  },
  {
   "cell_type": "markdown",
   "id": "computational-nicholas",
   "metadata": {},
   "source": [
    "## Logarithm Return"
   ]
  },
  {
   "cell_type": "markdown",
   "id": "forbidden-rochester",
   "metadata": {},
   "source": [
    "### Nominal return\n",
    "In the above example, strategy A has $6%$ return over three months. Nominally, the annual return would be $4*6%$ = 24%. This nominal annual interest rate is called the **stated annual interest rate**.\n",
    "\n",
    "It is calculated as the periodic interest rate times (6%) the number of periods per year (4). \n",
    "\n",
    "It works according to the simple interest and does not take into account the compounding periods, while the effective annual interest rate is around **26%** as we calculated above and it does account for **intra-year compounding**.\n",
    "$$\n",
    "r_{\\mathcal{effective}} = (1 + \\frac{r_\\mathcal{nominal}}{n})^n - 1\n",
    "$$\n",
    "\n",
    "Now imagine the price of asset is changing every second or even every millisecond, the period of compounding n approaches infinite. This is called **continuous compounding**. The calculation formula is given below:\n",
    "\n",
    "$$\n",
    "\\lim_{n \\to +\\infty}(1+\\frac{r}{n})^n = e^r\n",
    "$$\n",
    "\n",
    "Therefore, \n",
    "$$\n",
    "e^{r_\\mathcal{nominal}} = 1 + r_{\\mathcal{effective}} = \\frac{p_t}{p_0}\n",
    "$$ \n",
    "then, we take $ln$ on both side of the equation:\n",
    "$$\n",
    "r_\\mathcal{nominal} = lnp_t - lnp_0\n",
    "$$\n",
    "Here we got the **logarithmic return**, or **continuously compounded return**.\n",
    "if $r_\\mathcal{nominal} \\ll 1$, then, $r_\\mathcal{effective} = r_\\mathcal{nominal}$\n"
   ]
  },
  {
   "cell_type": "code",
   "execution_count": 40,
   "id": "earned-printing",
   "metadata": {
    "scrolled": true
   },
   "outputs": [
    {
     "name": "stdout",
     "output_type": "stream",
     "text": [
      "               Open   Close  log_price  log_return\n",
      "Date                                              \n",
      "2017-03-01  137.890  139.79   4.940141         NaN\n",
      "2017-03-02  140.000  138.96   4.934186   -0.005955\n",
      "2017-03-03  138.780  139.78   4.940070    0.005884\n",
      "2017-03-06  139.365  139.34   4.936917   -0.003153\n",
      "2017-03-07  139.060  139.52   4.938208    0.001291\n",
      "2017-03-08  138.950  139.00   4.934474   -0.003734\n",
      "2017-03-09  138.740  138.68   4.932169   -0.002305\n",
      "2017-03-10  139.250  139.14   4.935481    0.003311\n",
      "2017-03-13  138.850  139.20   4.935912    0.000431\n",
      "2017-03-14  139.300  138.99   4.934402   -0.001510\n",
      "2017-03-15  139.410  140.46   4.944923    0.010521\n",
      "2017-03-16  140.720  140.69   4.946559    0.001636\n",
      "2017-03-17  141.000  139.99   4.941571   -0.004988\n",
      "2017-03-20  140.400  141.46   4.952017    0.010446\n",
      "2017-03-21  142.110  139.84   4.940499   -0.011518\n",
      "2017-03-22  139.845  141.42   4.951734    0.011235\n",
      "2017-03-23  141.260  140.92   4.948192   -0.003542\n",
      "2017-03-24  141.500  140.64   4.946203   -0.001989\n",
      "2017-03-27  139.390  140.88   4.947908    0.001705\n",
      "2017-03-28  140.910  143.80   4.968423    0.020515\n",
      "2017-03-29  143.680  144.12   4.970646    0.002223\n",
      "2017-03-30  144.190  143.93   4.969327   -0.001319\n",
      "2017-03-31  143.720  143.66   4.967449   -0.001878\n"
     ]
    }
   ],
   "source": [
    "import numpy as np\n",
    "import nasdaqdatalink\n",
    "nasdaqdatalink.read_key(filename=\".corporatenasdaqdatalinkapikey\")\n",
    "# print(nasdaqdatalink.ApiConfig.api_key)\n",
    "#get quandl data\n",
    "aapl_table = nasdaqdatalink.get('WIKI/AAPL')\n",
    "aapl = aapl_table.loc['2017-3',['Open','Close']]\n",
    "#take log return\n",
    "aapl['log_price'] = np.log(aapl.Close)\n",
    "aapl['log_return'] = aapl['log_price'].diff()\n",
    "print(aapl)"
   ]
  },
  {
   "cell_type": "code",
   "execution_count": 41,
   "id": "confident-given",
   "metadata": {
    "scrolled": true
   },
   "outputs": [
    {
     "name": "stdout",
     "output_type": "stream",
     "text": [
      "0.0273081001636184\n"
     ]
    }
   ],
   "source": [
    "month_return = aapl.log_return.sum()\n",
    "print(month_return)"
   ]
  },
  {
   "cell_type": "markdown",
   "id": "terminal-david",
   "metadata": {},
   "source": [
    "Let's assume the stock prices in a period of time are represented by $[p_0,p_1,p_2,.....,p_n]$\n",
    "\n",
    "$$\n",
    "r_\\mathcal{effective} \\approx ln\\frac{p_t}{p_0} = \\sum ln\\frac{p_t{^\\prime}}{p_{t^\\prime-1}}\n",
    "$$"
   ]
  },
  {
   "cell_type": "markdown",
   "id": "light-pipeline",
   "metadata": {},
   "source": [
    "## Mean"
   ]
  },
  {
   "cell_type": "markdown",
   "id": "adjacent-drawing",
   "metadata": {},
   "source": [
    "### Arithmetic Mean\n",
    "typical definition of mean"
   ]
  },
  {
   "cell_type": "markdown",
   "id": "failing-qatar",
   "metadata": {},
   "source": [
    "### Geometric Mean\n",
    "Definded by\n",
    "$$\n",
    "\\bar{x} = \\sqrt[t]{x_1x_2...x_n}\n",
    "$$\n",
    "This mean is an average that is useful for data series of positive numbers that are better interpreted according to their product, such as growth rate. \n",
    "$$\n",
    "1 + \\bar{r} = \\sqrt[t]{\\frac{p_t}{p_{t-1}}*\\frac{p_{t-1}}{p_{t-2}}*..*\\frac{p_{2}}{p_{1}}*\\frac{p_{1}}{p_{0}}}\n",
    "1 + \\bar{r} = \\sqrt[t]{\\frac{p_t}{p_0}}\n",
    "$$\n"
   ]
  },
  {
   "cell_type": "markdown",
   "id": "wrong-snowboard",
   "metadata": {},
   "source": [
    "## Variance and Standard Deviation"
   ]
  },
  {
   "cell_type": "markdown",
   "id": "recorded-photograph",
   "metadata": {},
   "source": [
    "abbreviate this section"
   ]
  },
  {
   "cell_type": "markdown",
   "id": "assured-promise",
   "metadata": {},
   "source": [
    "# Introduction to Financial Python"
   ]
  },
  {
   "cell_type": "markdown",
   "id": "scientific-trail",
   "metadata": {},
   "source": [
    "In the last chapter we learned the definition of mean and variance, which are kind of **point estimation**. (we can interpret mean and variance as the parameter of normal distribution). Point estimation means using sample data to calculate a single value which is to serve as a 'best estimation' of an unknown population.　However, this it not enough because point estimations can be **deceiving** (?). We need to use more rigorous methods to test our ideas. That's why we consider **distribution** and **hypothesis testing**. \n",
    "\n",
    "Random variable distribution is the basis for almost all quantitative finance topics: linear regression, CAPM (Capital asset pricing model), Black-Scholes, binomial tree pricing, etc."
   ]
  },
  {
   "cell_type": "markdown",
   "id": "egyptian-rescue",
   "metadata": {},
   "source": [
    "### Distributions\n",
    "\n",
    "- probability distribution : $P(X)$\n",
    "- probability density function(PDF) : probability distribution over continuous space.\n",
    "- cumulative  distribution function(CDF) : $P(X\\leq x)$"
   ]
  },
  {
   "cell_type": "markdown",
   "id": "becoming-mistake",
   "metadata": {},
   "source": [
    "### numpy.random"
   ]
  },
  {
   "cell_type": "code",
   "execution_count": 42,
   "id": "liked-bookmark",
   "metadata": {},
   "outputs": [
    {
     "name": "stdout",
     "output_type": "stream",
     "text": [
      "estimated mean =  3.5064\n",
      "estimated variance =  1.7077936175076893\n"
     ]
    }
   ],
   "source": [
    "import numpy as np\n",
    "dice = [1,2,3,4,5,6]\n",
    "series = np.random.choice(dice, size = 10**4)\n",
    "print(\"estimated mean = \",np.mean(series))\n",
    "print(\"estimated variance = \", np.std(series))"
   ]
  },
  {
   "cell_type": "markdown",
   "id": "fixed-wagon",
   "metadata": {},
   "source": [
    "Usually we use $\\mu$ to represents the **population mean**, or the 'real mean'. whereas the above is called **sample mean**.\n",
    "\n",
    "If we a assume the minimum value in a uniform distribution is $a$ and the maximum value is $b$. Then, mean and variance are given by\n",
    "\n",
    "<br>\n",
    "\n",
    "$$\n",
    "\\mu = \\frac{a+b}{2}\n",
    "\\\\\n",
    "\\sigma^2 = \\frac{(b-a)^2}{12}\n",
    "$$"
   ]
  },
  {
   "cell_type": "code",
   "execution_count": 43,
   "id": "short-plasma",
   "metadata": {},
   "outputs": [
    {
     "data": {
      "image/png": "[encoded data removed]",
      "text/plain": [
       "<Figure size 1440x720 with 1 Axes>"
      ]
     },
     "metadata": {
      "needs_background": "light"
     },
     "output_type": "display_data"
    }
   ],
   "source": [
    "import matplotlib.pyplot as plt\n",
    "plt.figure(figsize = (20,10))\n",
    "plt.hist(series,bins = 11,align = 'mid')\n",
    "plt.xlabel('Dice Number')\n",
    "plt.ylabel('Occurences')\n",
    "plt.grid()\n",
    "plt.show()"
   ]
  },
  {
   "cell_type": "code",
   "execution_count": 44,
   "id": "alternate-theorem",
   "metadata": {},
   "outputs": [
    {
     "name": "stdout",
     "output_type": "stream",
     "text": [
      "P(x <= 3) =  0.4973\n"
     ]
    }
   ],
   "source": [
    "print(\"P(x <= 3) = \",np.sum(series<=3) / series.size)"
   ]
  },
  {
   "cell_type": "markdown",
   "id": "genetic-screening",
   "metadata": {},
   "source": [
    "### Binomial Distribution"
   ]
  },
  {
   "cell_type": "markdown",
   "id": "hawaiian-course",
   "metadata": {},
   "source": [
    "A binomial distribution is a discrete probability distribution of the number of successes in a sequence of $n$ independent experiments. let's X is the random variable represents how many succeed and p is the probability. \n",
    "\n",
    "$$\n",
    "P(X = k) = C^k_np^k(1-p)^{n-k}\n",
    "$$\n",
    "\n",
    "Under such circumstance we say $X$ follows the binomial distribution $X\\sim B(n,p)$. Let's simulate a binomial experiment with success rate p = 0.7 and experiment times n = 100.\n",
    "\n",
    "mean and variance is given by\n",
    "\n",
    "$$\n",
    "\\mu = np \\\\\n",
    "\\sigma^2  = np(1-p)\n",
    "$$"
   ]
  },
  {
   "cell_type": "code",
   "execution_count": 45,
   "id": "shared-taxation",
   "metadata": {},
   "outputs": [],
   "source": [
    "p = 0.7\n",
    "n = 10\n",
    "M = 100000\n",
    "test = []\n",
    "for _ in range(M):\n",
    "    test.append((np.random.rand(n) < p).sum())"
   ]
  },
  {
   "cell_type": "code",
   "execution_count": 46,
   "id": "unavailable-deployment",
   "metadata": {},
   "outputs": [
    {
     "data": {
      "text/plain": [
       "1     0.00015\n",
       "2     0.00143\n",
       "3     0.00861\n",
       "4     0.03735\n",
       "5     0.10314\n",
       "6     0.20029\n",
       "7     0.26902\n",
       "8     0.23118\n",
       "9     0.12108\n",
       "10    0.02775\n",
       "dtype: float64"
      ]
     },
     "execution_count": 46,
     "metadata": {},
     "output_type": "execute_result"
    }
   ],
   "source": [
    "import pandas as pd\n",
    "X, counts = np.unique(test, return_counts=True)\n",
    "pd.Series(counts/M, index = X)"
   ]
  },
  {
   "cell_type": "code",
   "execution_count": 47,
   "id": "downtown-desktop",
   "metadata": {},
   "outputs": [
    {
     "name": "stdout",
     "output_type": "stream",
     "text": [
      "exact distribution = \n",
      "[5.90490000e-06 1.37781000e-04 1.44670050e-03 9.00169200e-03\n",
      " 3.67569090e-02 1.02919345e-01 2.00120949e-01 2.66827932e-01\n",
      " 2.33474440e-01 1.21060821e-01]\n"
     ]
    }
   ],
   "source": [
    "import scipy.special\n",
    "X = np.arange(10)\n",
    "p = scipy.special.factorial(n) / (scipy.special.factorial(n - X) * scipy.special.factorial(X)) *(p**X)*((1-p)**(n-X))\n",
    "print(\"exact distribution = \")\n",
    "print(p)"
   ]
  },
  {
   "cell_type": "code",
   "execution_count": 48,
   "id": "prepared-assembly",
   "metadata": {},
   "outputs": [
    {
     "data": {
      "image/png": "[encoded data removed]",
      "text/plain": [
       "<Figure size 1440x720 with 1 Axes>"
      ]
     },
     "metadata": {
      "needs_background": "light"
     },
     "output_type": "display_data"
    }
   ],
   "source": [
    "import matplotlib.pyplot as plt\n",
    "\n",
    "plt.figure(figsize = (20,10))\n",
    "plt.bar(X,counts/M)\n",
    "plt.grid()\n",
    "plt.show()"
   ]
  },
  {
   "cell_type": "markdown",
   "id": "pleasant-apache",
   "metadata": {},
   "source": [
    "Normal Distribution\n",
    "\n",
    "- use *PDF* to model the probability."
   ]
  },
  {
   "cell_type": "markdown",
   "id": "upset-basis",
   "metadata": {},
   "source": [
    "Let's first have a look at the what the time-series return data looks like:"
   ]
  },
  {
   "cell_type": "code",
   "execution_count": 49,
   "id": "clear-tucson",
   "metadata": {},
   "outputs": [],
   "source": [
    "import numpy as np\n",
    "import nasdaqdatalink\n",
    "nasdaqdatalink.read_key(filename=\".corporatenasdaqdatalinkapikey\")\n",
    "#get quandl data\n",
    "apl_table = nasdaqdatalink.get('WIKI/AAPL')\n",
    "apl = apl_table.loc['2006':'2013',['Open','Close']]\n",
    "apl['log_return'] = np.log(apl.Close).diff()\n",
    "apl = apl.dropna()"
   ]
  },
  {
   "cell_type": "code",
   "execution_count": 50,
   "id": "elect-float",
   "metadata": {},
   "outputs": [
    {
     "data": {
      "image/png": "[encoded data removed]",
      "text/plain": [
       "<Figure size 1440x720 with 1 Axes>"
      ]
     },
     "metadata": {
      "needs_background": "light"
     },
     "output_type": "display_data"
    }
   ],
   "source": [
    "plt.figure(figsize = (20,10))\n",
    "apl.log_return.plot()\n",
    "plt.show()"
   ]
  },
  {
   "cell_type": "code",
   "execution_count": 51,
   "id": "recognized-selection",
   "metadata": {},
   "outputs": [
    {
     "data": {
      "image/png": "[encoded data removed]",
      "text/plain": [
       "<Figure size 1440x720 with 1 Axes>"
      ]
     },
     "metadata": {
      "needs_background": "light"
     },
     "output_type": "display_data"
    }
   ],
   "source": [
    "plt.figure(figsize = (20,10))\n",
    "apl.log_return.plot.density()\n",
    "plt.show()"
   ]
  },
  {
   "cell_type": "markdown",
   "id": "informational-dispute",
   "metadata": {},
   "source": [
    "## Confidence Interval and Hypothesis Testing"
   ]
  },
  {
   "cell_type": "markdown",
   "id": "maritime-infrastructure",
   "metadata": {},
   "source": [
    "<font size = 4, color = red> The following discussion maybe wrong. (see sub materials) </font> \n",
    "\n",
    "Confidence Interval\n",
    "In order to estimate the range of population mean, we define standard error of the mean as follows:\n",
    "\n",
    "$$\n",
    "\\bar{SE} = \\frac{\\bar{\\sigma}}{\\sqrt{n}}\n",
    "$$\n",
    "\n",
    "\n",
    "Where $\\sigma$ is the sample standard deviation and $n$ is the sample size.\n",
    "\n",
    "$$\n",
    "\\left(\\bar{x} - 1.96\\cdot  \\bar{SE}, \\ \\bar{x} + 1.96\\cdot \\bar{SE} \\right)\n",
    "$$\n",
    "\n",
    "Where $\\bar{x}$ is the sample mean and $\\bar{SE}$ is the standard error estibated by sample standard deviation.\n",
    "\n",
    "This interval is called confidence interval. We usually use $1.96$ to calculate a 95% confidence interval because we assume that the sample mean follows normal distribution. \n",
    "\n",
    "We will cover this in detail later. Let's try to calculate the confidence interval using the samples above:"
   ]
  },
  {
   "cell_type": "code",
   "execution_count": 52,
   "id": "thermal-anxiety",
   "metadata": {},
   "outputs": [
    {
     "name": "stdout",
     "output_type": "stream",
     "text": [
      "10 days 95% confidence inverval: (-0.027360764118091088, 0.028619574553459128)\n",
      "1000 days 95% confidence inverval: (-0.033395848275351345, 0.03536009898017166)\n"
     ]
    }
   ],
   "source": [
    "m10 = np.mean(apl.log_return.tail(10))\n",
    "std10 = np.std(apl.log_return.tail(10))\n",
    "\n",
    "m1000 = np.mean(apl.log_return.tail(1000))\n",
    "std1000 = np.std(apl.log_return.tail(1000))\n",
    "\n",
    "print('10 days 95% confidence inverval:', (m10 -1.96*std10,m10 + 1.96*std10))\n",
    "print('1000 days 95% confidence inverval:', (m1000 -1.96*std1000,m1000 + 1.96*std1000))"
   ]
  },
  {
   "cell_type": "markdown",
   "id": "manual-story",
   "metadata": {},
   "source": [
    "Normal Distribution is so commonly used that we should be able to remember some critical values of it. \n",
    "\n",
    "Specifically, we usually use 90%, 95% and 99% as the confidence level of a confidence interval. \n",
    "\n",
    "The critical values for these three confidence levels are 1.64, 1.96, and 2.32 respectively.\n",
    "\n",
    "\n",
    "\n",
    "\n",
    "![](image/image0.png)"
   ]
  },
  {
   "cell_type": "markdown",
   "id": "civil-sunglasses",
   "metadata": {},
   "source": [
    "### Central Limit Theory\n",
    "\n",
    "This assumption is supported by central limit theorem. This theorem tells us that given a sufficiently large sample size from a population with a finite level of variance, the mean of all samples from the same population will be approximately equal to the mean of the population, and the means of the samples will be approximately normal distributed.\n",
    "\n",
    "**This is the foundation of population mean confidence interval estimation.**\n",
    "\n"
   ]
  },
  {
   "cell_type": "markdown",
   "id": "lesbian-associate",
   "metadata": {},
   "source": [
    "### Hypothesis testing\n",
    "\n",
    "Assume that we don't know the mean of this population (actually don't). I **guess that the mean of this population is 0 (hypothesis)**. How to verify that my guess is correct?"
   ]
  },
  {
   "cell_type": "code",
   "execution_count": 53,
   "id": "pleased-representation",
   "metadata": {},
   "outputs": [
    {
     "name": "stdout",
     "output_type": "stream",
     "text": [
      "mean_10      0.000629\n",
      "std_10       0.014281\n",
      "mean_1000    0.000982\n",
      "std_1000     0.017540\n",
      "dtype: float64\n"
     ]
    }
   ],
   "source": [
    "mean_1000 = np.mean(apl.log_return.tail(1000))\n",
    "std_1000 = np.std(apl.log_return.tail(1000))\n",
    "mean_10 = np.mean(apl.log_return.tail(10))\n",
    "std_10 = np.std(apl.log_return.tail(10))\n",
    "s = pd.Series([mean_10,std_10,mean_1000,std_1000],index = ['mean_10', 'std_10','mean_1000','std_1000'])\n",
    "print(s)"
   ]
  },
  {
   "cell_type": "code",
   "execution_count": 54,
   "id": "center-group",
   "metadata": {},
   "outputs": [
    {
     "data": {
      "text/plain": [
       "(2012,)"
      ]
     },
     "execution_count": 54,
     "metadata": {},
     "output_type": "execute_result"
    }
   ],
   "source": [
    "apl.log_return.shape"
   ]
  },
  {
   "cell_type": "markdown",
   "id": "suspended-sending",
   "metadata": {},
   "source": [
    "Next, calculate confidence interval from this. **If population mean were 0**, then the 90% confidence interval of the sample with 1,000 observations should be"
   ]
  },
  {
   "cell_type": "code",
   "execution_count": 55,
   "id": "lesbian-aberdeen",
   "metadata": {},
   "outputs": [
    {
     "name": "stdout",
     "output_type": "stream",
     "text": [
      "(-0.00090963686085756, 0.00090963686085756)\n"
     ]
    }
   ],
   "source": [
    "bottom = 0 - 1.64*std_1000/np.sqrt(1000)\n",
    "upper = 0 + 1.64*std_1000/np.sqrt(1000)\n",
    "print((bottom, upper))"
   ]
  },
  {
   "cell_type": "markdown",
   "id": "broken-jimmy",
   "metadata": {},
   "source": [
    "Our mean of the sample is out of the 90% confidence interval. This means on a 90% confidence level, we can claim that the mean of our population is not 0. In other word, we **rejected** the hypothesis that the daily return on S&P500 from aug 2010 is zero. Can we claim that with 95% confidence level? Can we claim that with 95% confidence level?"
   ]
  },
  {
   "cell_type": "code",
   "execution_count": 56,
   "id": "hairy-incident",
   "metadata": {},
   "outputs": [
    {
     "name": "stdout",
     "output_type": "stream",
     "text": [
      "(-0.001087126980049279, 0.001087126980049279)\n"
     ]
    }
   ],
   "source": [
    "bottom = 0 - 1.96*std_1000/np.sqrt(1000)\n",
    "upper = 0 + 1.96*std_1000/np.sqrt(1000)\n",
    "print((bottom, upper))"
   ]
  },
  {
   "cell_type": "markdown",
   "id": "incredible-floating",
   "metadata": {},
   "source": [
    "We have actually already finished a hypothesis testing above! In general, we have **null hypothesis** $H_0$ and $H_1$ **alternative hypothesis**. They are usually in the following forms:\n",
    "\n",
    "$$\n",
    "H_0 : \\mu = 0 \\\\ \n",
    "H_1 : \\mu \\neq 0\n",
    "$$\n",
    "\n"
   ]
  },
  {
   "cell_type": "markdown",
   "id": "parental-radius",
   "metadata": {},
   "source": [
    "If the tested value is outside the confidence interval, we reject the null hypothesis, or accept the alternative hypothesis; If the tested value is within the confidence interval, **we can't reject the null hypothesis**.\n",
    "\n",
    "Usually, we just calculate **Z_score**, with null hypothesis\n",
    "\n",
    "$$\n",
    "Z = \\frac{X-\\mu}{\\frac{\\sigma}{\\sqrt{n}}}\n",
    "$$"
   ]
  },
  {
   "cell_type": "code",
   "execution_count": 57,
   "id": "imported-spice",
   "metadata": {},
   "outputs": [
    {
     "name": "stdout",
     "output_type": "stream",
     "text": [
      "1.7706907528287523\n"
     ]
    }
   ],
   "source": [
    "z_score = np.sqrt(1000)*(mean_1000 - 0)/std_1000\n",
    "print(z_score)"
   ]
  },
  {
   "cell_type": "markdown",
   "id": "occasional-think",
   "metadata": {},
   "source": [
    "We know that the critical value for the 90% confidence level is 1.64 and that for the 95% confidence level is 1.96. The higher the Z score is, the further the tested value is from the hypothesized value(which is 0 in this example)."
   ]
  },
  {
   "cell_type": "code",
   "execution_count": 58,
   "id": "sonic-integral",
   "metadata": {},
   "outputs": [
    {
     "name": "stdout",
     "output_type": "stream",
     "text": [
      "0.03830607052131174\n"
     ]
    }
   ],
   "source": [
    "import scipy.stats as st\n",
    "print((1 - st.norm.cdf(z_score)))"
   ]
  },
  {
   "cell_type": "markdown",
   "id": "concrete-drama",
   "metadata": {},
   "source": [
    "This is the probability that the value is greater than our tested value ($X$), based on the assumption $H_0$ . This is called **p_value**.\n",
    "\n",
    "---\n",
    "\n",
    "Alternativly, A p-value is a measure of the probability that an observed difference could have occurred just by random chance.\n",
    "\n",
    "--- \n",
    "\n",
    "If our confidence level our confidence interval is 95%, then we have 2.5% on the left side and 2.5% on the right side. This is called two-tail test. If our null hypothesis is $μ=0$, we are conducting two-tail test because the tested sample mean can be either positive enough or negative enough to reject the null hypothesis. We can see it from the chart:\n",
    "\n",
    "![](image/image1.png)"
   ]
  },
  {
   "cell_type": "markdown",
   "id": "forced-savage",
   "metadata": {},
   "source": [
    "## Simple Linear Regression\n",
    "\n",
    "\n",
    "### Introduction\n",
    "\n",
    "In finance and economics filed, most of the models are linear ones. We can see linear regression everywhere, from the foundation of the model portfolio theory to the nowadays popular Fama-French asset pricing model. It's very important to understand how linear regression works in order to have a comprehensive understanding of those theories."
   ]
  },
  {
   "cell_type": "code",
   "execution_count": 18,
   "id": "aboriginal-engagement",
   "metadata": {
    "scrolled": true
   },
   "outputs": [
    {
     "name": "stdout",
     "output_type": "stream",
     "text": [
      "[*********************100%***********************]  1 of 1 completed\n",
      "[*********************100%***********************]  1 of 1 completed\n"
     ]
    },
    {
     "data": {
      "text/html": [
       "<div>\n",
       "<style scoped>\n",
       "    .dataframe tbody tr th:only-of-type {\n",
       "        vertical-align: middle;\n",
       "    }\n",
       "\n",
       "    .dataframe tbody tr th {\n",
       "        vertical-align: top;\n",
       "    }\n",
       "\n",
       "    .dataframe thead th {\n",
       "        text-align: right;\n",
       "    }\n",
       "</style>\n",
       "<table border=\"1\" class=\"dataframe\">\n",
       "  <thead>\n",
       "    <tr style=\"text-align: right;\">\n",
       "      <th></th>\n",
       "      <th>spy</th>\n",
       "      <th>amzn</th>\n",
       "    </tr>\n",
       "    <tr>\n",
       "      <th>Date</th>\n",
       "      <th></th>\n",
       "      <th></th>\n",
       "    </tr>\n",
       "  </thead>\n",
       "  <tbody>\n",
       "    <tr>\n",
       "      <th>2017-09-25</th>\n",
       "      <td>-0.002047</td>\n",
       "      <td>-0.016160</td>\n",
       "    </tr>\n",
       "    <tr>\n",
       "      <th>2017-09-26</th>\n",
       "      <td>0.000602</td>\n",
       "      <td>-0.001267</td>\n",
       "    </tr>\n",
       "    <tr>\n",
       "      <th>2017-09-27</th>\n",
       "      <td>0.003887</td>\n",
       "      <td>0.012988</td>\n",
       "    </tr>\n",
       "    <tr>\n",
       "      <th>2017-09-28</th>\n",
       "      <td>0.001199</td>\n",
       "      <td>0.005799</td>\n",
       "    </tr>\n",
       "    <tr>\n",
       "      <th>2017-09-29</th>\n",
       "      <td>0.003509</td>\n",
       "      <td>0.005162</td>\n",
       "    </tr>\n",
       "  </tbody>\n",
       "</table>\n",
       "</div>"
      ],
      "text/plain": [
       "                 spy      amzn\n",
       "Date                          \n",
       "2017-09-25 -0.002047 -0.016160\n",
       "2017-09-26  0.000602 -0.001267\n",
       "2017-09-27  0.003887  0.012988\n",
       "2017-09-28  0.001199  0.005799\n",
       "2017-09-29  0.003509  0.005162"
      ]
     },
     "execution_count": 18,
     "metadata": {},
     "output_type": "execute_result"
    }
   ],
   "source": [
    "import yfinance as yf\n",
    "spy_table = yf.download('SPY', start='2010-02-01', end='2019-12-01',interval='1d')\n",
    "amzn_table = yf.download('AMZN', start='2010-02-01', end='2019-12-01',interval='1d')\n",
    "\n",
    "spy = spy_table.loc['2017':'2017-9',['Close']]\n",
    "amzn = amzn_table.loc['2017':'2017-9',['Close']]\n",
    "\n",
    "spy_log = np.log(spy.Close).diff().dropna()\n",
    "amzn_log = np.log(amzn.Close).diff().dropna()\n",
    "df = pd.concat([spy_log,amzn_log],axis = 1).dropna()\n",
    "df.columns = ['spy','amzn']\n",
    "df.tail()"
   ]
  },
  {
   "cell_type": "code",
   "execution_count": 21,
   "id": "graphic-scanner",
   "metadata": {},
   "outputs": [
    {
     "data": {
      "image/png": "[encoded data removed]",
      "text/plain": [
       "<Figure size 1080x720 with 1 Axes>"
      ]
     },
     "metadata": {
      "needs_background": "light"
     },
     "output_type": "display_data"
    }
   ],
   "source": [
    "import matplotlib.pyplot as plt\n",
    "plt.figure(figsize = (15,10))\n",
    "plt.scatter(df.spy,df.amzn)\n",
    "plt.show()"
   ]
  },
  {
   "cell_type": "markdown",
   "id": "liable-alaska",
   "metadata": {},
   "source": [
    "The plot is scattered, but we can see they are approximately **correlated**: generally the higher SPX's daily return is, the higher Amazon stock's return is. This is called positively correlated. We will cover it in the following tutorials. with **ordinary least square**, or **OLS** method. \n",
    "\n",
    "fitting with \n",
    "\n",
    "$$\n",
    "Y = \\alpha + \\beta \\cdot X + \\epsilon\n",
    "$$\n",
    "\n",
    "In python, we don't need to do the above calculation manually because we have package for it. But it still very important to understand the calculation process of **$\\beta$** in order the understand **the modern portfolio theory and CAPM**, which we will cover in the future."
   ]
  },
  {
   "cell_type": "code",
   "execution_count": 22,
   "id": "actual-internship",
   "metadata": {
    "scrolled": false
   },
   "outputs": [
    {
     "name": "stdout",
     "output_type": "stream",
     "text": [
      "                            OLS Regression Results                            \n",
      "==============================================================================\n",
      "Dep. Variable:                   amzn   R-squared:                       0.216\n",
      "Model:                            OLS   Adj. R-squared:                  0.212\n",
      "Method:                 Least Squares   F-statistic:                     51.04\n",
      "Date:                Sun, 20 Mar 2022   Prob (F-statistic):           2.01e-11\n",
      "Time:                        03:26:11   Log-Likelihood:                 607.65\n",
      "No. Observations:                 187   AIC:                            -1211.\n",
      "Df Residuals:                     185   BIC:                            -1205.\n",
      "Df Model:                           1                                         \n",
      "Covariance Type:            nonrobust                                         \n",
      "==============================================================================\n",
      "                 coef    std err          t      P>|t|      [0.025      0.975]\n",
      "------------------------------------------------------------------------------\n",
      "Intercept      0.0007      0.001      0.948      0.344      -0.001       0.002\n",
      "spy            1.0984      0.154      7.144      0.000       0.795       1.402\n",
      "==============================================================================\n",
      "Omnibus:                       28.757   Durbin-Watson:                   1.868\n",
      "Prob(Omnibus):                  0.000   Jarque-Bera (JB):              105.392\n",
      "Skew:                          -0.496   Prob(JB):                     1.30e-23\n",
      "Kurtosis:                       6.542   Cond. No.                         223.\n",
      "==============================================================================\n",
      "\n",
      "Notes:\n",
      "[1] Standard Errors assume that the covariance matrix of the errors is correctly specified.\n"
     ]
    }
   ],
   "source": [
    "import statsmodels.formula.api as sm\n",
    "model = sm.ols(formula = 'amzn~spy',data = df).fit()\n",
    "print(model.summary())"
   ]
  },
  {
   "cell_type": "markdown",
   "id": "announced-mediterranean",
   "metadata": {},
   "source": [
    "#### Parameter Significance\n",
    "\n",
    "Here, we have null hypothesis : $H_0 : \\beta = 0$ and the alternative hypothesis $H_1 : \\beta \\neq 0$. \n",
    "\n",
    "Test score is given by\n",
    "$$\n",
    "t = \\frac{\\hat{\\beta}}{SE} \\\\ \n",
    "SE = \\sqrt{\\frac{\\frac{1}{n-1}\\sum_i^n \\hat{\\epsilon}^2}{\\sum_i (x_i - \\bar{x})^2}} \\\\ \n",
    "\\hat{\\epsilon} = \\hat{y}-y\n",
    "$$\n",
    "and this statistic  is distributed as t-value we can performe testing.\n",
    "\n",
    "also, p values is given. Note that spx is almost 0, which means that we can not say that $\\beta$ is 0.\n",
    "\n",
    " The following 2 columns are the lower band and upper band of the parameters at 95% confidence interval. At 95% confidence level, we can claim that the true value of the parameter is within this range.\n",
    " \n",
    "\n",
    "We are going to use slides for the other statistics for linear regression\n",
    "\n",
    "\n"
   ]
  },
  {
   "cell_type": "code",
   "execution_count": 79,
   "id": "deadly-friend",
   "metadata": {},
   "outputs": [
    {
     "data": {
      "image/png": "[encoded data removed]",
      "text/plain": [
       "<Figure size 1080x720 with 1 Axes>"
      ]
     },
     "metadata": {
      "needs_background": "light"
     },
     "output_type": "display_data"
    }
   ],
   "source": [
    "plt.figure(figsize = (15,10))\n",
    "plt.scatter(df.spx,df.amzn)\n",
    "plt.xlabel('spx_return')\n",
    "plt.ylabel('amzn_return')\n",
    "plt.plot(df.spx,model.predict(),color = 'red')\n",
    "plt.show()"
   ]
  },
  {
   "cell_type": "markdown",
   "id": "ruled-vancouver",
   "metadata": {},
   "source": [
    "## Multiple Linear Regression"
   ]
  },
  {
   "cell_type": "markdown",
   "id": "desperate-genealogy",
   "metadata": {},
   "source": [
    "Used for Multivariate analysis\n",
    "In the last chapter we introduced simple linear regression, which has only one independent variable. In this chapter we will learn about linear regression with multiple independent variables.\n",
    "\n",
    "A simple linear regression model is written in the following form:\n",
    "$$\n",
    "Y=\\alpha+\\beta X+\\epsilon\n",
    "$$\n",
    "A multiple linear regression model with p variables is given by:\n",
    "\n",
    "$$\n",
    "Y=\\alpha+\\beta_1 X_1+\\beta_2 X_2 + .. + \\beta_p X_p\\epsilon\n",
    "$$"
   ]
  },
  {
   "cell_type": "code",
   "execution_count": 2,
   "id": "simple-muscle",
   "metadata": {},
   "outputs": [
    {
     "name": "stdout",
     "output_type": "stream",
     "text": [
      "[*********************100%***********************]  1 of 1 completed\n",
      "[*********************100%***********************]  1 of 1 completed\n",
      "[*********************100%***********************]  1 of 1 completed\n",
      "[*********************100%***********************]  1 of 1 completed\n",
      "[*********************100%***********************]  1 of 1 completed\n"
     ]
    }
   ],
   "source": [
    "import yfinance as yf\n",
    "spy_table = yf.download('SPY', start='2010-02-01', end='2019-12-01',interval='1d')\n",
    "amzn_table = yf.download('AMZN', start='2010-02-01', end='2019-12-01',interval='1d')\n",
    "ebay_table = yf.download('EBAY', start='2010-02-01', end='2019-12-01',interval='1d')\n",
    "wal_table = yf.download('WMT', start='2010-02-01', end='2019-12-01',interval='1d')\n",
    "aapl_table = yf.download('AAPL', start='2010-02-01', end='2019-12-01',interval='1d')\n",
    "\n",
    "spy = spy_table.loc['2017':'2017-9',['Close']]\n",
    "amzn = amzn_table.loc['2017':'2017-9',['Close']]\n",
    "ebay = ebay_table.loc['2017':'2017-9',['Close']]\n",
    "wal = wal_table.loc['2017':'2017-9',['Close']]\n",
    "aapl = aapl_table.loc['2017':'2017-9',['Close']]\n",
    "\n",
    "# spy_log = np.log(spy.Close).diff().dropna()\n",
    "# amzn_log = np.log(amzn.Close).diff().dropna()\n",
    "# df = pd.concat([spy_log,amzn_log],axis = 1).dropna()\n",
    "# df.columns = ['spx','amzn']\n",
    "# df.tail()"
   ]
  },
  {
   "cell_type": "code",
   "execution_count": 15,
   "id": "noticed-heating",
   "metadata": {},
   "outputs": [
    {
     "data": {
      "text/html": [
       "<div>\n",
       "<style scoped>\n",
       "    .dataframe tbody tr th:only-of-type {\n",
       "        vertical-align: middle;\n",
       "    }\n",
       "\n",
       "    .dataframe tbody tr th {\n",
       "        vertical-align: top;\n",
       "    }\n",
       "\n",
       "    .dataframe thead th {\n",
       "        text-align: right;\n",
       "    }\n",
       "</style>\n",
       "<table border=\"1\" class=\"dataframe\">\n",
       "  <thead>\n",
       "    <tr style=\"text-align: right;\">\n",
       "      <th></th>\n",
       "      <th>spy</th>\n",
       "      <th>amzn</th>\n",
       "      <th>ebay</th>\n",
       "      <th>wal</th>\n",
       "      <th>aapl</th>\n",
       "    </tr>\n",
       "    <tr>\n",
       "      <th>Date</th>\n",
       "      <th></th>\n",
       "      <th></th>\n",
       "      <th></th>\n",
       "      <th></th>\n",
       "      <th></th>\n",
       "    </tr>\n",
       "  </thead>\n",
       "  <tbody>\n",
       "    <tr>\n",
       "      <th>2017-09-25</th>\n",
       "      <td>-0.002047</td>\n",
       "      <td>-0.016160</td>\n",
       "      <td>-0.013409</td>\n",
       "      <td>-0.004789</td>\n",
       "      <td>-0.008861</td>\n",
       "    </tr>\n",
       "    <tr>\n",
       "      <th>2017-09-26</th>\n",
       "      <td>0.000602</td>\n",
       "      <td>-0.001267</td>\n",
       "      <td>0.001851</td>\n",
       "      <td>0.003028</td>\n",
       "      <td>0.017057</td>\n",
       "    </tr>\n",
       "    <tr>\n",
       "      <th>2017-09-27</th>\n",
       "      <td>0.003887</td>\n",
       "      <td>0.012988</td>\n",
       "      <td>0.005270</td>\n",
       "      <td>-0.001260</td>\n",
       "      <td>0.007092</td>\n",
       "    </tr>\n",
       "    <tr>\n",
       "      <th>2017-09-28</th>\n",
       "      <td>0.001199</td>\n",
       "      <td>0.005799</td>\n",
       "      <td>-0.008446</td>\n",
       "      <td>-0.004297</td>\n",
       "      <td>-0.006179</td>\n",
       "    </tr>\n",
       "    <tr>\n",
       "      <th>2017-09-29</th>\n",
       "      <td>0.003509</td>\n",
       "      <td>0.005162</td>\n",
       "      <td>0.019163</td>\n",
       "      <td>-0.010313</td>\n",
       "      <td>0.005465</td>\n",
       "    </tr>\n",
       "  </tbody>\n",
       "</table>\n",
       "</div>"
      ],
      "text/plain": [
       "                 spy      amzn      ebay       wal      aapl\n",
       "Date                                                        \n",
       "2017-09-25 -0.002047 -0.016160 -0.013409 -0.004789 -0.008861\n",
       "2017-09-26  0.000602 -0.001267  0.001851  0.003028  0.017057\n",
       "2017-09-27  0.003887  0.012988  0.005270 -0.001260  0.007092\n",
       "2017-09-28  0.001199  0.005799 -0.008446 -0.004297 -0.006179\n",
       "2017-09-29  0.003509  0.005162  0.019163 -0.010313  0.005465"
      ]
     },
     "execution_count": 15,
     "metadata": {},
     "output_type": "execute_result"
    }
   ],
   "source": [
    "import numpy as np\n",
    "import pandas as pd\n",
    "spy_log  = np.log(spy.Close) .diff().dropna()\n",
    "amzn_log = np.log(amzn.Close).diff().dropna()\n",
    "ebay_log = np.log(ebay.Close).diff().dropna()\n",
    "wal_log  = np.log(wal.Close) .diff().dropna()\n",
    "aapl_log = np.log(aapl.Close).diff().dropna()\n",
    "df = pd.concat([spy_log,amzn_log,ebay_log,wal_log,aapl_log],axis = 1).dropna()\n",
    "df.columns = ['spy', 'amzn', 'ebay', 'wal', 'aapl']\n",
    "df.tail()"
   ]
  },
  {
   "cell_type": "code",
   "execution_count": 17,
   "id": "lesbian-simon",
   "metadata": {
    "scrolled": false
   },
   "outputs": [
    {
     "name": "stdout",
     "output_type": "stream",
     "text": [
      "                            OLS Regression Results                            \n",
      "==============================================================================\n",
      "Dep. Variable:                   amzn   R-squared:                       0.364\n",
      "Model:                            OLS   Adj. R-squared:                  0.350\n",
      "Method:                 Least Squares   F-statistic:                     26.06\n",
      "Date:                Sun, 20 Mar 2022   Prob (F-statistic):           4.32e-17\n",
      "Time:                        03:23:42   Log-Likelihood:                 627.21\n",
      "No. Observations:                 187   AIC:                            -1244.\n",
      "Df Residuals:                     182   BIC:                            -1228.\n",
      "Df Model:                           4                                         \n",
      "Covariance Type:            nonrobust                                         \n",
      "==============================================================================\n",
      "                 coef    std err          t      P>|t|      [0.025      0.975]\n",
      "------------------------------------------------------------------------------\n",
      "Intercept      0.0004      0.001      0.563      0.574      -0.001       0.002\n",
      "spy            0.5323      0.174      3.061      0.003       0.189       0.875\n",
      "ebay           0.1858      0.060      3.109      0.002       0.068       0.304\n",
      "wal           -0.1113      0.071     -1.571      0.118      -0.251       0.028\n",
      "aapl           0.3027      0.070      4.338      0.000       0.165       0.440\n",
      "==============================================================================\n",
      "Omnibus:                       28.123   Durbin-Watson:                   1.886\n",
      "Prob(Omnibus):                  0.000   Jarque-Bera (JB):              117.249\n",
      "Skew:                          -0.422   Prob(JB):                     3.47e-26\n",
      "Kurtosis:                       6.786   Cond. No.                         284.\n",
      "==============================================================================\n",
      "\n",
      "Notes:\n",
      "[1] Standard Errors assume that the covariance matrix of the errors is correctly specified.\n"
     ]
    }
   ],
   "source": [
    "import statsmodels.formula.api as sm\n",
    "model = sm.ols(formula = 'amzn ~ spy + ebay + wal + aapl', data = df).fit()\n",
    "print(model.summary())"
   ]
  },
  {
   "cell_type": "markdown",
   "id": "intellectual-spring",
   "metadata": {},
   "source": [
    "**Note that beta and some related statistics for spy is different from previous results**\n",
    "\n",
    "As seen from the summary table, the p-values for Walmart and Apple are 0.174, 0.330 and 0.068 respectively, so none of them are significant at a 95% confidence level.\n",
    "\n",
    "In this case, adjusted R-squrared is much decreased than simple regression. \n",
    "\n",
    "\n",
    "Can we improve our model further? Here we try the **Fama-French 5-factor model**, which is an important model in asset pricing theory. We will cover it in the later tutorials.\n",
    "\n",
    "The data needed are publicly available on French's website. We have saved a copy for convenience. The following code fetches the data."
   ]
  },
  {
   "cell_type": "code",
   "execution_count": 35,
   "id": "welsh-aberdeen",
   "metadata": {},
   "outputs": [
    {
     "data": {
      "text/plain": [
       "'https://www.quantconnect.com/404'"
      ]
     },
     "execution_count": 35,
     "metadata": {},
     "output_type": "execute_result"
    }
   ],
   "source": [
    "(response).geturl()"
   ]
  },
  {
   "cell_type": "code",
   "execution_count": 31,
   "id": "freelance-eleven",
   "metadata": {
    "scrolled": false
   },
   "outputs": [
    {
     "ename": "ParserError",
     "evalue": "Error tokenizing data. C error: Expected 1 fields in line 5, saw 2\n",
     "output_type": "error",
     "traceback": [
      "\u001b[0;31m---------------------------------------------------------------------------\u001b[0m",
      "\u001b[0;31mParserError\u001b[0m                               Traceback (most recent call last)",
      "\u001b[0;32m<ipython-input-31-3632e5258ad4>\u001b[0m in \u001b[0;36m<module>\u001b[0;34m\u001b[0m\n\u001b[1;32m      4\u001b[0m \u001b[0murl\u001b[0m \u001b[0;34m=\u001b[0m \u001b[0;34m'https://www.quantconnect.com/tutorials/wp-content/uploads/2017/08/F-F_Research_Data_5_Factors_2x3_daily.csv'\u001b[0m\u001b[0;34m\u001b[0m\u001b[0;34m\u001b[0m\u001b[0m\n\u001b[1;32m      5\u001b[0m \u001b[0mresponse\u001b[0m   \u001b[0;34m=\u001b[0m \u001b[0murllib\u001b[0m\u001b[0;34m.\u001b[0m\u001b[0mrequest\u001b[0m\u001b[0;34m.\u001b[0m\u001b[0murlopen\u001b[0m\u001b[0;34m(\u001b[0m\u001b[0murl\u001b[0m\u001b[0;34m)\u001b[0m\u001b[0;34m\u001b[0m\u001b[0;34m\u001b[0m\u001b[0m\n\u001b[0;32m----> 6\u001b[0;31m \u001b[0mfama_table\u001b[0m \u001b[0;34m=\u001b[0m \u001b[0mpd\u001b[0m\u001b[0;34m.\u001b[0m\u001b[0mread_csv\u001b[0m\u001b[0;34m(\u001b[0m\u001b[0mresponse\u001b[0m\u001b[0;34m)\u001b[0m\u001b[0;34m\u001b[0m\u001b[0;34m\u001b[0m\u001b[0m\n\u001b[0m\u001b[1;32m      7\u001b[0m \u001b[0;34m\u001b[0m\u001b[0m\n\u001b[1;32m      8\u001b[0m \u001b[0;31m# Convert time column into index\u001b[0m\u001b[0;34m\u001b[0m\u001b[0;34m\u001b[0m\u001b[0;34m\u001b[0m\u001b[0m\n",
      "\u001b[0;32m~/miniconda3/envs/stock/lib/python3.7/site-packages/pandas/io/parsers.py\u001b[0m in \u001b[0;36mread_csv\u001b[0;34m(filepath_or_buffer, sep, delimiter, header, names, index_col, usecols, squeeze, prefix, mangle_dupe_cols, dtype, engine, converters, true_values, false_values, skipinitialspace, skiprows, skipfooter, nrows, na_values, keep_default_na, na_filter, verbose, skip_blank_lines, parse_dates, infer_datetime_format, keep_date_col, date_parser, dayfirst, cache_dates, iterator, chunksize, compression, thousands, decimal, lineterminator, quotechar, quoting, doublequote, escapechar, comment, encoding, dialect, error_bad_lines, warn_bad_lines, delim_whitespace, low_memory, memory_map, float_precision)\u001b[0m\n\u001b[1;32m    684\u001b[0m     )\n\u001b[1;32m    685\u001b[0m \u001b[0;34m\u001b[0m\u001b[0m\n\u001b[0;32m--> 686\u001b[0;31m     \u001b[0;32mreturn\u001b[0m \u001b[0m_read\u001b[0m\u001b[0;34m(\u001b[0m\u001b[0mfilepath_or_buffer\u001b[0m\u001b[0;34m,\u001b[0m \u001b[0mkwds\u001b[0m\u001b[0;34m)\u001b[0m\u001b[0;34m\u001b[0m\u001b[0;34m\u001b[0m\u001b[0m\n\u001b[0m\u001b[1;32m    687\u001b[0m \u001b[0;34m\u001b[0m\u001b[0m\n\u001b[1;32m    688\u001b[0m \u001b[0;34m\u001b[0m\u001b[0m\n",
      "\u001b[0;32m~/miniconda3/envs/stock/lib/python3.7/site-packages/pandas/io/parsers.py\u001b[0m in \u001b[0;36m_read\u001b[0;34m(filepath_or_buffer, kwds)\u001b[0m\n\u001b[1;32m    456\u001b[0m \u001b[0;34m\u001b[0m\u001b[0m\n\u001b[1;32m    457\u001b[0m     \u001b[0;32mtry\u001b[0m\u001b[0;34m:\u001b[0m\u001b[0;34m\u001b[0m\u001b[0;34m\u001b[0m\u001b[0m\n\u001b[0;32m--> 458\u001b[0;31m         \u001b[0mdata\u001b[0m \u001b[0;34m=\u001b[0m \u001b[0mparser\u001b[0m\u001b[0;34m.\u001b[0m\u001b[0mread\u001b[0m\u001b[0;34m(\u001b[0m\u001b[0mnrows\u001b[0m\u001b[0;34m)\u001b[0m\u001b[0;34m\u001b[0m\u001b[0;34m\u001b[0m\u001b[0m\n\u001b[0m\u001b[1;32m    459\u001b[0m     \u001b[0;32mfinally\u001b[0m\u001b[0;34m:\u001b[0m\u001b[0;34m\u001b[0m\u001b[0;34m\u001b[0m\u001b[0m\n\u001b[1;32m    460\u001b[0m         \u001b[0mparser\u001b[0m\u001b[0;34m.\u001b[0m\u001b[0mclose\u001b[0m\u001b[0;34m(\u001b[0m\u001b[0;34m)\u001b[0m\u001b[0;34m\u001b[0m\u001b[0;34m\u001b[0m\u001b[0m\n",
      "\u001b[0;32m~/miniconda3/envs/stock/lib/python3.7/site-packages/pandas/io/parsers.py\u001b[0m in \u001b[0;36mread\u001b[0;34m(self, nrows)\u001b[0m\n\u001b[1;32m   1194\u001b[0m     \u001b[0;32mdef\u001b[0m \u001b[0mread\u001b[0m\u001b[0;34m(\u001b[0m\u001b[0mself\u001b[0m\u001b[0;34m,\u001b[0m \u001b[0mnrows\u001b[0m\u001b[0;34m=\u001b[0m\u001b[0;32mNone\u001b[0m\u001b[0;34m)\u001b[0m\u001b[0;34m:\u001b[0m\u001b[0;34m\u001b[0m\u001b[0;34m\u001b[0m\u001b[0m\n\u001b[1;32m   1195\u001b[0m         \u001b[0mnrows\u001b[0m \u001b[0;34m=\u001b[0m \u001b[0m_validate_integer\u001b[0m\u001b[0;34m(\u001b[0m\u001b[0;34m\"nrows\"\u001b[0m\u001b[0;34m,\u001b[0m \u001b[0mnrows\u001b[0m\u001b[0;34m)\u001b[0m\u001b[0;34m\u001b[0m\u001b[0;34m\u001b[0m\u001b[0m\n\u001b[0;32m-> 1196\u001b[0;31m         \u001b[0mret\u001b[0m \u001b[0;34m=\u001b[0m \u001b[0mself\u001b[0m\u001b[0;34m.\u001b[0m\u001b[0m_engine\u001b[0m\u001b[0;34m.\u001b[0m\u001b[0mread\u001b[0m\u001b[0;34m(\u001b[0m\u001b[0mnrows\u001b[0m\u001b[0;34m)\u001b[0m\u001b[0;34m\u001b[0m\u001b[0;34m\u001b[0m\u001b[0m\n\u001b[0m\u001b[1;32m   1197\u001b[0m \u001b[0;34m\u001b[0m\u001b[0m\n\u001b[1;32m   1198\u001b[0m         \u001b[0;31m# May alter columns / col_dict\u001b[0m\u001b[0;34m\u001b[0m\u001b[0;34m\u001b[0m\u001b[0;34m\u001b[0m\u001b[0m\n",
      "\u001b[0;32m~/miniconda3/envs/stock/lib/python3.7/site-packages/pandas/io/parsers.py\u001b[0m in \u001b[0;36mread\u001b[0;34m(self, nrows)\u001b[0m\n\u001b[1;32m   2153\u001b[0m     \u001b[0;32mdef\u001b[0m \u001b[0mread\u001b[0m\u001b[0;34m(\u001b[0m\u001b[0mself\u001b[0m\u001b[0;34m,\u001b[0m \u001b[0mnrows\u001b[0m\u001b[0;34m=\u001b[0m\u001b[0;32mNone\u001b[0m\u001b[0;34m)\u001b[0m\u001b[0;34m:\u001b[0m\u001b[0;34m\u001b[0m\u001b[0;34m\u001b[0m\u001b[0m\n\u001b[1;32m   2154\u001b[0m         \u001b[0;32mtry\u001b[0m\u001b[0;34m:\u001b[0m\u001b[0;34m\u001b[0m\u001b[0;34m\u001b[0m\u001b[0m\n\u001b[0;32m-> 2155\u001b[0;31m             \u001b[0mdata\u001b[0m \u001b[0;34m=\u001b[0m \u001b[0mself\u001b[0m\u001b[0;34m.\u001b[0m\u001b[0m_reader\u001b[0m\u001b[0;34m.\u001b[0m\u001b[0mread\u001b[0m\u001b[0;34m(\u001b[0m\u001b[0mnrows\u001b[0m\u001b[0;34m)\u001b[0m\u001b[0;34m\u001b[0m\u001b[0;34m\u001b[0m\u001b[0m\n\u001b[0m\u001b[1;32m   2156\u001b[0m         \u001b[0;32mexcept\u001b[0m \u001b[0mStopIteration\u001b[0m\u001b[0;34m:\u001b[0m\u001b[0;34m\u001b[0m\u001b[0;34m\u001b[0m\u001b[0m\n\u001b[1;32m   2157\u001b[0m             \u001b[0;32mif\u001b[0m \u001b[0mself\u001b[0m\u001b[0;34m.\u001b[0m\u001b[0m_first_chunk\u001b[0m\u001b[0;34m:\u001b[0m\u001b[0;34m\u001b[0m\u001b[0;34m\u001b[0m\u001b[0m\n",
      "\u001b[0;32mpandas/_libs/parsers.pyx\u001b[0m in \u001b[0;36mpandas._libs.parsers.TextReader.read\u001b[0;34m()\u001b[0m\n",
      "\u001b[0;32mpandas/_libs/parsers.pyx\u001b[0m in \u001b[0;36mpandas._libs.parsers.TextReader._read_low_memory\u001b[0;34m()\u001b[0m\n",
      "\u001b[0;32mpandas/_libs/parsers.pyx\u001b[0m in \u001b[0;36mpandas._libs.parsers.TextReader._read_rows\u001b[0;34m()\u001b[0m\n",
      "\u001b[0;32mpandas/_libs/parsers.pyx\u001b[0m in \u001b[0;36mpandas._libs.parsers.TextReader._tokenize_rows\u001b[0;34m()\u001b[0m\n",
      "\u001b[0;32mpandas/_libs/parsers.pyx\u001b[0m in \u001b[0;36mpandas._libs.parsers.raise_parser_error\u001b[0;34m()\u001b[0m\n",
      "\u001b[0;31mParserError\u001b[0m: Error tokenizing data. C error: Expected 1 fields in line 5, saw 2\n"
     ]
    }
   ],
   "source": [
    "import urllib\n",
    "from datetime import datetime\n",
    "\n",
    "url = 'https://www.quantconnect.com/tutorials/wp-content/uploads/2017/08/F-F_Research_Data_5_Factors_2x3_daily.csv'\n",
    "response   = urllib.request.urlopen(url)\n",
    "fama_table = pd.read_csv(response)\n",
    "\n",
    "# Convert time column into index\n",
    "fama_table.index = [datetime.strptime(str(x), \"%Y%m%d\")\n",
    "                    for x in fama_table.iloc[:,0]]\n",
    "# Remove time column\n",
    "fama_table = fama_table.iloc[:,1:]"
   ]
  },
  {
   "cell_type": "code",
   "execution_count": 28,
   "id": "mineral-company",
   "metadata": {},
   "outputs": [
    {
     "data": {
      "text/plain": [
       "<http.client.HTTPResponse at 0x7fc079081350>"
      ]
     },
     "execution_count": 28,
     "metadata": {},
     "output_type": "execute_result"
    }
   ],
   "source": [
    "response"
   ]
  }
 ],
 "metadata": {
  "kernelspec": {
   "display_name": "Python 3",
   "language": "python",
   "name": "python3"
  },
  "language_info": {
   "codemirror_mode": {
    "name": "ipython",
    "version": 3
   },
   "file_extension": ".py",
   "mimetype": "text/x-python",
   "name": "python",
   "nbconvert_exporter": "python",
   "pygments_lexer": "ipython3",
   "version": "3.7.9"
  }
 },
 "nbformat": 4,
 "nbformat_minor": 5
}
