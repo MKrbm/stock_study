{
 "cells": [
  {
   "cell_type": "code",
   "execution_count": 102,
   "id": "latest-category",
   "metadata": {},
   "outputs": [],
   "source": [
    "import pandas as pd\n",
    "import numpy as np"
   ]
  },
  {
   "cell_type": "code",
   "execution_count": 107,
   "id": "nominated-background",
   "metadata": {},
   "outputs": [],
   "source": [
    "stock_list = pd.read_csv(\"../../kaggle/data/stock_list.csv\")"
   ]
  },
  {
   "cell_type": "code",
   "execution_count": 110,
   "id": "listed-wright",
   "metadata": {},
   "outputs": [
    {
     "data": {
      "text/plain": [
       "['SecuritiesCode',\n",
       " 'EffectiveDate',\n",
       " 'Name',\n",
       " 'Section/Products',\n",
       " 'NewMarketSegment',\n",
       " '33SectorCode',\n",
       " '33SectorName',\n",
       " '17SectorCode',\n",
       " '17SectorName',\n",
       " 'NewIndexSeriesSizeCode',\n",
       " 'NewIndexSeriesSize',\n",
       " 'TradeDate',\n",
       " 'Close',\n",
       " 'IssuedShares',\n",
       " 'MarketCapitalization',\n",
       " 'Universe0']"
      ]
     },
     "execution_count": 110,
     "metadata": {},
     "output_type": "execute_result"
    }
   ],
   "source": [
    "list(stock_list.columns)"
   ]
  },
  {
   "cell_type": "code",
   "execution_count": null,
   "id": "upset-transportation",
   "metadata": {},
   "outputs": [],
   "source": [
    "columns_name = ['SecuritiesCode', 'EffectiveDate', 'Name', 'Section/Products', 'NewMarketSegment', '33SectorCode', '33SectorName', '17SectorCode', '17SectorName', 'NewIndexSeriesSizeCode', 'NewIndexSeriesSize', 'TradeDate', 'Close', 'IssuedShares', 'MarketCapitalization', 'Universe0']"
   ]
  },
  {
   "cell_type": "code",
   "execution_count": 130,
   "id": "western-oriental",
   "metadata": {},
   "outputs": [
    {
     "data": {
      "text/html": [
       "<div>\n",
       "<style scoped>\n",
       "    .dataframe tbody tr th:only-of-type {\n",
       "        vertical-align: middle;\n",
       "    }\n",
       "\n",
       "    .dataframe tbody tr th {\n",
       "        vertical-align: top;\n",
       "    }\n",
       "\n",
       "    .dataframe thead th {\n",
       "        text-align: right;\n",
       "    }\n",
       "</style>\n",
       "<table border=\"1\" class=\"dataframe\">\n",
       "  <thead>\n",
       "    <tr style=\"text-align: right;\">\n",
       "      <th></th>\n",
       "      <th>DisclosureNumber</th>\n",
       "      <th>DateCode</th>\n",
       "      <th>Date</th>\n",
       "      <th>SecuritiesCode</th>\n",
       "      <th>DisclosedDate</th>\n",
       "      <th>DisclosedTime</th>\n",
       "      <th>DisclosedUnixTime</th>\n",
       "      <th>TypeOfDocument</th>\n",
       "      <th>CurrentPeriodEndDate</th>\n",
       "      <th>TypeOfCurrentPeriod</th>\n",
       "      <th>...</th>\n",
       "      <th>ForecastEarningsPerShare</th>\n",
       "      <th>ApplyingOfSpecificAccountingOfTheQuarterlyFinancialStatements</th>\n",
       "      <th>MaterialChangesInSubsidiaries</th>\n",
       "      <th>ChangesBasedOnRevisionsOfAccountingStandard</th>\n",
       "      <th>ChangesOtherThanOnesBasedOnRevisionsOfAccountingStandard</th>\n",
       "      <th>ChangesInAccountingEstimates</th>\n",
       "      <th>RetrospectiveRestatement</th>\n",
       "      <th>NumberOfIssuedAndOutstandingSharesAtTheEndOfFiscalYearIncludingTreasuryStock</th>\n",
       "      <th>NumberOfTreasuryStockAtTheEndOfFiscalYear</th>\n",
       "      <th>AverageNumberOfShares</th>\n",
       "    </tr>\n",
       "  </thead>\n",
       "  <tbody>\n",
       "    <tr>\n",
       "      <th>0</th>\n",
       "      <td>2.021121e+13</td>\n",
       "      <td>20211206_1873</td>\n",
       "      <td>2021-12-06</td>\n",
       "      <td>1873.0</td>\n",
       "      <td>2021-12-06</td>\n",
       "      <td>15:00:00</td>\n",
       "      <td>1.638770e+09</td>\n",
       "      <td>ForecastRevision</td>\n",
       "      <td>2021-10-31</td>\n",
       "      <td>FY</td>\n",
       "      <td>...</td>\n",
       "      <td>40.00</td>\n",
       "      <td>NaN</td>\n",
       "      <td>NaN</td>\n",
       "      <td>NaN</td>\n",
       "      <td>NaN</td>\n",
       "      <td>NaN</td>\n",
       "      <td>NaN</td>\n",
       "      <td>NaN</td>\n",
       "      <td>NaN</td>\n",
       "      <td>NaN</td>\n",
       "    </tr>\n",
       "    <tr>\n",
       "      <th>1</th>\n",
       "      <td>2.021121e+13</td>\n",
       "      <td>20211206_4813</td>\n",
       "      <td>2021-12-06</td>\n",
       "      <td>4813.0</td>\n",
       "      <td>2021-12-06</td>\n",
       "      <td>15:00:00</td>\n",
       "      <td>1.638770e+09</td>\n",
       "      <td>3QFinancialStatements_Consolidated_JP</td>\n",
       "      <td>2021-10-31</td>\n",
       "      <td>3Q</td>\n",
       "      <td>...</td>\n",
       "      <td>-77.98</td>\n",
       "      <td>NaN</td>\n",
       "      <td>True</td>\n",
       "      <td>False</td>\n",
       "      <td>False</td>\n",
       "      <td>False</td>\n",
       "      <td>False</td>\n",
       "      <td>39633000.0</td>\n",
       "      <td>466421.0</td>\n",
       "      <td>39095375.0</td>\n",
       "    </tr>\n",
       "    <tr>\n",
       "      <th>2</th>\n",
       "      <td>2.021112e+13</td>\n",
       "      <td>20211206_4824</td>\n",
       "      <td>2021-12-06</td>\n",
       "      <td>4824.0</td>\n",
       "      <td>2021-12-06</td>\n",
       "      <td>08:30:00</td>\n",
       "      <td>1.638747e+09</td>\n",
       "      <td>1QFinancialStatements_Consolidated_JP</td>\n",
       "      <td>2021-10-31</td>\n",
       "      <td>1Q</td>\n",
       "      <td>...</td>\n",
       "      <td>3.69</td>\n",
       "      <td>NaN</td>\n",
       "      <td>False</td>\n",
       "      <td>False</td>\n",
       "      <td>False</td>\n",
       "      <td>False</td>\n",
       "      <td>False</td>\n",
       "      <td>9766800.0</td>\n",
       "      <td>23345.0</td>\n",
       "      <td>9743455.0</td>\n",
       "    </tr>\n",
       "    <tr>\n",
       "      <th>3</th>\n",
       "      <td>2.021112e+13</td>\n",
       "      <td>20211206_6656</td>\n",
       "      <td>2021-12-06</td>\n",
       "      <td>6656.0</td>\n",
       "      <td>2021-12-06</td>\n",
       "      <td>15:00:00</td>\n",
       "      <td>1.638770e+09</td>\n",
       "      <td>2QFinancialStatements_NonConsolidated_JP</td>\n",
       "      <td>2021-10-31</td>\n",
       "      <td>2Q</td>\n",
       "      <td>...</td>\n",
       "      <td>44.85</td>\n",
       "      <td>False</td>\n",
       "      <td>NaN</td>\n",
       "      <td>True</td>\n",
       "      <td>False</td>\n",
       "      <td>False</td>\n",
       "      <td>False</td>\n",
       "      <td>3790400.0</td>\n",
       "      <td>156.0</td>\n",
       "      <td>3790170.0</td>\n",
       "    </tr>\n",
       "    <tr>\n",
       "      <th>4</th>\n",
       "      <td>2.021120e+13</td>\n",
       "      <td>20211206_9824</td>\n",
       "      <td>2021-12-06</td>\n",
       "      <td>9824.0</td>\n",
       "      <td>2021-12-06</td>\n",
       "      <td>11:00:00</td>\n",
       "      <td>1.638756e+09</td>\n",
       "      <td>ForecastRevision</td>\n",
       "      <td>2021-10-31</td>\n",
       "      <td>FY</td>\n",
       "      <td>...</td>\n",
       "      <td>337.75</td>\n",
       "      <td>NaN</td>\n",
       "      <td>NaN</td>\n",
       "      <td>NaN</td>\n",
       "      <td>NaN</td>\n",
       "      <td>NaN</td>\n",
       "      <td>NaN</td>\n",
       "      <td>NaN</td>\n",
       "      <td>NaN</td>\n",
       "      <td>NaN</td>\n",
       "    </tr>\n",
       "  </tbody>\n",
       "</table>\n",
       "<p>5 rows × 45 columns</p>\n",
       "</div>"
      ],
      "text/plain": [
       "   DisclosureNumber       DateCode        Date  SecuritiesCode DisclosedDate  \\\n",
       "0      2.021121e+13  20211206_1873  2021-12-06          1873.0    2021-12-06   \n",
       "1      2.021121e+13  20211206_4813  2021-12-06          4813.0    2021-12-06   \n",
       "2      2.021112e+13  20211206_4824  2021-12-06          4824.0    2021-12-06   \n",
       "3      2.021112e+13  20211206_6656  2021-12-06          6656.0    2021-12-06   \n",
       "4      2.021120e+13  20211206_9824  2021-12-06          9824.0    2021-12-06   \n",
       "\n",
       "  DisclosedTime  DisclosedUnixTime                            TypeOfDocument  \\\n",
       "0      15:00:00       1.638770e+09                          ForecastRevision   \n",
       "1      15:00:00       1.638770e+09     3QFinancialStatements_Consolidated_JP   \n",
       "2      08:30:00       1.638747e+09     1QFinancialStatements_Consolidated_JP   \n",
       "3      15:00:00       1.638770e+09  2QFinancialStatements_NonConsolidated_JP   \n",
       "4      11:00:00       1.638756e+09                          ForecastRevision   \n",
       "\n",
       "  CurrentPeriodEndDate TypeOfCurrentPeriod  ... ForecastEarningsPerShare  \\\n",
       "0           2021-10-31                  FY  ...                    40.00   \n",
       "1           2021-10-31                  3Q  ...                   -77.98   \n",
       "2           2021-10-31                  1Q  ...                     3.69   \n",
       "3           2021-10-31                  2Q  ...                    44.85   \n",
       "4           2021-10-31                  FY  ...                   337.75   \n",
       "\n",
       "  ApplyingOfSpecificAccountingOfTheQuarterlyFinancialStatements  \\\n",
       "0                                                NaN              \n",
       "1                                                NaN              \n",
       "2                                                NaN              \n",
       "3                                              False              \n",
       "4                                                NaN              \n",
       "\n",
       "   MaterialChangesInSubsidiaries  ChangesBasedOnRevisionsOfAccountingStandard  \\\n",
       "0                            NaN                                          NaN   \n",
       "1                           True                                        False   \n",
       "2                          False                                        False   \n",
       "3                            NaN                                         True   \n",
       "4                            NaN                                          NaN   \n",
       "\n",
       "   ChangesOtherThanOnesBasedOnRevisionsOfAccountingStandard  \\\n",
       "0                                                NaN          \n",
       "1                                              False          \n",
       "2                                              False          \n",
       "3                                              False          \n",
       "4                                                NaN          \n",
       "\n",
       "   ChangesInAccountingEstimates  RetrospectiveRestatement  \\\n",
       "0                           NaN                       NaN   \n",
       "1                         False                     False   \n",
       "2                         False                     False   \n",
       "3                         False                     False   \n",
       "4                           NaN                       NaN   \n",
       "\n",
       "   NumberOfIssuedAndOutstandingSharesAtTheEndOfFiscalYearIncludingTreasuryStock  \\\n",
       "0                                                NaN                              \n",
       "1                                         39633000.0                              \n",
       "2                                          9766800.0                              \n",
       "3                                          3790400.0                              \n",
       "4                                                NaN                              \n",
       "\n",
       "   NumberOfTreasuryStockAtTheEndOfFiscalYear  AverageNumberOfShares  \n",
       "0                                        NaN                    NaN  \n",
       "1                                   466421.0             39095375.0  \n",
       "2                                    23345.0              9743455.0  \n",
       "3                                      156.0              3790170.0  \n",
       "4                                        NaN                    NaN  \n",
       "\n",
       "[5 rows x 45 columns]"
      ]
     },
     "execution_count": 130,
     "metadata": {},
     "output_type": "execute_result"
    }
   ],
   "source": [
    "stock_list.head()"
   ]
  },
  {
   "cell_type": "code",
   "execution_count": null,
   "id": "quick-speaking",
   "metadata": {},
   "outputs": [],
   "source": [
    "kaggle/data/example_test_files/financials.csv"
   ]
  },
  {
   "cell_type": "code",
   "execution_count": 122,
   "id": "acquired-invite",
   "metadata": {},
   "outputs": [],
   "source": [
    "stock_fn = pd.read_csv(\"../../kaggle/data/supplemental_files/financials.csv\")"
   ]
  },
  {
   "cell_type": "code",
   "execution_count": 129,
   "id": "compact-rubber",
   "metadata": {},
   "outputs": [
    {
     "data": {
      "text/plain": [
       "array(['ForecastRevision', '3QFinancialStatements_Consolidated_JP',\n",
       "       '1QFinancialStatements_Consolidated_JP',\n",
       "       '2QFinancialStatements_NonConsolidated_JP', 'NumericalCorrection',\n",
       "       'FYFinancialStatements_Consolidated_JP',\n",
       "       '3QFinancialStatements_NonConsolidated_JP',\n",
       "       '2QFinancialStatements_Consolidated_JP'], dtype=object)"
      ]
     },
     "execution_count": 129,
     "metadata": {},
     "output_type": "execute_result"
    }
   ],
   "source": [
    "stock_fn.TypeOfDocument.unique()"
   ]
  },
  {
   "cell_type": "code",
   "execution_count": 131,
   "id": "cloudy-chapter",
   "metadata": {},
   "outputs": [
    {
     "data": {
      "text/plain": [
       "array(['20211206_1873', '20211206_4813', '20211206_4824', '20211206_6656',\n",
       "       '20211206_9824', '20211207_1783', '20211207_2375', '20211207_2695',\n",
       "       '20211207_3566', '20211207_3854', '20211207_6696', '20211207_7196',\n",
       "       '20211207_7354', '20211207_7435'], dtype=object)"
      ]
     },
     "execution_count": 131,
     "metadata": {},
     "output_type": "execute_result"
    }
   ],
   "source": [
    "(stock_fn.DateCode).unique()"
   ]
  }
 ],
 "metadata": {
  "kernelspec": {
   "display_name": "Python 3",
   "language": "python",
   "name": "python3"
  },
  "language_info": {
   "codemirror_mode": {
    "name": "ipython",
    "version": 3
   },
   "file_extension": ".py",
   "mimetype": "text/x-python",
   "name": "python",
   "nbconvert_exporter": "python",
   "pygments_lexer": "ipython3",
   "version": "3.7.9"
  }
 },
 "nbformat": 4,
 "nbformat_minor": 5
}
