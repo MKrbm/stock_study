{
 "cells": [
  {
   "cell_type": "markdown",
   "id": "d913bf12-e509-408a-82d4-23953b9cc52b",
   "metadata": {},
   "source": [
    "# Japan Exchange GroupがSIGNATEで提供している教材で勉強中"
   ]
  },
  {
   "cell_type": "markdown",
   "id": "25f2969c-14a3-4eb2-b3a7-3522295336b5",
   "metadata": {},
   "source": [
    "### 並走歓迎（リンク：https://quest.signate.jp/quests/10058)"
   ]
  },
  {
   "cell_type": "markdown",
   "id": "586f3bdf-36bb-4759-98c6-2a0cbf6b575a",
   "metadata": {},
   "source": [
    "ファンダメンタル情報とは\n",
    "- 対象銘柄の純資産といった財務状況や当期純利益といった業績状態を表す情報。\n",
    "- 各銘柄の成長性、収益性、安全性、割安度などの投資判断に活用することができる。"
   ]
  },
  {
   "cell_type": "markdown",
   "id": "0badd0fd-9e65-4d9d-85e2-f28a296bc19e",
   "metadata": {},
   "source": [
    "## Pandas "
   ]
  },
  {
   "cell_type": "markdown",
   "id": "ad2696ae-a1df-479a-8679-d7b921a5643a",
   "metadata": {},
   "source": [
    "pd.describe()  \n",
    "pd.info()"
   ]
  },
  {
   "cell_type": "code",
   "execution_count": null,
   "id": "a788aeb3-78a8-4926-b029-378b0b7404f0",
   "metadata": {},
   "outputs": [],
   "source": []
  }
 ],
 "metadata": {
  "kernelspec": {
   "display_name": "Python 3 (ipykernel)",
   "language": "python",
   "name": "python3"
  },
  "language_info": {
   "codemirror_mode": {
    "name": "ipython",
    "version": 3
   },
   "file_extension": ".py",
   "mimetype": "text/x-python",
   "name": "python",
   "nbconvert_exporter": "python",
   "pygments_lexer": "ipython3",
   "version": "3.8.10"
  }
 },
 "nbformat": 4,
 "nbformat_minor": 5
}
